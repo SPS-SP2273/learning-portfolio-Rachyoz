{
 "cells": [
  {
   "attachments": {},
   "cell_type": "markdown",
   "id": "123456",
   "metadata": {},
   "source": [
    "<div style=\"text-align:left;font-size:2em\"><span style=\"font-weight:bolder;font-size:1.25em\">SP2273 | Learning Portfolio</span><br><br><span style=\"font-weight:bold;color:darkred\">Functions (Good) Exercises</span></div>"
   ]
  },
  {
   "cell_type": "markdown",
   "id": "2f467dec-60db-4b54-9c81-7cc9ba93973f",
   "metadata": {},
   "source": [
    "Exercise 1"
   ]
  },
  {
   "cell_type": "code",
   "execution_count": 1,
   "id": "6d27c156-7557-40eb-92d0-36b5ca814e6e",
   "metadata": {},
   "outputs": [],
   "source": [
    "def convert_celsius(temperature_celsius, target_scale='Fahrenheit'):\n",
    "    if target_scale=='Fahrenheit':\n",
    "        temperature_converted=temperature_celsius*9/5+32\n",
    "    elif target_scale=='Kelvin': #check if the previous condition was met, if not met, the condition after 'elif' is checked, corresponding code executed if 'True'\n",
    "        temperature_converted=temperature_celsius+273.15\n",
    "    else: \n",
    "        raise ValueError(\"Invalid target_scale. Please use 'Fahrenheit' or 'Kelvin'.\")\n",
    "    return temperature_converted\n",
    "\n",
    "temperature_celsius=25.0\n",
    "temperature_converted_Fahrenheit=convert_celsius(temperature_celsius)\n",
    "temperature_converted_kelvin=convert_celsius(temperature_celsius,target_scale='Kelvin')\n",
    "    \n"
   ]
  },
  {
   "cell_type": "code",
   "execution_count": 10,
   "id": "0fd80617-5eef-4250-955d-82a6039aa47a",
   "metadata": {},
   "outputs": [
    {
     "name": "stdin",
     "output_type": "stream",
     "text": [
      "Give me a temperature in celsius and I will convert it to Fahrenheit 89\n"
     ]
    },
    {
     "name": "stdout",
     "output_type": "stream",
     "text": [
      "The temperature of 89 Celsius in Farenheit is 192.2\n"
     ]
    }
   ],
   "source": [
    "Celsius_temperature=input(\"Give me a temperature in celsius and I will convert it to Fahrenheit\")\n",
    "farenheit_temperature=convert_celsius(float(Celsius_temperature))\n",
    "print(f'The temperature of {Celsius_temperature} Celsius in Farenheit is {farenheit_temperature}')\n"
   ]
  },
  {
   "cell_type": "code",
   "execution_count": 3,
   "id": "8193e25b-182c-4148-a5bf-7c472f3a12e4",
   "metadata": {},
   "outputs": [
    {
     "name": "stdin",
     "output_type": "stream",
     "text": [
      "Give me a temperature in celsius and I will convert it to Fahrenheit 90\n"
     ]
    },
    {
     "name": "stdout",
     "output_type": "stream",
     "text": [
      "aiyo\n"
     ]
    }
   ],
   "source": [
    "try:\n",
    "    Celsius=input(\"Give me a temperature in celsius and I will convert it to Fahrenheit\")\n",
    "    Fahrenheit=(Celsius)*9/5+32 #dont need to put int \n",
    "    print(f'The temperature of {Celsius} Celsius in Farenheit is {Fahrenheit}')\n",
    "\n",
    "except: \n",
    "    print(\"aiyo\")\n",
    "    \n",
    "    "
   ]
  },
  {
   "cell_type": "code",
   "execution_count": 4,
   "id": "30c5c829-a6b2-4f9a-a4f4-bb77f73a7c0b",
   "metadata": {},
   "outputs": [
    {
     "name": "stdout",
     "output_type": "stream",
     "text": [
      "25.0 Celsius is 77.0 Fahrenheit\n",
      "25.0 Celsius is 298.15 Kelvin\n"
     ]
    }
   ],
   "source": [
    "def convert_celsius(temperature_celsius, target_scale='Fahrenheit'):\n",
    "    if target_scale=='Fahrenheit':\n",
    "        temperature_converted=temperature_celsius*9/5+32\n",
    "    elif target_scale=='Kelvin': #check if the previous condition was met, if not met, the condition after 'elif' is checked, corresponding code executed if 'True'\n",
    "        temperature_converted=temperature_celsius+273.15\n",
    "    else: \n",
    "        raise ValueError(\"Invalid target_scale. Please use 'Fahrenheit' or 'Kelvin'.\")\n",
    "    return temperature_converted\n",
    "\n",
    "celsius_temperature = 25.0\n",
    "fahrenheit_result = convert_celsius(celsius_temperature)\n",
    "kelvin_result = convert_celsius(celsius_temperature, target_scale='Kelvin')\n",
    "\n",
    "print(f\"{celsius_temperature} Celsius is {fahrenheit_result} Fahrenheit\")\n",
    "print(f\"{celsius_temperature} Celsius is {kelvin_result} Kelvin\")"
   ]
  },
  {
   "cell_type": "markdown",
   "id": "429366fa-334b-4f5a-a5a2-9607614e4eeb",
   "metadata": {},
   "source": [
    "Exercise 2"
   ]
  },
  {
   "cell_type": "code",
   "execution_count": 5,
   "id": "2546e8e2-77bf-4b60-8316-9181797c3f1b",
   "metadata": {},
   "outputs": [],
   "source": [
    "def convert_fahrenheit(temperature_fahrenheit,target_scale='Celsius'):\n",
    "    if target_scale=='Celsius':\n",
    "        temperature_converted=(temperature_fahrenheit-32)*5/9\n",
    "    elif target_scale=='Kelvin':\n",
    "        temperature_converted=(temperature_fahrenheit-32)*5/9+273.15\n",
    "    else: \n",
    "        raise ValueError (\"Invalid target_scale. Please use 'Celsius' or 'Kelvin'.\") #if people input english alphabet etc\n",
    "    return temperature_converted\n",
    "    "
   ]
  },
  {
   "cell_type": "markdown",
   "id": "91559d35-e848-461d-b70b-586c44bca5d4",
   "metadata": {},
   "source": [
    "Exercise 3"
   ]
  },
  {
   "cell_type": "code",
   "execution_count": 6,
   "id": "692b2e50-eccc-4514-984f-9844136bbf61",
   "metadata": {},
   "outputs": [],
   "source": [
    "def convert_kelvin(temperature_kelvin, target_scale='Celsius'):\n",
    "    if target_scale=='Celsius':\n",
    "        temperature_converted=(temperature_kelvin)-273.15\n",
    "    elif target_scale=='Fahrenheit':\n",
    "        temperature_converted=(temperature_kelvin-273.15)*9/5+32\n",
    "    else: \n",
    "        raise ValueError (\"Invalid target_scale. Please use 'Celsius' or 'Kelvin'.\")\n",
    "    return temperature_converted"
   ]
  },
  {
   "cell_type": "code",
   "execution_count": 11,
   "id": "f9a000d8-0f49-4734-9ccc-7765526e057f",
   "metadata": {},
   "outputs": [
    {
     "data": {
      "text/plain": [
       "95.0"
      ]
     },
     "execution_count": 11,
     "metadata": {},
     "output_type": "execute_result"
    }
   ],
   "source": [
    "convert_celsius(35, \"Fahrenheit\")"
   ]
  },
  {
   "cell_type": "code",
   "execution_count": null,
   "id": "f330b44c-dfa7-4e6c-b090-9cd6b9c98804",
   "metadata": {},
   "outputs": [],
   "source": [
    "input(\"test\")"
   ]
  },
  {
   "cell_type": "code",
   "execution_count": 9,
   "id": "14895b66-95c2-47e5-a42b-791e5866ad23",
   "metadata": {},
   "outputs": [
    {
     "name": "stdin",
     "output_type": "stream",
     "text": [
      "What's the temperature?  90\n",
      "Choose the source scale. Type only Celsius, Fahrenheit, or Kelvin:  Kelvin\n",
      "Choose the target scale. Type only Celsius, Fahrenheit, or Kelvin:  Celsius\n"
     ]
    },
    {
     "name": "stdout",
     "output_type": "stream",
     "text": [
      "90.0 is -183.14999999999998\n"
     ]
    }
   ],
   "source": [
    "def convert_temperature(temperature, source_scale, target_scale):\n",
    "    if source_scale=='Celsius':\n",
    "        return convert_celsius(temperature, target_scale)\n",
    "    elif source_scale=='Fahrenheit':\n",
    "        return convert_fahrenheit (temperature, target_scale)\n",
    "    elif source_scale=='Kelvin':\n",
    "        return convert_kelvin(temperature,target_scale)\n",
    "    else: \n",
    "        raise ValueError (\"Invalid target_scale. Please use 'Celsius' or 'Kelvin' or 'Fahrenheit'\")\n",
    "    \n",
    "\n",
    "temperature = float(input(\"What's the temperature? \"))\n",
    "source = input(\"Choose the source scale. Type only Celsius, Fahrenheit, or Kelvin: \")\n",
    "target = input(\"Choose the target scale. Type only Celsius, Fahrenheit, or Kelvin: \")\n",
    "result= convert_temperature(temperature, source, target)\n",
    "\n",
    "print(f\"{temperature} is {result}\")\n",
    "        \n",
    "    \n",
    "\n",
    "    "
   ]
  },
  {
   "cell_type": "code",
   "execution_count": null,
   "id": "df2edf13-a01b-4404-9511-46a3612501f3",
   "metadata": {},
   "outputs": [],
   "source": []
  }
 ],
 "metadata": {
  "kernelspec": {
   "display_name": "Python 3 (ipykernel)",
   "language": "python",
   "name": "python3"
  },
  "language_info": {
   "codemirror_mode": {
    "name": "ipython",
    "version": 3
   },
   "file_extension": ".py",
   "mimetype": "text/x-python",
   "name": "python",
   "nbconvert_exporter": "python",
   "pygments_lexer": "ipython3",
   "version": "3.11.5"
  },
  "toc": {
   "base_numbering": 1,
   "nav_menu": {},
   "number_sections": true,
   "sideBar": true,
   "skip_h1_title": false,
   "title_cell": "Table of Contents",
   "title_sidebar": "Contents",
   "toc_cell": false,
   "toc_position": {},
   "toc_section_display": true,
   "toc_window_display": false
  },
  "vscode": {
   "interpreter": {
    "hash": "31f2aee4e71d21fbe5cf8b01ff0e069b9275f58929596ceb00d14d90e3e16cd6"
   }
  }
 },
 "nbformat": 4,
 "nbformat_minor": 5
}
