{
 "cells": [
  {
   "attachments": {},
   "cell_type": "markdown",
   "id": "123456",
   "metadata": {},
   "source": [
    "<div style=\"text-align:left;font-size:2em\"><span style=\"font-weight:bolder;font-size:1.25em\">SP2273 | Learning Portfolio</span><br><br><span style=\"font-weight:bold;color:darkred\">Functions (Need) Exercises</span></div>"
   ]
  },
  {
   "cell_type": "markdown",
   "id": "48e18f0e-7413-407f-b37a-69a8600de680",
   "metadata": {},
   "source": [
    "Exercise 1"
   ]
  },
  {
   "cell_type": "code",
   "execution_count": 1,
   "id": "93406b3c-1088-4680-9046-c7fec2ca91c3",
   "metadata": {},
   "outputs": [],
   "source": [
    "def greeting(name):\n",
    "    if name == 'Batman':\n",
    "        return 'Hello Batman! So, nice to meet you!'\n",
    "    return f'Hello {name}!'"
   ]
  },
  {
   "cell_type": "code",
   "execution_count": 2,
   "id": "01d47bf6-01ff-4b18-9f50-b97df954d1c9",
   "metadata": {},
   "outputs": [
    {
     "data": {
      "text/plain": [
       "'Hello hahaaha!'"
      ]
     },
     "execution_count": 2,
     "metadata": {},
     "output_type": "execute_result"
    }
   ],
   "source": [
    "greeting('hahaaha')"
   ]
  },
  {
   "cell_type": "code",
   "execution_count": 3,
   "id": "aca8801c-49ec-4b55-a76c-dedf7c611047",
   "metadata": {},
   "outputs": [
    {
     "data": {
      "text/plain": [
       "'Hello Batman! So, nice to meet you!'"
      ]
     },
     "execution_count": 3,
     "metadata": {},
     "output_type": "execute_result"
    }
   ],
   "source": [
    "greeting('Batman')"
   ]
  },
  {
   "cell_type": "markdown",
   "id": "c4578db5-1804-4298-980e-a9c9190636d4",
   "metadata": {},
   "source": [
    "The code outside the 'if' statement will be executed regardless of the condition being true or false.\n",
    "If 'name'='Batman' the block of code inside the 'if' will be executed. If 'name' is not equal to 'Batman', the second block of code outside the 'if' statement will be executed. "
   ]
  },
  {
   "cell_type": "markdown",
   "id": "7606c78c-9d92-4070-8b9a-27b29733761d",
   "metadata": {},
   "source": [
    "Exercise 2"
   ]
  },
  {
   "cell_type": "code",
   "execution_count": 4,
   "id": "ea658d6b-bd2d-484c-aff3-763f9f1eafaa",
   "metadata": {},
   "outputs": [],
   "source": [
    "import numpy as np"
   ]
  },
  {
   "cell_type": "code",
   "execution_count": null,
   "id": "0fabc37c-d8b2-48da-a03f-d1151ef9d4b9",
   "metadata": {},
   "outputs": [],
   "source": [
    "def calculate_bmi(weight, height):  #defines a function named 'calculate bmi' with 2 parameters 'weight' and 'height'\n",
    "    bmi = weight / (height ** 2)\n",
    "    \n",
    "    if bmi<18.5:\n",
    "        return 'Underweight'\n",
    "    elif 18.5 <=bmi<=24.9:\n",
    "        return 'Normal weight'\n",
    "    elif 25<=bmi<=29.9:\n",
    "        return 'Overweight'\n",
    "    elif bmi>30:\n",
    "        return 'Obesity'\n",
    "#determine the BMI category based on the calculated bmi\n",
    "\n",
    "bmi_category=calculate_bmi(weight,height) #calls the 'calculate_bmi' function with the provided 'weight' and 'height' values, storing the result in the variable 'BMI_category'\n",
    "print(f'The BMI category is: {bmi_category}')"
   ]
  }
 ],
 "metadata": {
  "kernelspec": {
   "display_name": "Python 3 (ipykernel)",
   "language": "python",
   "name": "python3"
  },
  "language_info": {
   "codemirror_mode": {
    "name": "ipython",
    "version": 3
   },
   "file_extension": ".py",
   "mimetype": "text/x-python",
   "name": "python",
   "nbconvert_exporter": "python",
   "pygments_lexer": "ipython3",
   "version": "3.11.5"
  },
  "toc": {
   "base_numbering": 1,
   "nav_menu": {},
   "number_sections": true,
   "sideBar": true,
   "skip_h1_title": false,
   "title_cell": "Table of Contents",
   "title_sidebar": "Contents",
   "toc_cell": false,
   "toc_position": {},
   "toc_section_display": true,
   "toc_window_display": false
  },
  "vscode": {
   "interpreter": {
    "hash": "31f2aee4e71d21fbe5cf8b01ff0e069b9275f58929596ceb00d14d90e3e16cd6"
   }
  }
 },
 "nbformat": 4,
 "nbformat_minor": 5
}
