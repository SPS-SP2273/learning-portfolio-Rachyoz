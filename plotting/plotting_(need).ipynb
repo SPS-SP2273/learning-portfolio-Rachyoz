{
 "cells": [
  {
   "attachments": {},
   "cell_type": "markdown",
   "id": "123456",
   "metadata": {},
   "source": [
    "<div style=\"text-align:left;font-size:2em\"><span style=\"font-weight:bolder;font-size:1.25em\">SP2273 | Learning Portfolio</span><br><br><span style=\"font-weight:bold;color:darkred\">Plotting (Need)</span></div>"
   ]
  },
  {
   "attachments": {},
   "cell_type": "markdown",
   "id": "9c84d6ca",
   "metadata": {},
   "source": [
    "What to expect in this chapter"
   ]
  },
  {
   "attachments": {},
   "cell_type": "markdown",
   "id": "a71cc0e4",
   "metadata": {},
   "source": [
    "# A simple plot"
   ]
  },
  {
   "attachments": {},
   "cell_type": "markdown",
   "id": "791d0b8d",
   "metadata": {},
   "source": [
    "## Let’s look at some code."
   ]
  },
  {
   "cell_type": "code",
   "execution_count": 1,
   "id": "0c063a19-4b83-44dc-9a65-f93528236fd0",
   "metadata": {},
   "outputs": [
    {
     "ename": "NameError",
     "evalue": "name 'plt' is not defined",
     "output_type": "error",
     "traceback": [
      "\u001b[1;31m---------------------------------------------------------------------------\u001b[0m",
      "\u001b[1;31mNameError\u001b[0m                                 Traceback (most recent call last)",
      "Cell \u001b[1;32mIn[1], line 7\u001b[0m\n\u001b[0;32m      4\u001b[0m y_2 \u001b[38;5;241m=\u001b[39m [\u001b[38;5;241m0\u001b[39m, \u001b[38;5;241m3\u001b[39m, \u001b[38;5;241m6\u001b[39m, \u001b[38;5;241m9\u001b[39m, \u001b[38;5;241m12\u001b[39m, \u001b[38;5;241m15\u001b[39m, \u001b[38;5;241m18\u001b[39m]\n\u001b[0;32m      6\u001b[0m \u001b[38;5;66;03m# Let's start plotting\u001b[39;00m\n\u001b[1;32m----> 7\u001b[0m \u001b[43mplt\u001b[49m\u001b[38;5;241m.\u001b[39mplot(x, y_1, label\u001b[38;5;241m=\u001b[39m\u001b[38;5;124m'\u001b[39m\u001b[38;5;124mY values\u001b[39m\u001b[38;5;124m'\u001b[39m,\n\u001b[0;32m      8\u001b[0m          color\u001b[38;5;241m=\u001b[39m\u001b[38;5;124m'\u001b[39m\u001b[38;5;124mred\u001b[39m\u001b[38;5;124m'\u001b[39m, linestyle\u001b[38;5;241m=\u001b[39m\u001b[38;5;124m'\u001b[39m\u001b[38;5;124mdashed\u001b[39m\u001b[38;5;124m'\u001b[39m)\n\u001b[0;32m      9\u001b[0m plt\u001b[38;5;241m.\u001b[39mxlabel(\u001b[38;5;124m'\u001b[39m\u001b[38;5;124mx-values\u001b[39m\u001b[38;5;124m'\u001b[39m)\n\u001b[0;32m     10\u001b[0m plt\u001b[38;5;241m.\u001b[39mylabel(\u001b[38;5;124m'\u001b[39m\u001b[38;5;124my-values\u001b[39m\u001b[38;5;124m'\u001b[39m)\n",
      "\u001b[1;31mNameError\u001b[0m: name 'plt' is not defined"
     ]
    }
   ],
   "source": [
    "# Some data for plotting\n",
    "x = [0, 1, 2, 3, 4, 5, 6]\n",
    "y_1 = [0, 2, 4, 6, 8, 10, 12]\n",
    "y_2 = [0, 3, 6, 9, 12, 15, 18]\n",
    "\n",
    "# Let's start plotting\n",
    "plt.plot(x, y_1, label='Y values',\n",
    "         color='red', linestyle='dashed')\n",
    "plt.xlabel('x-values')\n",
    "plt.ylabel('y-values')\n",
    "plt.title('X vs Y')\n",
    "plt.grid(alpha=.25)\n",
    "plt.legend(loc='upper left')"
   ]
  },
  {
   "attachments": {},
   "cell_type": "markdown",
   "id": "adf9b336",
   "metadata": {},
   "source": [
    "### Things to note"
   ]
  },
  {
   "cell_type": "code",
   "execution_count": null,
   "id": "c171c845",
   "metadata": {},
   "outputs": [],
   "source": [
    "plt.plot(x, y, color='red', linestyle='dashed', linewidth=2)"
   ]
  },
  {
   "cell_type": "code",
   "execution_count": null,
   "id": "c6a77422-f4f0-497d-ad1e-40892dbe5619",
   "metadata": {},
   "outputs": [],
   "source": [
    "plt.plot(x, y, c='red', ls='dashed', lw=2)"
   ]
  },
  {
   "cell_type": "code",
   "execution_count": null,
   "id": "b7a9f63a-024f-4026-af1c-13015f6e6928",
   "metadata": {},
   "outputs": [],
   "source": [
    "#plotting function usually have default values for styling parameters, can keep it simple and plot just using: \n",
    "plt.plot(x, y_1, y_2)"
   ]
  },
  {
   "cell_type": "code",
   "execution_count": null,
   "id": "a22d2f29-a8e3-443a-90b5-fb87778f3402",
   "metadata": {},
   "outputs": [],
   "source": [
    "plt.plot(x, y, color='red', linestyle='dashed', linewidth=2) #or..."
   ]
  },
  {
   "cell_type": "code",
   "execution_count": null,
   "id": "f6e3b8fc-01d5-4a7e-abee-b2ab392f3c21",
   "metadata": {},
   "outputs": [],
   "source": [
    "plt.plot(x, y_1, label='Y values',\n",
    "           color='red', linestyle='dashed')"
   ]
  },
  {
   "attachments": {},
   "cell_type": "markdown",
   "id": "3989b3ce",
   "metadata": {},
   "source": [
    "## Adding another plot"
   ]
  },
  {
   "cell_type": "code",
   "execution_count": null,
   "id": "12baefcb-4f1a-4967-ba6e-9708e668cb8a",
   "metadata": {},
   "outputs": [],
   "source": [
    "plt.plot(x, y_2,\n",
    "         label='Y2 values', color='blue')\n",
    "\n",
    "#adding another plot of data y_2"
   ]
  },
  {
   "cell_type": "code",
   "execution_count": null,
   "id": "b7b49425-1cda-4ff8-9fd9-0122c3dc0d44",
   "metadata": {},
   "outputs": [],
   "source": [
    "# Some data for plotting\n",
    "x = [0, 1, 2, 3, 4, 5, 6]\n",
    "y_1 = [0, 2, 4, 6, 8, 10, 12]\n",
    "y_2 = [0, 3, 6, 9, 12, 15, 18]\n",
    "\n",
    "# Lets start plotting\n",
    "plt.plot(x, y_1, label='Y1 values', color='red', linestyle='dashed')\n",
    "plt.plot(x, y_2, label='Y2 values', color='blue')\n",
    "plt.xlabel('x-values')\n",
    "plt.ylabel('y-values')\n",
    "plt.title('X vs Y')\n",
    "plt.grid(alpha=.25)\n",
    "plt.legend(loc='upper left')"
   ]
  },
  {
   "attachments": {},
   "cell_type": "markdown",
   "id": "a0e0c1d0",
   "metadata": {},
   "source": [
    "## Yet another plot but with error bars"
   ]
  },
  {
   "cell_type": "code",
   "execution_count": null,
   "id": "81102986-6fdb-4c87-a12d-f38bbbd1f63f",
   "metadata": {},
   "outputs": [],
   "source": [
    "plt.errorbar(x, y_3,\n",
    "             xerr=x_error, yerr=y_error,\n",
    "             label=\"Y3 with errors\",\n",
    "             color=\"green\")"
   ]
  },
  {
   "cell_type": "code",
   "execution_count": null,
   "id": "31fc3221-118a-47ad-bf25-90bef8738b92",
   "metadata": {},
   "outputs": [],
   "source": [
    "# Some data for plotting\n",
    "x = [0, 1, 2, 3, 4, 5, 6]\n",
    "y_1 = [0, 2, 4, 6, 8, 10, 12]\n",
    "y_2 = [0, 3, 6, 9, 12, 15, 18]\n",
    "y_3 = [0, 4, 8, 12, 16, 20, 24]\n",
    "x_error, y_error = .1, 0.75\n",
    "\n",
    "# Lets start plotting\n",
    "plt.plot(x, y_1, label='Y1 values', color='red', linestyle='dashed',)\n",
    "plt.plot(x, y_2, label='Y2 values', color='blue', )\n",
    "plt.errorbar(x, y_3, xerr=x_error, yerr=y_error,\n",
    "             label='Y3 with errors', color='green')\n",
    "plt.xlabel('x-values')\n",
    "plt.ylabel('y-values')\n",
    "plt.title('X vs Y')\n",
    "plt.grid(alpha=.25)\n",
    "plt.legend(loc='upper left')"
   ]
  },
  {
   "attachments": {},
   "cell_type": "markdown",
   "id": "cda9149a",
   "metadata": {},
   "source": [
    "# Better with NumPy"
   ]
  },
  {
   "cell_type": "code",
   "execution_count": null,
   "id": "01546428-3cc8-4c8f-89c8-afae6922f00e",
   "metadata": {},
   "outputs": [],
   "source": [
    "# Some data for plotting\n",
    "x = [0, 1, 2, 3, 4, 5, 6]\n",
    "y_1 = [0, 2, 4, 6, 8, 10, 12]\n",
    "y_2 = [0, 3, 6, 9, 12, 15, 18]\n",
    "\n",
    "np_x = np.array(x)\n",
    "np_y_1 = np.array(y_1)\n",
    "np_y_2 = np.array(y_2)\n",
    "\n",
    "plt.plot(np_x, np_y_1, color='red', linestyle='dashed', label='Y values')\n",
    "plt.plot(np_x, np_y_2, color='blue', label='Y2 values')\n",
    "\n",
    "#advantage of numpy arrays: generate data-related mathematical functions easily"
   ]
  },
  {
   "attachments": {},
   "cell_type": "markdown",
   "id": "89eaa7a9",
   "metadata": {},
   "source": [
    "## Adding mathematical functions"
   ]
  },
  {
   "cell_type": "code",
   "execution_count": null,
   "id": "5a0e70cd-c452-4ab4-9646-55c903de55de",
   "metadata": {},
   "outputs": [],
   "source": [
    "x = np.array([0, 1, 2, 3, 4, 5, 6])\n",
    "\n",
    "x2 = x**2                  # The math stuff\n",
    "sin_x = np.sin(x)\n",
    "\n",
    "plt.plot(x, x2, label='x^2',\n",
    "         color='red', linestyle='dashed', )\n",
    "plt.plot(x, sin_x, label='sin(x)',\n",
    "         color='blue')\n",
    "plt.legend()                                 \n",
    "\n",
    "#the plot doesn't look good because sin(x) lies between +- 1, but x^2 has no such bounds --> need to add another y-axis that shares the same x-axis"
   ]
  },
  {
   "attachments": {},
   "cell_type": "markdown",
   "id": "98fc7756",
   "metadata": {},
   "source": [
    "## We need another axis!"
   ]
  },
  {
   "cell_type": "code",
   "execution_count": null,
   "id": "2f8b3b1e-9878-454a-87d8-c2436e2dd8a7",
   "metadata": {},
   "outputs": [],
   "source": [
    "x = np.array([0, 1, 2, 3, 4, 5, 6])\n",
    "x2 = x**2\n",
    "sin_x = np.sin(x)\n",
    "\n",
    "plt.plot(x, x2, label='x^2',color='red', linestyle='dashed')\n",
    "plt.legend(loc='lower left')                                  # For y-axis 1\n",
    "\n",
    "plt.twinx()                                                   # This creates a new y-axis \n",
    "                                                              # for the plots that comes after\n",
    "plt.plot(x, sin_x, label='sin(x)',color='blue', )\n",
    "plt.legend(loc='lower right')                                 # For y-axis 2"
   ]
  },
  {
   "attachments": {},
   "cell_type": "markdown",
   "id": "4d42347d",
   "metadata": {},
   "source": [
    "### Things to note"
   ]
  },
  {
   "cell_type": "code",
   "execution_count": null,
   "id": "59dbba66",
   "metadata": {},
   "outputs": [],
   "source": [
    "x = np.linspace(0, 6, 100)"
   ]
  },
  {
   "attachments": {},
   "cell_type": "markdown",
   "id": "bd5a3fb2",
   "metadata": {},
   "source": [
    "# Saving to disc"
   ]
  },
  {
   "cell_type": "code",
   "execution_count": null,
   "id": "16522975-e715-4e67-98a2-18fcb2a56eaa",
   "metadata": {},
   "outputs": [],
   "source": [
    "x = np.linspace(0, 6, 100)\n",
    "x2 = x**2\n",
    "sin_x = np.sin(x)\n",
    "\n",
    "plt.plot(x, x2, label='x^2',\n",
    "         color='red', linestyle='dashed')\n",
    "plt.legend(loc='lower left')\n",
    "plt.twinx()\n",
    "plt.plot(x, sin_x,\n",
    "         label='sin x', color='blue')\n",
    "plt.legend(loc='lower right')\n",
    "\n",
    "plt.savefig('simple-plot.png', dpi=150)"
   ]
  },
  {
   "attachments": {},
   "cell_type": "markdown",
   "id": "110dd25d",
   "metadata": {},
   "source": [
    "# A real example: Global Warming"
   ]
  },
  {
   "cell_type": "code",
   "execution_count": null,
   "id": "7442d712-58e6-44c3-88ec-a2dfc2ea4b37",
   "metadata": {},
   "outputs": [],
   "source": []
  },
  {
   "attachments": {},
   "cell_type": "markdown",
   "id": "89ae6912",
   "metadata": {},
   "source": [
    "## Plotting data from files"
   ]
  },
  {
   "attachments": {},
   "cell_type": "markdown",
   "id": "34561e28",
   "metadata": {},
   "source": [
    "## Styles"
   ]
  },
  {
   "attachments": {},
   "cell_type": "markdown",
   "id": "64df3949",
   "metadata": {},
   "source": [
    "### xkcd!"
   ]
  },
  {
   "cell_type": "code",
   "execution_count": null,
   "id": "9c1234b9",
   "metadata": {},
   "outputs": [],
   "source": [
    "\n",
    "# Your code here\n"
   ]
  },
  {
   "attachments": {},
   "cell_type": "markdown",
   "id": "b3a6e78f",
   "metadata": {},
   "source": [
    "### Resetting styles"
   ]
  },
  {
   "cell_type": "code",
   "execution_count": null,
   "id": "5ac940a5",
   "metadata": {},
   "outputs": [],
   "source": [
    "\n",
    "# Your code here\n"
   ]
  }
 ],
 "metadata": {
  "kernelspec": {
   "display_name": "Python 3 (ipykernel)",
   "language": "python",
   "name": "python3"
  },
  "language_info": {
   "codemirror_mode": {
    "name": "ipython",
    "version": 3
   },
   "file_extension": ".py",
   "mimetype": "text/x-python",
   "name": "python",
   "nbconvert_exporter": "python",
   "pygments_lexer": "ipython3",
   "version": "3.11.5"
  },
  "toc": {
   "base_numbering": 1,
   "nav_menu": {},
   "number_sections": true,
   "sideBar": true,
   "skip_h1_title": false,
   "title_cell": "Table of Contents",
   "title_sidebar": "Contents",
   "toc_cell": false,
   "toc_position": {},
   "toc_section_display": true,
   "toc_window_display": false
  },
  "vscode": {
   "interpreter": {
    "hash": "31f2aee4e71d21fbe5cf8b01ff0e069b9275f58929596ceb00d14d90e3e16cd6"
   }
  }
 },
 "nbformat": 4,
 "nbformat_minor": 5
}
