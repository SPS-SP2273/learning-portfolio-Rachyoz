{
 "cells": [
  {
   "attachments": {},
   "cell_type": "markdown",
   "id": "123456",
   "metadata": {},
   "source": [
    "<div style=\"text-align:left;font-size:2em\"><span style=\"font-weight:bolder;font-size:1.25em\">SP2273 | Learning Portfolio</span><br><br><span style=\"font-weight:bold;color:darkred\">Functions (Need)</span></div>"
   ]
  },
  {
   "attachments": {},
   "cell_type": "markdown",
   "id": "f547435a",
   "metadata": {},
   "source": [
    "# User-defined functions"
   ]
  },
  {
   "attachments": {},
   "cell_type": "markdown",
   "id": "e1b17997",
   "metadata": {},
   "source": [
    "## Named Functions"
   ]
  },
  {
   "cell_type": "code",
   "execution_count": 32,
   "id": "6824e683-23d4-4f9f-8875-4e7c8420f853",
   "metadata": {},
   "outputs": [],
   "source": [
    "import numpy as np"
   ]
  },
  {
   "attachments": {},
   "cell_type": "markdown",
   "id": "b287720a",
   "metadata": {},
   "source": [
    "### Named functions that return"
   ]
  },
  {
   "cell_type": "code",
   "execution_count": 1,
   "id": "50768697",
   "metadata": {},
   "outputs": [],
   "source": [
    "def greeting(name):\n",
    "    if name == 'Batman':\n",
    "        return 'Hello Batman! So, nice to meet you!'\n",
    "    else:\n",
    "        return f'Hello {name}!'\n"
   ]
  },
  {
   "cell_type": "code",
   "execution_count": 3,
   "id": "6f2caeff-7495-4c11-8c1f-f2b7d85fe55a",
   "metadata": {},
   "outputs": [],
   "source": [
    "def greeting_again(name):\n",
    "    if name == 'Batman':\n",
    "        print ('Hello Batman! So, nice to meet you!')\n",
    "    else:\n",
    "        print (f'Hello {name}!')\n"
   ]
  },
  {
   "cell_type": "code",
   "execution_count": 19,
   "id": "1ca589d6-f26b-48c6-a63b-0b47d95622a9",
   "metadata": {},
   "outputs": [
    {
     "data": {
      "text/plain": [
       "'Hello haha!'"
      ]
     },
     "execution_count": 19,
     "metadata": {},
     "output_type": "execute_result"
    }
   ],
   "source": [
    "greeting('haha') #returning the string hence the ''"
   ]
  },
  {
   "cell_type": "code",
   "execution_count": 26,
   "id": "5aeb0ea7-f03a-43ca-8801-44062b685748",
   "metadata": {},
   "outputs": [
    {
     "name": "stdout",
     "output_type": "stream",
     "text": [
      "Hello haha!\n"
     ]
    }
   ],
   "source": [
    "output=greeting('haha') \n",
    "print (output)"
   ]
  },
  {
   "cell_type": "code",
   "execution_count": 27,
   "id": "b0acaea2-dc6f-4580-b98a-554cbf10a567",
   "metadata": {},
   "outputs": [
    {
     "data": {
      "text/plain": [
       "'Hello haha!'"
      ]
     },
     "execution_count": 27,
     "metadata": {},
     "output_type": "execute_result"
    }
   ],
   "source": [
    "output #returns something"
   ]
  },
  {
   "cell_type": "code",
   "execution_count": 4,
   "id": "14eb6141-d5a4-4a87-b8e8-f9ecc80db5d5",
   "metadata": {},
   "outputs": [
    {
     "name": "stdout",
     "output_type": "stream",
     "text": [
      "Hello haha!\n"
     ]
    }
   ],
   "source": [
    "greeting_again('haha') #only printing hence no "
   ]
  },
  {
   "cell_type": "code",
   "execution_count": 6,
   "id": "82b8afc8-b484-4282-9fdc-635ab2a2a898",
   "metadata": {
    "scrolled": true
   },
   "outputs": [
    {
     "name": "stdout",
     "output_type": "stream",
     "text": [
      "Hello haha!\n",
      "None\n"
     ]
    }
   ],
   "source": [
    "output=greeting_again('haha')\n",
    "print(output)"
   ]
  },
  {
   "cell_type": "code",
   "execution_count": 25,
   "id": "f3dd2f9c-75ee-46e6-b154-6b1dcb2c435c",
   "metadata": {},
   "outputs": [],
   "source": [
    "output #returns nothing"
   ]
  },
  {
   "cell_type": "code",
   "execution_count": 7,
   "id": "2cdccdc0-0a89-4550-a30a-eb7882c8f8e6",
   "metadata": {},
   "outputs": [],
   "source": [
    "import numpy as np"
   ]
  },
  {
   "cell_type": "code",
   "execution_count": 11,
   "id": "63c08517-ecda-4b61-b159-3bcdcd46332c",
   "metadata": {},
   "outputs": [
    {
     "name": "stdout",
     "output_type": "stream",
     "text": [
      "Min: 5\n",
      "Max: 1\n",
      "Mean: 3.0\n"
     ]
    }
   ],
   "source": [
    "def basic_stats(numbers):\n",
    "    np_numbers = np.array(numbers)\n",
    "    my_min = np_numbers.min()\n",
    "    my_max = np_numbers.max()\n",
    "    my_mean = np_numbers.mean()\n",
    "    return my_max, my_min, my_mean\n",
    "\n",
    "list_min, list_max, list_mean = basic_stats([1, 2, 3, 4, 5])\\\n",
    "\n",
    "print(\"Min:\", list_min)\n",
    "print(\"Max:\", list_max)\n",
    "print(\"Mean:\", list_mean)"
   ]
  },
  {
   "cell_type": "markdown",
   "id": "6351aa62-cc88-4cce-8d51-bd2b69f227c8",
   "metadata": {},
   "source": [
    "### How to call a function"
   ]
  },
  {
   "cell_type": "code",
   "execution_count": 30,
   "id": "579f124e-caf0-4821-a13a-ffd4583b9fa9",
   "metadata": {},
   "outputs": [
    {
     "data": {
      "text/plain": [
       "'Hello Spider Man!'"
      ]
     },
     "execution_count": 30,
     "metadata": {},
     "output_type": "execute_result"
    }
   ],
   "source": [
    "greeting(\"Spider Man\")"
   ]
  },
  {
   "cell_type": "code",
   "execution_count": 29,
   "id": "924b9ae2-0a8c-4532-a0a1-3c67ff8f4e7e",
   "metadata": {},
   "outputs": [
    {
     "data": {
      "text/plain": [
       "'Hello Spider Man!'"
      ]
     },
     "execution_count": 29,
     "metadata": {},
     "output_type": "execute_result"
    }
   ],
   "source": [
    "greeting(name=\"Spider Man\")"
   ]
  },
  {
   "cell_type": "markdown",
   "id": "291bf854-55cc-4b5d-aabd-6e990bd81b77",
   "metadata": {},
   "source": [
    "### Function: Returning multiple values"
   ]
  },
  {
   "cell_type": "code",
   "execution_count": 12,
   "id": "fe88b340-819f-4cb0-8762-25910d557b75",
   "metadata": {},
   "outputs": [],
   "source": [
    "my_short_function = lambda name: f\"Hello {name}!\" #a lambda function that takes a single parameter 'name' and return formatted string greeting"
   ]
  },
  {
   "cell_type": "code",
   "execution_count": 31,
   "id": "ac1e883f-3621-4d09-83e8-d17a8b8f9cbb",
   "metadata": {},
   "outputs": [],
   "source": [
    "def basic_stats(numbers):\n",
    "    np_numbers = np.array(numbers)\n",
    "    my_min = np_numbers.min()\n",
    "    my_max = np_numbers.max()\n",
    "    my_mean = np_numbers.mean()\n",
    "    return my_max, my_min, my_mean"
   ]
  },
  {
   "cell_type": "code",
   "execution_count": 33,
   "id": "f83e8b5a-af37-4bbb-b1fd-7c451c0c12d5",
   "metadata": {},
   "outputs": [
    {
     "data": {
      "text/plain": [
       "(5, 1, 3.0)"
      ]
     },
     "execution_count": 33,
     "metadata": {},
     "output_type": "execute_result"
    }
   ],
   "source": [
    "basic_stats([1,2,3,4,5])"
   ]
  },
  {
   "cell_type": "code",
   "execution_count": 35,
   "id": "607b6599-9516-489c-95a9-07c4e767ea27",
   "metadata": {},
   "outputs": [],
   "source": [
    "def basic_stats(numbers):\n",
    "    np_numbers = np.array(numbers)\n",
    "    my_min = np_numbers.min()\n",
    "    my_max = np_numbers.max()\n",
    "    my_mean = np_numbers.mean()\n",
    "    \n",
    "    return [my_max, my_min, my_mean]"
   ]
  },
  {
   "cell_type": "code",
   "execution_count": 38,
   "id": "cc93493b-c0cd-4672-b408-185b9d82cca2",
   "metadata": {},
   "outputs": [
    {
     "data": {
      "text/plain": [
       "[5, 1, 3.0]"
      ]
     },
     "execution_count": 38,
     "metadata": {},
     "output_type": "execute_result"
    }
   ],
   "source": [
    "basic_stats([1,2,3,4,5])"
   ]
  },
  {
   "cell_type": "code",
   "execution_count": 39,
   "id": "c9ac0334-6371-4f62-971c-82fb3146f6ed",
   "metadata": {},
   "outputs": [],
   "source": [
    "list_min, list_max, list_mean = basic_stats([1, 2, 3, 4, 5])"
   ]
  },
  {
   "cell_type": "code",
   "execution_count": 41,
   "id": "28439355-f20b-4ab5-8d45-5ac65ae2ede0",
   "metadata": {},
   "outputs": [
    {
     "name": "stdout",
     "output_type": "stream",
     "text": [
      "(list_min=5, list_max=1, list_mean=3.0\n"
     ]
    }
   ],
   "source": [
    "print(f'({list_min=}, {list_max=}, {list_mean=}')"
   ]
  },
  {
   "attachments": {},
   "cell_type": "markdown",
   "id": "c415cd5e",
   "metadata": {},
   "source": [
    "### Named functions that don’t return"
   ]
  },
  {
   "cell_type": "code",
   "execution_count": null,
   "id": "df769549-3520-4e56-974d-6d9f91dac99d",
   "metadata": {},
   "outputs": [],
   "source": [
    "#print() does something but does not return a value"
   ]
  },
  {
   "cell_type": "code",
   "execution_count": null,
   "id": "809df24d",
   "metadata": {},
   "outputs": [],
   "source": [
    "\n",
    "# Your code here\n"
   ]
  },
  {
   "attachments": {},
   "cell_type": "markdown",
   "id": "67dab4eb",
   "metadata": {},
   "source": [
    "## Anonymous functions"
   ]
  },
  {
   "cell_type": "markdown",
   "id": "c903efd5-15f8-4cd6-b91e-7468ce7bd984",
   "metadata": {},
   "source": [
    "**Example 1**"
   ]
  },
  {
   "cell_type": "code",
   "execution_count": 42,
   "id": "2213cd43-8484-431a-9d6d-6053eda63e70",
   "metadata": {},
   "outputs": [],
   "source": [
    "my_short_function = lambda name: f\"Hello {name}!\""
   ]
  },
  {
   "cell_type": "code",
   "execution_count": 44,
   "id": "3ede6018-ac2a-4cf3-a1be-d3c0d3942a54",
   "metadata": {},
   "outputs": [
    {
     "data": {
      "text/plain": [
       "'Hello Super Man!'"
      ]
     },
     "execution_count": 44,
     "metadata": {},
     "output_type": "execute_result"
    }
   ],
   "source": [
    "my_short_function(name=\"Super Man\")"
   ]
  },
  {
   "cell_type": "markdown",
   "id": "56d96a9c-3d79-4daa-9f79-3c85f567679b",
   "metadata": {},
   "source": [
    "**Example 2**"
   ]
  },
  {
   "cell_type": "code",
   "execution_count": 13,
   "id": "1e83c904-98f5-4eb2-8c2e-3ac338e58b3f",
   "metadata": {},
   "outputs": [
    {
     "data": {
      "text/plain": [
       "[[0, 9, -19],\n",
       " [1, 8, -18],\n",
       " [2, 7, -17],\n",
       " [3, 6, -16],\n",
       " [4, 5, -15],\n",
       " [5, 4, -14],\n",
       " [6, 3, -13],\n",
       " [7, 2, -12],\n",
       " [8, 1, -11],\n",
       " [9, 0, -10]]"
      ]
     },
     "execution_count": 13,
     "metadata": {},
     "output_type": "execute_result"
    }
   ],
   "source": [
    "numbers=[[9, 0, -10],\n",
    "         [8, 1, -11],\n",
    "         [7, 2, -12],\n",
    "         [6, 3, -13],\n",
    "         [5, 4, -14],\n",
    "         [4, 5, -15],\n",
    "         [3, 6, -16],\n",
    "         [2, 7, -17],\n",
    "         [1, 8, -18],\n",
    "         [0, 9, -19]]\n",
    "\n",
    "sorted(numbers) #sort based on the element in the zero index (first element) in each sublist "
   ]
  },
  {
   "cell_type": "code",
   "execution_count": 47,
   "id": "f78f1903-e8dc-41c2-a7f4-d223185a3d06",
   "metadata": {},
   "outputs": [
    {
     "data": {
      "text/plain": [
       "[[9, 0, -10],\n",
       " [8, 1, -11],\n",
       " [7, 2, -12],\n",
       " [6, 3, -13],\n",
       " [5, 4, -14],\n",
       " [4, 5, -15],\n",
       " [3, 6, -16],\n",
       " [2, 7, -17],\n",
       " [1, 8, -18],\n",
       " [0, 9, -19]]"
      ]
     },
     "execution_count": 47,
     "metadata": {},
     "output_type": "execute_result"
    }
   ],
   "source": [
    "numbers=[[9, 0, -10],\n",
    "         [8, 1, -11],\n",
    "         [7, 2, -12],\n",
    "         [6, 3, -13],\n",
    "         [5, 4, -14],\n",
    "         [4, 5, -15],\n",
    "         [3, 6, -16],\n",
    "         [2, 7, -17],\n",
    "         [1, 8, -18],\n",
    "         [0, 9, -19]]\n",
    "\n",
    "sorted(numbers, key=lambda x:x[1]) #sort the list of numbers based on the second element (index 1) of each sublist"
   ]
  },
  {
   "cell_type": "code",
   "execution_count": 49,
   "id": "eafe051e-591e-4af3-a3a1-041932c5812b",
   "metadata": {},
   "outputs": [
    {
     "data": {
      "text/plain": [
       "[[0, 9, -19],\n",
       " [1, 8, -18],\n",
       " [2, 7, -17],\n",
       " [3, 6, -16],\n",
       " [4, 5, -15],\n",
       " [5, 4, -14],\n",
       " [6, 3, -13],\n",
       " [7, 2, -12],\n",
       " [8, 1, -11],\n",
       " [9, 0, -10]]"
      ]
     },
     "execution_count": 49,
     "metadata": {},
     "output_type": "execute_result"
    }
   ],
   "source": [
    "numbers=[[9, 0, -10],\n",
    "         [8, 1, -11],\n",
    "         [7, 2, -12],\n",
    "         [6, 3, -13],\n",
    "         [5, 4, -14],\n",
    "         [4, 5, -15],\n",
    "         [3, 6, -16],\n",
    "         [2, 7, -17],\n",
    "         [1, 8, -18],\n",
    "         [0, 9, -19]]\n",
    "\n",
    "sorted(numbers, key=lambda x:sum(x)) #calculate the sum of elements for each sub-list and uses that sum for sorting  "
   ]
  },
  {
   "cell_type": "code",
   "execution_count": 64,
   "id": "3524e0ad-92a4-4ee5-927b-1c154fae353f",
   "metadata": {},
   "outputs": [
    {
     "data": {
      "text/plain": [
       "\u001b[1;31mSignature:\u001b[0m \u001b[0msorted\u001b[0m\u001b[1;33m(\u001b[0m\u001b[0miterable\u001b[0m\u001b[1;33m,\u001b[0m \u001b[1;33m/\u001b[0m\u001b[1;33m,\u001b[0m \u001b[1;33m*\u001b[0m\u001b[1;33m,\u001b[0m \u001b[0mkey\u001b[0m\u001b[1;33m=\u001b[0m\u001b[1;32mNone\u001b[0m\u001b[1;33m,\u001b[0m \u001b[0mreverse\u001b[0m\u001b[1;33m=\u001b[0m\u001b[1;32mFalse\u001b[0m\u001b[1;33m)\u001b[0m\u001b[1;33m\u001b[0m\u001b[1;33m\u001b[0m\u001b[0m\n",
       "\u001b[1;31mDocstring:\u001b[0m\n",
       "Return a new list containing all items from the iterable in ascending order.\n",
       "\n",
       "A custom key function can be supplied to customize the sort order, and the\n",
       "reverse flag can be set to request the result in descending order.\n",
       "\u001b[1;31mType:\u001b[0m      builtin_function_or_method"
      ]
     },
     "metadata": {},
     "output_type": "display_data"
    }
   ],
   "source": [
    "?sorted"
   ]
  },
  {
   "cell_type": "code",
   "execution_count": 65,
   "id": "40b7d131-cd9e-41e7-b7b3-49c24647b10a",
   "metadata": {},
   "outputs": [
    {
     "data": {
      "text/plain": [
       "[[0, 9, -19],\n",
       " [1, 8, -18],\n",
       " [2, 7, -17],\n",
       " [3, 6, -16],\n",
       " [4, 5, -15],\n",
       " [5, 4, -14],\n",
       " [6, 3, -13],\n",
       " [7, 2, -12],\n",
       " [8, 1, -11],\n",
       " [9, 0, -10]]"
      ]
     },
     "execution_count": 65,
     "metadata": {},
     "output_type": "execute_result"
    }
   ],
   "source": [
    "numbers=[[9, 0, -10],\n",
    "         [8, 1, -11],\n",
    "         [7, 2, -12],\n",
    "         [6, 3, -13],\n",
    "         [5, 4, -14],\n",
    "         [4, 5, -15],\n",
    "         [3, 6, -16],\n",
    "         [2, 7, -17],\n",
    "         [1, 8, -18],\n",
    "         [0, 9, -19]]\n",
    "\n",
    "sorted(numbers) #when key=NONE, they will take the default which is the first index"
   ]
  },
  {
   "cell_type": "code",
   "execution_count": null,
   "id": "aec10856-4b21-4b22-acb6-b9b15d914376",
   "metadata": {},
   "outputs": [],
   "source": []
  },
  {
   "attachments": {},
   "cell_type": "markdown",
   "id": "c0706fa2",
   "metadata": {},
   "source": [
    "## Optional arguments"
   ]
  },
  {
   "cell_type": "code",
   "execution_count": 50,
   "id": "31f0cd3f-bbde-4539-9ff3-c841a32a700e",
   "metadata": {},
   "outputs": [],
   "source": [
    "def greeting(name='no one'): #giving it a value, if not the argument greeting() will not work\n",
    "#if function is called without providing a 'name', it will default to 'no one'\n",
    "    if name == 'Batman':\n",
    "        return 'Hello Batman! So, nice to meet you!'\n",
    "    else:\n",
    "        return f'Hello {name}!' "
   ]
  },
  {
   "cell_type": "code",
   "execution_count": 51,
   "id": "a7174b4b-cbc1-4fba-989d-e7f7a42ab6d4",
   "metadata": {},
   "outputs": [
    {
     "data": {
      "text/plain": [
       "'Hello no one!'"
      ]
     },
     "execution_count": 51,
     "metadata": {},
     "output_type": "execute_result"
    }
   ],
   "source": [
    "greeting()"
   ]
  },
  {
   "cell_type": "code",
   "execution_count": 52,
   "id": "2beb8156-7f63-405f-8a4f-d42f45b13951",
   "metadata": {},
   "outputs": [
    {
     "data": {
      "text/plain": [
       "'Hello hahaha!'"
      ]
     },
     "execution_count": 52,
     "metadata": {},
     "output_type": "execute_result"
    }
   ],
   "source": [
    "greeting(name='hahaha')"
   ]
  },
  {
   "cell_type": "code",
   "execution_count": 53,
   "id": "940c3da2-b78b-47ff-b621-c63ea1e5d1c8",
   "metadata": {},
   "outputs": [
    {
     "data": {
      "text/plain": [
       "\u001b[1;31mSignature:\u001b[0m \u001b[0mprint\u001b[0m\u001b[1;33m(\u001b[0m\u001b[1;33m*\u001b[0m\u001b[0margs\u001b[0m\u001b[1;33m,\u001b[0m \u001b[0msep\u001b[0m\u001b[1;33m=\u001b[0m\u001b[1;34m' '\u001b[0m\u001b[1;33m,\u001b[0m \u001b[0mend\u001b[0m\u001b[1;33m=\u001b[0m\u001b[1;34m'\\n'\u001b[0m\u001b[1;33m,\u001b[0m \u001b[0mfile\u001b[0m\u001b[1;33m=\u001b[0m\u001b[1;32mNone\u001b[0m\u001b[1;33m,\u001b[0m \u001b[0mflush\u001b[0m\u001b[1;33m=\u001b[0m\u001b[1;32mFalse\u001b[0m\u001b[1;33m)\u001b[0m\u001b[1;33m\u001b[0m\u001b[1;33m\u001b[0m\u001b[0m\n",
       "\u001b[1;31mDocstring:\u001b[0m\n",
       "Prints the values to a stream, or to sys.stdout by default.\n",
       "\n",
       "sep\n",
       "  string inserted between values, default a space.\n",
       "end\n",
       "  string appended after the last value, default a newline.\n",
       "file\n",
       "  a file-like object (stream); defaults to the current sys.stdout.\n",
       "flush\n",
       "  whether to forcibly flush the stream.\n",
       "\u001b[1;31mType:\u001b[0m      builtin_function_or_method"
      ]
     },
     "metadata": {},
     "output_type": "display_data"
    }
   ],
   "source": [
    "?print"
   ]
  },
  {
   "cell_type": "code",
   "execution_count": 56,
   "id": "cd80ffc2-6780-4380-bb7a-29673d13263e",
   "metadata": {},
   "outputs": [
    {
     "name": "stdout",
     "output_type": "stream",
     "text": [
      "I am Batman! ---\n"
     ]
    }
   ],
   "source": [
    "# Using default values\n",
    "print('I', 'am', 'Batman!','---')"
   ]
  },
  {
   "cell_type": "code",
   "execution_count": null,
   "id": "9149fe15-2739-4cfc-a811-82d236a58bfb",
   "metadata": {},
   "outputs": [],
   "source": []
  },
  {
   "cell_type": "code",
   "execution_count": 55,
   "id": "3306fbdb-3d6f-424d-8acd-e3859c80be8f",
   "metadata": {},
   "outputs": [
    {
     "name": "stdout",
     "output_type": "stream",
     "text": [
      "I---am---Batman!\n"
     ]
    }
   ],
   "source": [
    "# Specifying an optional argument\n",
    "print('I', 'am', 'Batman!', sep='---')  "
   ]
  },
  {
   "attachments": {},
   "cell_type": "markdown",
   "id": "07775075",
   "metadata": {},
   "source": [
    "## The importance of functions?"
   ]
  },
  {
   "attachments": {},
   "cell_type": "markdown",
   "id": "d99ba7a9",
   "metadata": {},
   "source": [
    "### An argument for functions"
   ]
  },
  {
   "cell_type": "code",
   "execution_count": null,
   "id": "2310e2e2",
   "metadata": {},
   "outputs": [],
   "source": [
    "\n"
   ]
  },
  {
   "attachments": {},
   "cell_type": "markdown",
   "id": "f3251bf7",
   "metadata": {},
   "source": [
    "### A word of caution"
   ]
  },
  {
   "cell_type": "code",
   "execution_count": 58,
   "id": "3e271b5f",
   "metadata": {},
   "outputs": [],
   "source": [
    "numbers=[[9, 0, -10],\n",
    "         [8, 1, -11],\n",
    "         [7, 2, -12],\n",
    "         [6, 3, -13],\n",
    "         [5, 4, -14],\n",
    "         [4, 5, -15],\n",
    "         [3, 6, -16],\n",
    "         [2, 7, -17],\n",
    "         [1, 8, -18],\n",
    "         [0, 9, -19]]\n",
    "\n",
    "def my_sort_with_middle(numbers):\n",
    "\n",
    "    def my_func(x):  #my func only exists in the sorted, doesn't exist outside of it\n",
    "        return x[1] #'my_func' extracts the 2nd element (index 1) of each sublist and use the sorted function\n",
    "\n",
    "    return sorted(numbers, key=my_func)\n"
   ]
  },
  {
   "cell_type": "code",
   "execution_count": 59,
   "id": "bd3c66c3-551d-4d59-a160-68eee17defff",
   "metadata": {},
   "outputs": [
    {
     "data": {
      "text/plain": [
       "[[9, 0, -10],\n",
       " [8, 1, -11],\n",
       " [7, 2, -12],\n",
       " [6, 3, -13],\n",
       " [5, 4, -14],\n",
       " [4, 5, -15],\n",
       " [3, 6, -16],\n",
       " [2, 7, -17],\n",
       " [1, 8, -18],\n",
       " [0, 9, -19]]"
      ]
     },
     "execution_count": 59,
     "metadata": {},
     "output_type": "execute_result"
    }
   ],
   "source": [
    "my_sort_with_middle(numbers)"
   ]
  },
  {
   "cell_type": "code",
   "execution_count": 62,
   "id": "f51be32e-efe3-4dd9-adcb-b3d09d20a074",
   "metadata": {},
   "outputs": [],
   "source": [
    "numbers=[[9, 0, -10],\n",
    "         [8, 1, -11],\n",
    "         [7, 2, -12],\n",
    "         [6, 3, -13],\n",
    "         [5, 4, -14],\n",
    "         [4, 5, -15],\n",
    "         [3, 6, -16],\n",
    "         [2, 7, -17],\n",
    "         [1, 8, -18],\n",
    "         [0, 9, -19]]\n",
    "\n",
    "def my_sort_with_first(numbers):\n",
    "\n",
    "    def my_func(x):  #my func only exists in the sorted, doesn't exist outside of it\n",
    "        return x[0]\n",
    "\n",
    "    return sorted(numbers, key=my_func)"
   ]
  },
  {
   "cell_type": "code",
   "execution_count": 63,
   "id": "6983033e-e3a2-431d-a932-7571094d5cef",
   "metadata": {},
   "outputs": [
    {
     "data": {
      "text/plain": [
       "[[0, 9, -19],\n",
       " [1, 8, -18],\n",
       " [2, 7, -17],\n",
       " [3, 6, -16],\n",
       " [4, 5, -15],\n",
       " [5, 4, -14],\n",
       " [6, 3, -13],\n",
       " [7, 2, -12],\n",
       " [8, 1, -11],\n",
       " [9, 0, -10]]"
      ]
     },
     "execution_count": 63,
     "metadata": {},
     "output_type": "execute_result"
    }
   ],
   "source": [
    "my_sort_with_first(numbers)"
   ]
  },
  {
   "cell_type": "code",
   "execution_count": 66,
   "id": "cf32aa99-ed80-4e8a-9525-c9a81f093d1d",
   "metadata": {},
   "outputs": [],
   "source": [
    "#functions: "
   ]
  },
  {
   "cell_type": "code",
   "execution_count": null,
   "id": "7285e8a8-a563-483f-a50c-f3846b2b694d",
   "metadata": {},
   "outputs": [],
   "source": [
    "#loop: avoid writing the whole "
   ]
  }
 ],
 "metadata": {
  "kernelspec": {
   "display_name": "Python 3 (ipykernel)",
   "language": "python",
   "name": "python3"
  },
  "language_info": {
   "codemirror_mode": {
    "name": "ipython",
    "version": 3
   },
   "file_extension": ".py",
   "mimetype": "text/x-python",
   "name": "python",
   "nbconvert_exporter": "python",
   "pygments_lexer": "ipython3",
   "version": "3.11.5"
  },
  "toc": {
   "base_numbering": 1,
   "nav_menu": {},
   "number_sections": true,
   "sideBar": true,
   "skip_h1_title": false,
   "title_cell": "Table of Contents",
   "title_sidebar": "Contents",
   "toc_cell": false,
   "toc_position": {},
   "toc_section_display": true,
   "toc_window_display": false
  },
  "vscode": {
   "interpreter": {
    "hash": "31f2aee4e71d21fbe5cf8b01ff0e069b9275f58929596ceb00d14d90e3e16cd6"
   }
  }
 },
 "nbformat": 4,
 "nbformat_minor": 5
}
