{
 "cells": [
  {
   "attachments": {},
   "cell_type": "markdown",
   "id": "123456",
   "metadata": {},
   "source": [
    "<div style=\"text-align:left;font-size:2em\"><span style=\"font-weight:bolder;font-size:1.25em\">SP2273 | Learning Portfolio</span><br><br><span style=\"font-weight:bold;color:darkred\">Functions (Good)</span></div>"
   ]
  },
  {
   "attachments": {},
   "cell_type": "markdown",
   "id": "ddbb4ed8",
   "metadata": {},
   "source": [
    "# 1 Checks, balances, and contingencies"
   ]
  },
  {
   "attachments": {},
   "cell_type": "markdown",
   "id": "ddb89603-5378-49d4-9bc8-08904d255d09",
   "metadata": {},
   "source": [
    "## assert"
   ]
  },
  {
   "cell_type": "code",
   "execution_count": 2,
   "id": "b46723b2-b39e-4450-9a71-e31eef21735b",
   "metadata": {},
   "outputs": [],
   "source": [
    "x=1"
   ]
  },
  {
   "cell_type": "code",
   "execution_count": 5,
   "id": "4ae21d8f-7e5c-4e49-96ad-96fe04baf43d",
   "metadata": {},
   "outputs": [],
   "source": [
    "assert x<10, \"hahaha\""
   ]
  },
  {
   "cell_type": "code",
   "execution_count": 6,
   "id": "8aabfbb2-c007-4e60-b0a5-1d212f97c525",
   "metadata": {},
   "outputs": [],
   "source": [
    "x=10\n",
    "assert x>= 0, \"x is becoming negative\" #run without a problem"
   ]
  },
  {
   "cell_type": "code",
   "execution_count": null,
   "id": "10e3d5e2-b265-4f6f-87ba-87cccd2155c5",
   "metadata": {},
   "outputs": [],
   "source": [
    "x = -1\n",
    "assert x >= 0, \"x is becoming negative!\"\n",
    "#will throw an error and stop"
   ]
  },
  {
   "attachments": {},
   "cell_type": "markdown",
   "id": "4a387cf9",
   "metadata": {},
   "source": [
    "## try-except"
   ]
  },
  {
   "cell_type": "code",
   "execution_count": 8,
   "id": "a73b4d90-e46f-41b7-86d0-75791dd3bad6",
   "metadata": {},
   "outputs": [
    {
     "name": "stdin",
     "output_type": "stream",
     "text": [
      "Give me a number and I will calculate its square. haahhahh]\n"
     ]
    },
    {
     "name": "stdout",
     "output_type": "stream",
     "text": [
      "naughty boy\n"
     ]
    }
   ],
   "source": [
    "try: \n",
    "    number=input(\"Give me a number and I will calculate its square.\")\n",
    "    square=int(number)**2              # Convert English to number\n",
    "    print(f'The square of {number} is {square}!')\n",
    "except: \n",
    "    print(\"naughty boy\")\n"
   ]
  },
  {
   "attachments": {},
   "cell_type": "markdown",
   "id": "864209bb",
   "metadata": {},
   "source": [
    "## A simple suggestion"
   ]
  },
  {
   "cell_type": "code",
   "execution_count": 10,
   "id": "bfc23230-8e8b-49c0-9f37-9e5e70035991",
   "metadata": {},
   "outputs": [
    {
     "name": "stdout",
     "output_type": "stream",
     "text": [
      "I am adding 0 into your list\n",
      "I am adding 1 into your list\n",
      "I am adding 2 into your list\n",
      "I am adding 3 into your list\n",
      "I am adding 4 into your list\n",
      "I am adding 5 into your list\n",
      "I am adding 6 into your list\n",
      "I am adding 7 into your list\n",
      "I am adding 8 into your list\n",
      "I am adding 9 into your list\n"
     ]
    }
   ],
   "source": [
    "numbers=[]\n",
    "for i in range (10):\n",
    "    print(f'I am adding {i} into your list')\n",
    "    numbers.append(i)"
   ]
  },
  {
   "attachments": {},
   "cell_type": "markdown",
   "id": "c87ac8b0",
   "metadata": {},
   "source": [
    "# Some loose ends"
   ]
  },
  {
   "cell_type": "code",
   "execution_count": 19,
   "id": "1c9378e2-dcb2-43c1-9aa5-b2f1f855f869",
   "metadata": {},
   "outputs": [],
   "source": [
    "def side_by_side(a, b, c=42):\n",
    "    return f'{a: 2d}|{b: 2d}|{c: 2d}'"
   ]
  },
  {
   "attachments": {},
   "cell_type": "markdown",
   "id": "74885bc9",
   "metadata": {},
   "source": [
    "## Positional, keyword and default arguments"
   ]
  },
  {
   "cell_type": "code",
   "execution_count": 25,
   "id": "955ccb07-e392-4b74-a206-b0b4f0b5bf6c",
   "metadata": {},
   "outputs": [
    {
     "data": {
      "text/plain": [
       "' 1| 3| 2'"
      ]
     },
     "execution_count": 25,
     "metadata": {},
     "output_type": "execute_result"
    }
   ],
   "source": [
    "side_by_side(1,3,2) #overwrites based on position, positional order of the arguments"
   ]
  },
  {
   "cell_type": "code",
   "execution_count": 23,
   "id": "a11dc5e4-d55d-4edb-bf9d-860ab8efec44",
   "metadata": {},
   "outputs": [],
   "source": [
    "## KeyWord"
   ]
  },
  {
   "cell_type": "code",
   "execution_count": 29,
   "id": "db078802-e5e5-4bbb-8b77-0e75bdd0d6f7",
   "metadata": {},
   "outputs": [
    {
     "data": {
      "text/plain": [
       "' 1| 3| 2'"
      ]
     },
     "execution_count": 29,
     "metadata": {},
     "output_type": "execute_result"
    }
   ],
   "source": [
    "side_by_side(a=1,b=3,c=2) #specify the keyword to assign the value to each of a,b,c, order doesn't matter"
   ]
  },
  {
   "cell_type": "code",
   "execution_count": 26,
   "id": "621abfc2-b68f-46d2-9623-5de2b2f61d4d",
   "metadata": {},
   "outputs": [],
   "source": [
    "## Default"
   ]
  },
  {
   "cell_type": "code",
   "execution_count": 30,
   "id": "22507dd4-fc1d-4b43-9d01-1ad679c6cfeb",
   "metadata": {},
   "outputs": [
    {
     "data": {
      "text/plain": [
       "' 1| 2| 42'"
      ]
     },
     "execution_count": 30,
     "metadata": {},
     "output_type": "execute_result"
    }
   ],
   "source": [
    "side_by_side(1,b=2)"
   ]
  },
  {
   "cell_type": "code",
   "execution_count": null,
   "id": "b8ba7a94-72f9-4595-b952-acfb794c6cc5",
   "metadata": {},
   "outputs": [],
   "source": [
    "side_by_side(b=2,1) #won't work because python dont know to assign value 1 to which "
   ]
  },
  {
   "cell_type": "code",
   "execution_count": 31,
   "id": "8b197c1d-7f08-4105-8e4a-fc6cc79320d3",
   "metadata": {},
   "outputs": [
    {
     "data": {
      "text/plain": [
       "' 2| 1| 3'"
      ]
     },
     "execution_count": 31,
     "metadata": {},
     "output_type": "execute_result"
    }
   ],
   "source": [
    "side_by_side(c=3,b=1,a=2) "
   ]
  },
  {
   "attachments": {},
   "cell_type": "markdown",
   "id": "8e24ce92",
   "metadata": {},
   "source": [
    "## Docstrings"
   ]
  },
  {
   "cell_type": "code",
   "execution_count": 32,
   "id": "deaa788b-9352-4e3f-9f14-4ca23effff86",
   "metadata": {},
   "outputs": [],
   "source": [
    "def side_by_side(a, b, c=42):\n",
    "    '''\n",
    "    A test function to demonstrate how \n",
    "    positional, keyword and default arguments \n",
    "    work.\n",
    "    ''' #3 inverted commas \n",
    "    return f'{a: 2d}|{b: 2d}|{c: 2d}'"
   ]
  },
  {
   "cell_type": "code",
   "execution_count": 33,
   "id": "c41dff64-448a-4d8f-a7ad-b1b011304c75",
   "metadata": {},
   "outputs": [
    {
     "name": "stdout",
     "output_type": "stream",
     "text": [
      "Help on function side_by_side in module __main__:\n",
      "\n",
      "side_by_side(a, b, c=42)\n",
      "    A test function to demonstrate how \n",
      "    positional, keyword and default arguments \n",
      "    work.\n",
      "\n"
     ]
    }
   ],
   "source": [
    "help(side_by_side)"
   ]
  },
  {
   "attachments": {},
   "cell_type": "markdown",
   "id": "c3c42dd6",
   "metadata": {},
   "source": [
    "## Function are first-class citizens"
   ]
  },
  {
   "cell_type": "code",
   "execution_count": 3,
   "id": "1f81f878-4d86-448c-bac9-5567e2d460a2",
   "metadata": {},
   "outputs": [],
   "source": [
    "import numpy as np"
   ]
  },
  {
   "cell_type": "code",
   "execution_count": 4,
   "id": "c250a749-6b99-4a8a-8dda-5eb71c25e966",
   "metadata": {},
   "outputs": [],
   "source": [
    "def my_function (angle, trig_input_function):\n",
    "    return trig_input_function (angle)"
   ]
  },
  {
   "cell_type": "code",
   "execution_count": 5,
   "id": "3df4b460-50a9-4493-947c-fd250369d89d",
   "metadata": {},
   "outputs": [
    {
     "data": {
      "text/plain": [
       "1.2246467991473532e-16"
      ]
     },
     "execution_count": 5,
     "metadata": {},
     "output_type": "execute_result"
    }
   ],
   "source": [
    "my_function(angle=np.pi, trig_input_function=np.sin) #np.sin(angle) #feeding my function with another function "
   ]
  },
  {
   "cell_type": "code",
   "execution_count": 6,
   "id": "2107f6bb-75cf-4b15-8597-8d3f51f35ff1",
   "metadata": {},
   "outputs": [
    {
     "data": {
      "text/plain": [
       "-1.0"
      ]
     },
     "execution_count": 6,
     "metadata": {},
     "output_type": "execute_result"
    }
   ],
   "source": [
    "my_function(angle=np.pi, trig_input_function=np.cos) #np.cos(angle)"
   ]
  },
  {
   "cell_type": "code",
   "execution_count": 7,
   "id": "eac6d96f-78d5-4173-be4e-8ee5aaeebbc6",
   "metadata": {},
   "outputs": [
    {
     "name": "stdout",
     "output_type": "stream",
     "text": [
      "3.141592653589793\n"
     ]
    }
   ],
   "source": [
    "my_function(angle=np.pi, trig_input_function=print) #print(angle)"
   ]
  },
  {
   "cell_type": "code",
   "execution_count": 8,
   "id": "04bdf7cf-d471-46b4-b2a0-2e9d6b2399b5",
   "metadata": {},
   "outputs": [
    {
     "data": {
      "text/plain": [
       "23.01119705467915"
      ]
     },
     "execution_count": 8,
     "metadata": {},
     "output_type": "execute_result"
    }
   ],
   "source": [
    "my_function (angle=np.pi, trig_input_function=lambda x:x**2+x+10) #lambda - define by taking up x, the function will then give you x**2+x+10"
   ]
  },
  {
   "cell_type": "code",
   "execution_count": 9,
   "id": "e61b3ceb-c337-4db6-bc05-57bfac0e4a22",
   "metadata": {},
   "outputs": [
    {
     "data": {
      "text/plain": [
       "1.0"
      ]
     },
     "execution_count": 9,
     "metadata": {},
     "output_type": "execute_result"
    }
   ],
   "source": [
    "my_function(np.pi/2, np.sin)   "
   ]
  },
  {
   "cell_type": "code",
   "execution_count": 10,
   "id": "c431b804-3ce2-4b24-86fd-e86143cb2b11",
   "metadata": {},
   "outputs": [
    {
     "data": {
      "text/plain": [
       "6.123233995736766e-17"
      ]
     },
     "execution_count": 10,
     "metadata": {},
     "output_type": "execute_result"
    }
   ],
   "source": [
    "my_function(np.pi/2, np.cos) "
   ]
  },
  {
   "cell_type": "code",
   "execution_count": 11,
   "id": "4bd09b29-3fa3-495b-9082-e4daf833bba4",
   "metadata": {},
   "outputs": [
    {
     "data": {
      "text/plain": [
       "-1.0"
      ]
     },
     "execution_count": 11,
     "metadata": {},
     "output_type": "execute_result"
    }
   ],
   "source": [
    "my_function(np.pi/2, lambda x: np.cos(2*x))  "
   ]
  },
  {
   "attachments": {},
   "cell_type": "markdown",
   "id": "23407d8e-ed50-411a-97a0-cf6bfa0f3e70",
   "metadata": {},
   "source": [
    "## Unpacking"
   ]
  },
  {
   "cell_type": "code",
   "execution_count": 46,
   "id": "28c72b95-fafa-467b-be0b-fdb95cd3680f",
   "metadata": {},
   "outputs": [
    {
     "data": {
      "text/plain": [
       "(1, 2, 3)"
      ]
     },
     "execution_count": 46,
     "metadata": {},
     "output_type": "execute_result"
    }
   ],
   "source": [
    "x, y, z = [1, 2, 3]\n",
    "x, y, z"
   ]
  },
  {
   "cell_type": "code",
   "execution_count": 47,
   "id": "f4aa30bc-5caf-4815-bfda-2c1f0465c8a3",
   "metadata": {},
   "outputs": [
    {
     "data": {
      "text/plain": [
       "(1, 2, 3)"
      ]
     },
     "execution_count": 47,
     "metadata": {},
     "output_type": "execute_result"
    }
   ],
   "source": [
    "x, y, z = np.array([1, 2, 3])\n",
    "x, y, z"
   ]
  },
  {
   "cell_type": "code",
   "execution_count": 48,
   "id": "5eecaac7-393e-4f1f-90f8-baf945c541bf",
   "metadata": {},
   "outputs": [
    {
     "data": {
      "text/plain": [
       "(1, [2, 3, 4], 5)"
      ]
     },
     "execution_count": 48,
     "metadata": {},
     "output_type": "execute_result"
    }
   ],
   "source": [
    "x, *y, z = np.array([1, 2, 3, 4, 5])\n",
    "x, y, z #x assigned first value, z assigned last value, y assigned the remaining elements of the list"
   ]
  },
  {
   "cell_type": "code",
   "execution_count": 50,
   "id": "9c22a3c3-5ea7-4cda-845a-75bfa9b35d02",
   "metadata": {},
   "outputs": [
    {
     "data": {
      "text/plain": [
       "(1, 5)"
      ]
     },
     "execution_count": 50,
     "metadata": {},
     "output_type": "execute_result"
    }
   ],
   "source": [
    "x, *_, z = np.array([1, 2, 3, 4, 5])\n",
    "x, z #only concerned about the first and last value"
   ]
  },
  {
   "cell_type": "code",
   "execution_count": 51,
   "id": "95ae8de6-ca2e-49b0-89af-83bd044bfb31",
   "metadata": {},
   "outputs": [
    {
     "data": {
      "text/plain": [
       "([1, 2, 3], 4, 5)"
      ]
     },
     "execution_count": 51,
     "metadata": {},
     "output_type": "execute_result"
    }
   ],
   "source": [
    "*x, y, z = np.array([1, 2, 3, 4, 5])\n",
    "x, y, z"
   ]
  },
  {
   "cell_type": "code",
   "execution_count": null,
   "id": "2a9883d1-456a-49bc-86c7-9aa0b531ddc5",
   "metadata": {},
   "outputs": [],
   "source": []
  }
 ],
 "metadata": {
  "kernelspec": {
   "display_name": "Python 3 (ipykernel)",
   "language": "python",
   "name": "python3"
  },
  "language_info": {
   "codemirror_mode": {
    "name": "ipython",
    "version": 3
   },
   "file_extension": ".py",
   "mimetype": "text/x-python",
   "name": "python",
   "nbconvert_exporter": "python",
   "pygments_lexer": "ipython3",
   "version": "3.11.5"
  },
  "toc": {
   "base_numbering": 1,
   "nav_menu": {},
   "number_sections": true,
   "sideBar": true,
   "skip_h1_title": false,
   "title_cell": "Table of Contents",
   "title_sidebar": "Contents",
   "toc_cell": false,
   "toc_position": {},
   "toc_section_display": true,
   "toc_window_display": false
  },
  "vscode": {
   "interpreter": {
    "hash": "31f2aee4e71d21fbe5cf8b01ff0e069b9275f58929596ceb00d14d90e3e16cd6"
   }
  }
 },
 "nbformat": 4,
 "nbformat_minor": 5
}
