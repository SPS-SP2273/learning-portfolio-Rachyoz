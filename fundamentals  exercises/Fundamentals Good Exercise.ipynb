{
 "cells": [
  {
   "cell_type": "code",
   "execution_count": 25,
   "id": "cda2a65d-89b0-4715-a8af-81b44dcf8b75",
   "metadata": {},
   "outputs": [],
   "source": [
    "import math as math"
   ]
  },
  {
   "cell_type": "code",
   "execution_count": 26,
   "id": "a167e2f8-de64-429a-b9bf-7b03bbec3836",
   "metadata": {},
   "outputs": [],
   "source": [
    "import numpy as np"
   ]
  },
  {
   "cell_type": "code",
   "execution_count": 2,
   "id": "03a09283-2370-47fa-88a1-802d941d567e",
   "metadata": {},
   "outputs": [
    {
     "name": "stdin",
     "output_type": "stream",
     "text": [
      "Give me a number? 70\n"
     ]
    },
    {
     "name": "stdout",
     "output_type": "stream",
     "text": [
      "You entered 70\n"
     ]
    }
   ],
   "source": [
    "user_input = input('Give me a number?')\n",
    "print('You entered', user_input)"
   ]
  },
  {
   "cell_type": "code",
   "execution_count": 26,
   "id": "b1066b11-e227-4e53-b3e2-0e025f372367",
   "metadata": {},
   "outputs": [],
   "source": [
    "mark = 71\n",
    "if mark== 70<=mark<=100:\n",
    "    print('A')\n",
    "    "
   ]
  },
  {
   "cell_type": "code",
   "execution_count": 10,
   "id": "fb71ee0a-6f7f-434d-9b2e-9d6f79736031",
   "metadata": {},
   "outputs": [],
   "source": [
    "grade_info = {\n",
    "    (range(70,100)): 'A',\n",
    "    (range(50,69)): 'B',\n",
    "    (range(35,49)): 'C',\n",
    "    (range(0,34)): 'Fail'\n",
    "}"
   ]
  },
  {
   "cell_type": "code",
   "execution_count": 18,
   "id": "f5ad75a1-ba88-4316-a7dd-929e79093ee5",
   "metadata": {},
   "outputs": [],
   "source": [
    "grade_info=[range(70,100)]"
   ]
  },
  {
   "cell_type": "code",
   "execution_count": 16,
   "id": "2f4777a6-9b98-47fb-a0f8-d7dd5883e78a",
   "metadata": {},
   "outputs": [
    {
     "name": "stdout",
     "output_type": "stream",
     "text": [
      "The student's letter grade is: A\n",
      "The student's letter grade is: A\n"
     ]
    }
   ],
   "source": [
    "number=72\n",
    "for number in range (1,3):\n",
    "    print(\"The student's letter grade is: A\")"
   ]
  },
  {
   "cell_type": "code",
   "execution_count": null,
   "id": "8d0cc56c-114a-45c7-848d-bed375068fec",
   "metadata": {},
   "outputs": [],
   "source": []
  },
  {
   "cell_type": "code",
   "execution_count": 12,
   "id": "7269ac76-9d7b-45d7-8cc3-a2a6cdfcd4ec",
   "metadata": {},
   "outputs": [
    {
     "name": "stdin",
     "output_type": "stream",
     "text": [
      "Enter student's score: 70\n"
     ]
    },
    {
     "name": "stdout",
     "output_type": "stream",
     "text": [
      "The student's letter grade is: 70\n"
     ]
    }
   ],
   "source": [
    "user_input = input(\"Enter student's score:\")\n",
    "print(\"The student's letter grade is:\", )"
   ]
  },
  {
   "cell_type": "code",
   "execution_count": null,
   "id": "3b097573-6aa5-45c1-90a0-a27adc176699",
   "metadata": {},
   "outputs": [],
   "source": []
  }
 ],
 "metadata": {
  "kernelspec": {
   "display_name": "Python 3 (ipykernel)",
   "language": "python",
   "name": "python3"
  },
  "language_info": {
   "codemirror_mode": {
    "name": "ipython",
    "version": 3
   },
   "file_extension": ".py",
   "mimetype": "text/x-python",
   "name": "python",
   "nbconvert_exporter": "python",
   "pygments_lexer": "ipython3",
   "version": "3.11.5"
  }
 },
 "nbformat": 4,
 "nbformat_minor": 5
}
