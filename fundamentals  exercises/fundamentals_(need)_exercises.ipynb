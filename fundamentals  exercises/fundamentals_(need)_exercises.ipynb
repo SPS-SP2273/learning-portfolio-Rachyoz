{
 "cells": [
  {
   "attachments": {},
   "cell_type": "markdown",
   "id": "123456",
   "metadata": {},
   "source": [
    "<div style=\"text-align:left;font-size:2em\"><span style=\"font-weight:bolder;font-size:1.25em\">SP2273 | Learning Portfolio</span><br><br><span style=\"font-weight:bold;color:darkred\">Fundamentals (Need) Exercises</span></div>"
   ]
  },
  {
   "cell_type": "code",
   "execution_count": null,
   "id": "b4bbb8e9-c9aa-4f2d-9b15-b09de70e2e1b",
   "metadata": {},
   "outputs": [],
   "source": [
    "# exercise 1"
   ]
  },
  {
   "cell_type": "code",
   "execution_count": 5,
   "id": "8fecdeb8-9b8b-4e50-a97a-91ea51f88ab5",
   "metadata": {},
   "outputs": [
    {
     "name": "stdout",
     "output_type": "stream",
     "text": [
      "hello\n"
     ]
    }
   ],
   "source": [
    "print('hello')"
   ]
  },
  {
   "cell_type": "code",
   "execution_count": 6,
   "id": "d93c9057-2e1d-4cc4-bfc2-766276956c66",
   "metadata": {},
   "outputs": [],
   "source": [
    "name='Batman'"
   ]
  },
  {
   "cell_type": "code",
   "execution_count": 7,
   "id": "7b216325-6a92-4d58-83b5-74eadf197320",
   "metadata": {},
   "outputs": [
    {
     "data": {
      "text/plain": [
       "'Batman'"
      ]
     },
     "execution_count": 7,
     "metadata": {},
     "output_type": "execute_result"
    }
   ],
   "source": [
    "name"
   ]
  },
  {
   "cell_type": "code",
   "execution_count": 8,
   "id": "335855eb-1843-4681-b76b-807018230643",
   "metadata": {},
   "outputs": [
    {
     "data": {
      "text/plain": [
       "False"
      ]
     },
     "execution_count": 8,
     "metadata": {},
     "output_type": "execute_result"
    }
   ],
   "source": [
    "name=='hahah'"
   ]
  },
  {
   "cell_type": "code",
   "execution_count": 1,
   "id": "52132333-06e7-4869-931b-74cf5d825a90",
   "metadata": {},
   "outputs": [],
   "source": [
    "import math as math"
   ]
  },
  {
   "cell_type": "code",
   "execution_count": 2,
   "id": "0d09bbe8-3cd3-4ed3-a5f0-e8923e1bfb5b",
   "metadata": {},
   "outputs": [],
   "source": [
    "import numpy as np"
   ]
  },
  {
   "cell_type": "code",
   "execution_count": null,
   "id": "6736ba70-b1e4-452b-a42c-efc92f74a14a",
   "metadata": {},
   "outputs": [],
   "source": [
    "# exercise 2"
   ]
  },
  {
   "cell_type": "code",
   "execution_count": null,
   "id": "9e8f422b-4363-49e1-8638-6b3f5956582c",
   "metadata": {},
   "outputs": [],
   "source": [
    "x, y = 3, 4\n",
    "        z = sqrt(x*2 + y**2)\n",
    "    Print(x, y, z)"
   ]
  },
  {
   "cell_type": "code",
   "execution_count": 17,
   "id": "c028259e-28f3-4aaa-aa14-ebb03be0f697",
   "metadata": {},
   "outputs": [],
   "source": [
    "x, y = 3, 4\n",
    "z = math.sqrt(x*2 + y**2) #removed the identation\n",
    "#changing the 'Print' to 'print' - lowercase letter p"
   ]
  },
  {
   "cell_type": "code",
   "execution_count": 20,
   "id": "ddeffc70-30c6-43c3-90d9-d616e4e9e7e8",
   "metadata": {},
   "outputs": [
    {
     "name": "stdout",
     "output_type": "stream",
     "text": [
      "3 4 4.69041575982343\n"
     ]
    }
   ],
   "source": [
    "print (x,y,z)"
   ]
  },
  {
   "cell_type": "code",
   "execution_count": null,
   "id": "58685dc4-5183-4d25-b426-6a3a1586d888",
   "metadata": {},
   "outputs": [],
   "source": [
    "# exercise 3"
   ]
  },
  {
   "cell_type": "code",
   "execution_count": null,
   "id": "bf4e91f4-4efd-40dd-8d63-2f1e006945cd",
   "metadata": {},
   "outputs": [],
   "source": [
    "function: a line of code\n",
    "arguments: defining the input parameters for a function, when calling a function, the argument passes values into it\n",
    "comments: lines starting with # are comments. used to provide explanatory notes\n",
    "indentations: used to indicate the beginning and end of blocks \n",
    "packages: packages like math and numpy, the abilities of python itself is limited, by importing packages, python can do much more things\n",
    ". - the dot indicates ownership, eg a function belongs to a module\n",
    ": - indicates the beginning of a new code block \n",
    "[] - used to create lists\n",
    "[[[]]] - three layers of lists. \n",
    "{} - primarily related to dictionaries, sets, and dictionary comprehensions"
   ]
  },
  {
   "cell_type": "markdown",
   "id": "68aef818-65a5-40d5-89e6-015db802637a",
   "metadata": {},
   "source": [
    "| function | description | like or hate\n",
    "|:---------|-------------|--------:|\n",
    "|print() |diojispj|spdjpjsd|"
   ]
  },
  {
   "cell_type": "code",
   "execution_count": null,
   "id": "53e481b2-3fca-4986-be5a-89a2df723a19",
   "metadata": {},
   "outputs": [],
   "source": [
    "# exercise 4"
   ]
  },
  {
   "cell_type": "code",
   "execution_count": 24,
   "id": "1a6eaeb4-0a88-4f7d-b2c2-d4dd5d276fc8",
   "metadata": {},
   "outputs": [
    {
     "data": {
      "text/plain": [
       "2.5"
      ]
     },
     "execution_count": 24,
     "metadata": {},
     "output_type": "execute_result"
    }
   ],
   "source": [
    "5/2           #5 divided by 2"
   ]
  },
  {
   "cell_type": "code",
   "execution_count": 23,
   "id": "bd80fcc3-f53c-4365-bfff-f01fe6600a9d",
   "metadata": {},
   "outputs": [
    {
     "data": {
      "text/plain": [
       "2"
      ]
     },
     "execution_count": 23,
     "metadata": {},
     "output_type": "execute_result"
    }
   ],
   "source": [
    "5//2          # floor division. the quotient is rounded down to the nearest integer. 5 divided by 2, rounded down to the nearest integer, 2"
   ]
  },
  {
   "cell_type": "code",
   "execution_count": 25,
   "id": "302787a2-5868-44c2-86be-eb2ff0c7b805",
   "metadata": {},
   "outputs": [
    {
     "data": {
      "text/plain": [
       "3"
      ]
     },
     "execution_count": 25,
     "metadata": {},
     "output_type": "execute_result"
    }
   ],
   "source": [
    "7//2"
   ]
  },
  {
   "cell_type": "code",
   "execution_count": 26,
   "id": "4a4cec4a-3a9a-4877-83a8-e1fa7939a053",
   "metadata": {},
   "outputs": [
    {
     "data": {
      "text/plain": [
       "4"
      ]
     },
     "execution_count": 26,
     "metadata": {},
     "output_type": "execute_result"
    }
   ],
   "source": [
    "9//2"
   ]
  },
  {
   "cell_type": "code",
   "execution_count": 22,
   "id": "40421624-882e-45e0-9d3b-6629e12905e9",
   "metadata": {},
   "outputs": [
    {
     "data": {
      "text/plain": [
       "1"
      ]
     },
     "execution_count": 22,
     "metadata": {},
     "output_type": "execute_result"
    }
   ],
   "source": [
    "5%2            #% is a modulus operator. % returns the remainder, 5/2=quotient 2 with a remainder of 1. "
   ]
  },
  {
   "cell_type": "code",
   "execution_count": 27,
   "id": "2ad924e0-21db-4a7f-b7c2-002907debec6",
   "metadata": {},
   "outputs": [
    {
     "data": {
      "text/plain": [
       "1"
      ]
     },
     "execution_count": 27,
     "metadata": {},
     "output_type": "execute_result"
    }
   ],
   "source": [
    "9%2"
   ]
  },
  {
   "cell_type": "code",
   "execution_count": 28,
   "id": "a6ba592a-859b-4654-ad2e-5e6ce8fdaf9d",
   "metadata": {},
   "outputs": [
    {
     "data": {
      "text/plain": [
       "2"
      ]
     },
     "execution_count": 28,
     "metadata": {},
     "output_type": "execute_result"
    }
   ],
   "source": [
    "5%3"
   ]
  },
  {
   "cell_type": "code",
   "execution_count": 29,
   "id": "8927dd18-4a1d-4080-b0bc-ead4a3e4203f",
   "metadata": {},
   "outputs": [
    {
     "data": {
      "text/plain": [
       "1"
      ]
     },
     "execution_count": 29,
     "metadata": {},
     "output_type": "execute_result"
    }
   ],
   "source": [
    "9%4"
   ]
  }
 ],
 "metadata": {
  "kernelspec": {
   "display_name": "Python 3 (ipykernel)",
   "language": "python",
   "name": "python3"
  },
  "language_info": {
   "codemirror_mode": {
    "name": "ipython",
    "version": 3
   },
   "file_extension": ".py",
   "mimetype": "text/x-python",
   "name": "python",
   "nbconvert_exporter": "python",
   "pygments_lexer": "ipython3",
   "version": "3.11.5"
  },
  "toc": {
   "base_numbering": 1,
   "nav_menu": {},
   "number_sections": true,
   "sideBar": true,
   "skip_h1_title": false,
   "title_cell": "Table of Contents",
   "title_sidebar": "Contents",
   "toc_cell": false,
   "toc_position": {},
   "toc_section_display": true,
   "toc_window_display": false
  },
  "vscode": {
   "interpreter": {
    "hash": "31f2aee4e71d21fbe5cf8b01ff0e069b9275f58929596ceb00d14d90e3e16cd6"
   }
  }
 },
 "nbformat": 4,
 "nbformat_minor": 5
}
