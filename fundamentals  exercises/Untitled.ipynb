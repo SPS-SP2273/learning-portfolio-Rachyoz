{
 "cells": [
  {
   "cell_type": "code",
   "execution_count": 25,
   "id": "cda2a65d-89b0-4715-a8af-81b44dcf8b75",
   "metadata": {},
   "outputs": [],
   "source": [
    "import math as math"
   ]
  },
  {
   "cell_type": "code",
   "execution_count": 26,
   "id": "a167e2f8-de64-429a-b9bf-7b03bbec3836",
   "metadata": {},
   "outputs": [],
   "source": [
    "import numpy as np"
   ]
  },
  {
   "cell_type": "code",
   "execution_count": 2,
   "id": "03a09283-2370-47fa-88a1-802d941d567e",
   "metadata": {},
   "outputs": [
    {
     "name": "stdin",
     "output_type": "stream",
     "text": [
      "Give me a number? 70\n"
     ]
    },
    {
     "name": "stdout",
     "output_type": "stream",
     "text": [
      "You entered 70\n"
     ]
    }
   ],
   "source": [
    "user_input = input('Give me a number?')\n",
    "print('You entered', user_input)"
   ]
  },
  {
   "cell_type": "code",
   "execution_count": null,
   "id": "f47e716f-0333-4df6-be55-b9c9c81919d7",
   "metadata": {},
   "outputs": [],
   "source": [
    "grade_info = {\n",
    "    {70, 100): 'A',\n",
    "    {50, 69}: 'B',\n",
    "    {35, 49}: 'C',\n",
    "    {0,34}: 'Fail'\n",
    "} \n",
    "# ASK: why cannot use the curly brackets, becomes unhashable"
   ]
  },
  {
   "cell_type": "code",
   "execution_count": 19,
   "id": "fb71ee0a-6f7f-434d-9b2e-9d6f79736031",
   "metadata": {},
   "outputs": [],
   "source": [
    "grade_info = {\n",
    "    (70, 100): 'A',\n",
    "    (50, 69): 'B',\n",
    "    (35, 49): 'C',\n",
    "    (0,34): 'Fail'\n",
    "}"
   ]
  },
  {
   "cell_type": "code",
   "execution_count": 24,
   "id": "2f4777a6-9b98-47fb-a0f8-d7dd5883e78a",
   "metadata": {},
   "outputs": [
    {
     "ename": "KeyError",
     "evalue": "'A'",
     "output_type": "error",
     "traceback": [
      "\u001b[1;31m---------------------------------------------------------------------------\u001b[0m",
      "\u001b[1;31mKeyError\u001b[0m                                  Traceback (most recent call last)",
      "Cell \u001b[1;32mIn[24], line 1\u001b[0m\n\u001b[1;32m----> 1\u001b[0m \u001b[43mgrade_info\u001b[49m\u001b[43m[\u001b[49m\u001b[38;5;124;43m'\u001b[39;49m\u001b[38;5;124;43mA\u001b[39;49m\u001b[38;5;124;43m'\u001b[39;49m\u001b[43m]\u001b[49m\n",
      "\u001b[1;31mKeyError\u001b[0m: 'A'"
     ]
    }
   ],
   "source": [
    "grade_info['A']"
   ]
  },
  {
   "cell_type": "code",
   "execution_count": null,
   "id": "8d0cc56c-114a-45c7-848d-bed375068fec",
   "metadata": {},
   "outputs": [],
   "source": []
  },
  {
   "cell_type": "code",
   "execution_count": 12,
   "id": "7269ac76-9d7b-45d7-8cc3-a2a6cdfcd4ec",
   "metadata": {},
   "outputs": [
    {
     "name": "stdin",
     "output_type": "stream",
     "text": [
      "Enter student's score: 70\n"
     ]
    },
    {
     "name": "stdout",
     "output_type": "stream",
     "text": [
      "The student's letter grade is: 70\n"
     ]
    }
   ],
   "source": [
    "user_input = input(\"Enter student's score:\")\n",
    "print(\"The student's letter grade is:\", )"
   ]
  },
  {
   "cell_type": "code",
   "execution_count": null,
   "id": "3b097573-6aa5-45c1-90a0-a27adc176699",
   "metadata": {},
   "outputs": [],
   "source": []
  }
 ],
 "metadata": {
  "kernelspec": {
   "display_name": "Python 3 (ipykernel)",
   "language": "python",
   "name": "python3"
  },
  "language_info": {
   "codemirror_mode": {
    "name": "ipython",
    "version": 3
   },
   "file_extension": ".py",
   "mimetype": "text/x-python",
   "name": "python",
   "nbconvert_exporter": "python",
   "pygments_lexer": "ipython3",
   "version": "3.11.5"
  }
 },
 "nbformat": 4,
 "nbformat_minor": 5
}
