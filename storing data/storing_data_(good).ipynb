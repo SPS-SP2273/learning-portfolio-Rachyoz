{
 "cells": [
  {
   "attachments": {},
   "cell_type": "markdown",
   "id": "123456",
   "metadata": {},
   "source": [
    "<div style=\"text-align:left;font-size:2em\"><span style=\"font-weight:bolder;font-size:1.25em\">SP2273 | Learning Portfolio</span><br><br><span style=\"font-weight:bold;color:darkred\">Storing Data (Good)</span></div>"
   ]
  },
  {
   "cell_type": "code",
   "execution_count": null,
   "id": "62eec730-c939-4290-98a9-134cf8aa04b5",
   "metadata": {},
   "outputs": [],
   "source": [
    "import numpy as np"
   ]
  },
  {
   "attachments": {},
   "cell_type": "markdown",
   "id": "d327c8ca",
   "metadata": {},
   "source": [
    "# Subsetting: Indexing and Slicing"
   ]
  },
  {
   "attachments": {},
   "cell_type": "markdown",
   "id": "05187169",
   "metadata": {},
   "source": [
    "## Lists & Arrays in 1D | Subsetting & Indexing"
   ]
  },
  {
   "cell_type": "code",
   "execution_count": 1,
   "id": "18d5810d-aa85-4d60-80d2-091fe1d25968",
   "metadata": {},
   "outputs": [],
   "source": [
    "py_list=[\"a1\", \"b2\", \"c3\", \"d4\", \"e5\",\n",
    "         \"f6\", \"g7\", \"h8\", \"i9\", \"j10\"] "
   ]
  },
  {
   "cell_type": "code",
   "execution_count": 2,
   "id": "f9befee3-d44b-45fd-9e17-8ed65f897b66",
   "metadata": {},
   "outputs": [
    {
     "data": {
      "text/plain": [
       "'a1'"
      ]
     },
     "execution_count": 2,
     "metadata": {},
     "output_type": "execute_result"
    }
   ],
   "source": [
    "py_list[0]"
   ]
  },
  {
   "cell_type": "code",
   "execution_count": 3,
   "id": "037d1ebd-0188-43bd-8c5a-74a349f594b9",
   "metadata": {},
   "outputs": [
    {
     "data": {
      "text/plain": [
       "'j10'"
      ]
     },
     "execution_count": 3,
     "metadata": {},
     "output_type": "execute_result"
    }
   ],
   "source": [
    "py_list[-1]"
   ]
  },
  {
   "cell_type": "code",
   "execution_count": 4,
   "id": "b5a4f5ba-dde2-4702-8f47-0d8a4df609e8",
   "metadata": {},
   "outputs": [],
   "source": [
    "py_list=[\"a1\", \"b2\", \"c3\", \"d4\", \"e5\",\n",
    "         \"f6\", \"g7\", \"h8\", \"i9\", \"j10\"] "
   ]
  },
  {
   "cell_type": "code",
   "execution_count": 5,
   "id": "7048fde6-0b59-4b5a-8321-9ccb06eb000e",
   "metadata": {},
   "outputs": [
    {
     "data": {
      "text/plain": [
       "['a1', 'b2', 'c3']"
      ]
     },
     "execution_count": 5,
     "metadata": {},
     "output_type": "execute_result"
    }
   ],
   "source": [
    "py_list[0:3]   # \"a1\", \"b2\", \"c3\", \"d4\"?"
   ]
  },
  {
   "cell_type": "code",
   "execution_count": 6,
   "id": "d1fdb69e-4fb5-4847-b7df-d4683583385b",
   "metadata": {},
   "outputs": [
    {
     "data": {
      "text/plain": [
       "['b2', 'c3']"
      ]
     },
     "execution_count": 6,
     "metadata": {},
     "output_type": "execute_result"
    }
   ],
   "source": [
    "py_list[1:3]  #index 1 to 2"
   ]
  },
  {
   "cell_type": "code",
   "execution_count": 7,
   "id": "0ba0471e-6d90-4c7f-8315-bf0df15a2d5a",
   "metadata": {},
   "outputs": [
    {
     "data": {
      "text/plain": [
       "['b2', 'c3', 'd4', 'e5', 'f6']"
      ]
     },
     "execution_count": 7,
     "metadata": {},
     "output_type": "execute_result"
    }
   ],
   "source": [
    "py_list[1:6] #index 1 to 5, 6-1=5 elements"
   ]
  },
  {
   "cell_type": "code",
   "execution_count": 8,
   "id": "59cbc7a5-1305-4589-b48f-cd55430459aa",
   "metadata": {},
   "outputs": [
    {
     "data": {
      "text/plain": [
       "['b2', 'd4', 'f6']"
      ]
     },
     "execution_count": 8,
     "metadata": {},
     "output_type": "execute_result"
    }
   ],
   "source": [
    "py_list[1:6:2] #index 1 to 5, in steps of 2"
   ]
  },
  {
   "cell_type": "code",
   "execution_count": 9,
   "id": "6d14a1b2-a116-45db-a288-141e004f7f3c",
   "metadata": {},
   "outputs": [
    {
     "data": {
      "text/plain": [
       "['f6', 'g7', 'h8', 'i9', 'j10']"
      ]
     },
     "execution_count": 9,
     "metadata": {},
     "output_type": "execute_result"
    }
   ],
   "source": [
    "py_list[5:] #index 5 to the end"
   ]
  },
  {
   "cell_type": "code",
   "execution_count": 10,
   "id": "9190aef2-730f-42fa-8e98-6cf3963a38cb",
   "metadata": {},
   "outputs": [
    {
     "data": {
      "text/plain": [
       "['a1', 'b2', 'c3', 'd4', 'e5']"
      ]
     },
     "execution_count": 10,
     "metadata": {},
     "output_type": "execute_result"
    }
   ],
   "source": [
    "py_list[:5] #index 0 to index 4"
   ]
  },
  {
   "cell_type": "code",
   "execution_count": 11,
   "id": "93f3bf70-e705-4ec1-92f4-060232ad5878",
   "metadata": {},
   "outputs": [],
   "source": [
    "py_list=[\"a1\", \"b2\", \"c3\", \"d4\", \"e5\",\n",
    "         \"f6\", \"g7\", \"h8\", \"i9\", \"j10\"]"
   ]
  },
  {
   "cell_type": "code",
   "execution_count": 13,
   "id": "c480405f-3d80-4281-a150-25893971ba82",
   "metadata": {},
   "outputs": [
    {
     "data": {
      "text/plain": [
       "['f6', 'e5', 'd4']"
      ]
     },
     "execution_count": 13,
     "metadata": {},
     "output_type": "execute_result"
    }
   ],
   "source": [
    "py_list[5:2:-1] #index 3 to 5 (in reverse)"
   ]
  },
  {
   "cell_type": "code",
   "execution_count": 12,
   "id": "ee3106d6-0e53-489f-8bb4-8c759e403722",
   "metadata": {},
   "outputs": [
    {
     "data": {
      "text/plain": [
       "['j10', 'i9', 'h8', 'g7', 'f6', 'e5', 'd4', 'c3', 'b2', 'a1']"
      ]
     },
     "execution_count": 12,
     "metadata": {},
     "output_type": "execute_result"
    }
   ],
   "source": [
    "py_list[::-1] #reverses the list"
   ]
  },
  {
   "cell_type": "code",
   "execution_count": 14,
   "id": "eb1f54f1-9c20-4e0c-8e05-59ac196fd8ce",
   "metadata": {},
   "outputs": [
    {
     "data": {
      "text/plain": [
       "['j10', 'h8', 'f6', 'd4', 'b2']"
      ]
     },
     "execution_count": 14,
     "metadata": {},
     "output_type": "execute_result"
    }
   ],
   "source": [
    "py_list[::-2] #reverse the list in steps of 2"
   ]
  },
  {
   "attachments": {},
   "cell_type": "markdown",
   "id": "1804264b",
   "metadata": {},
   "source": [
    "## Arrays only | Subsetting by masking"
   ]
  },
  {
   "cell_type": "code",
   "execution_count": 17,
   "id": "29398d0f-8b7a-4f1d-af9e-8703527346ef",
   "metadata": {},
   "outputs": [],
   "source": [
    "import numpy as np"
   ]
  },
  {
   "cell_type": "code",
   "execution_count": 18,
   "id": "14dbae86-bfaf-42aa-a192-7634dff845a4",
   "metadata": {},
   "outputs": [
    {
     "data": {
      "text/plain": [
       "array([False, False, False,  True,  True,  True,  True,  True,  True,\n",
       "        True])"
      ]
     },
     "execution_count": 18,
     "metadata": {},
     "output_type": "execute_result"
    }
   ],
   "source": [
    "np_array = np.array([1, 2, 3, 4, 5, 6, 7, 8, 9, 10])\n",
    "my_mask = np_array > 3\n",
    "my_mask #subsetting by masking only works with numpy array"
   ]
  },
  {
   "cell_type": "code",
   "execution_count": 20,
   "id": "bd8d9608-3da6-4521-9221-97ac0e8dc38c",
   "metadata": {},
   "outputs": [
    {
     "data": {
      "text/plain": [
       "array([False, False, False,  True,  True,  True,  True,  True,  True,\n",
       "        True])"
      ]
     },
     "execution_count": 20,
     "metadata": {},
     "output_type": "execute_result"
    }
   ],
   "source": [
    "my_mask"
   ]
  },
  {
   "cell_type": "code",
   "execution_count": 19,
   "id": "4351b37d-3d8b-4817-9ddb-f7da7cd5a72e",
   "metadata": {},
   "outputs": [
    {
     "data": {
      "text/plain": [
       "array([ 4,  5,  6,  7,  8,  9, 10])"
      ]
     },
     "execution_count": 19,
     "metadata": {},
     "output_type": "execute_result"
    }
   ],
   "source": [
    "np_array[my_mask] #show me only those that are true"
   ]
  },
  {
   "cell_type": "code",
   "execution_count": 21,
   "id": "a4574fcd-fbe6-4966-bc52-a00511dbc685",
   "metadata": {},
   "outputs": [
    {
     "data": {
      "text/plain": [
       "array([ 4,  5,  6,  7,  8,  9, 10])"
      ]
     },
     "execution_count": 21,
     "metadata": {},
     "output_type": "execute_result"
    }
   ],
   "source": [
    "np_array[np_array > 3]"
   ]
  },
  {
   "cell_type": "markdown",
   "id": "c7331e6c-03df-4cc1-8217-b1f2e8b20038",
   "metadata": {},
   "source": [
    "**Example 1**"
   ]
  },
  {
   "cell_type": "code",
   "execution_count": 22,
   "id": "a235b64f-4e39-412b-8470-1a9fdb184ff6",
   "metadata": {},
   "outputs": [
    {
     "data": {
      "text/plain": [
       "array([1, 2, 3])"
      ]
     },
     "execution_count": 22,
     "metadata": {},
     "output_type": "execute_result"
    }
   ],
   "source": [
    "np_array[~(np_array > 3)]    # '~' means 'NOT'"
   ]
  },
  {
   "cell_type": "markdown",
   "id": "7380aa56-8e9c-40eb-b0f0-3f500c4d5f6f",
   "metadata": {},
   "source": [
    "**Example 2**"
   ]
  },
  {
   "cell_type": "code",
   "execution_count": 23,
   "id": "43122a8a-0d4f-4027-9262-e23f294b480a",
   "metadata": {},
   "outputs": [
    {
     "data": {
      "text/plain": [
       "array([4, 5, 6, 7])"
      ]
     },
     "execution_count": 23,
     "metadata": {},
     "output_type": "execute_result"
    }
   ],
   "source": [
    "np_array[(np_array > 3) & (np_array < 8)] # '&' means 'AND'"
   ]
  },
  {
   "cell_type": "markdown",
   "id": "c806ca89-3c02-46e0-b54f-44ac8be19e62",
   "metadata": {},
   "source": [
    "**Example 3**"
   ]
  },
  {
   "cell_type": "code",
   "execution_count": 24,
   "id": "8f549e79-70bf-477c-bc01-dc4005f1eaed",
   "metadata": {},
   "outputs": [
    {
     "data": {
      "text/plain": [
       "array([ 1,  2,  9, 10])"
      ]
     },
     "execution_count": 24,
     "metadata": {},
     "output_type": "execute_result"
    }
   ],
   "source": [
    "np_array[(np_array < 3) | (np_array > 8)]  # '|' means 'OR' - OR will show something if either mask is true"
   ]
  },
  {
   "attachments": {},
   "cell_type": "markdown",
   "id": "9ea26fdd",
   "metadata": {},
   "source": [
    "## Lists & Arrays in 2D | Indexing & Slicing"
   ]
  },
  {
   "cell_type": "code",
   "execution_count": 48,
   "id": "8697dde3-32e0-41cd-a98c-23d671c856e4",
   "metadata": {},
   "outputs": [],
   "source": [
    "py_list_2d = [[1, \"A\"], [2, \"B\"], [3, \"C\"], [4, \"D\"],\n",
    "              [5, \"E\"], [6, \"F\"], [7, \"G\"], [8, \"H\"],\n",
    "              [9, \"I\"], [10, \"J\"]]\n",
    "\n",
    "np_array_2d = np.array(py_list_2d)"
   ]
  },
  {
   "cell_type": "markdown",
   "id": "7b33152e-9466-4622-b48e-8258d0d8c272",
   "metadata": {},
   "source": [
    "**Example 1**"
   ]
  },
  {
   "cell_type": "code",
   "execution_count": 28,
   "id": "62af0ada-4463-4abb-afc3-d16081ee7120",
   "metadata": {},
   "outputs": [
    {
     "data": {
      "text/plain": [
       "[4, 'D']"
      ]
     },
     "execution_count": 28,
     "metadata": {},
     "output_type": "execute_result"
    }
   ],
   "source": [
    "py_list_2d[3]"
   ]
  },
  {
   "cell_type": "code",
   "execution_count": 29,
   "id": "0591e970-c4fb-4070-9739-8993025f43c6",
   "metadata": {},
   "outputs": [
    {
     "data": {
      "text/plain": [
       "array(['4', 'D'], dtype='<U11')"
      ]
     },
     "execution_count": 29,
     "metadata": {},
     "output_type": "execute_result"
    }
   ],
   "source": [
    "np_array_2d[3]"
   ]
  },
  {
   "cell_type": "markdown",
   "id": "ba4352ae-80e6-47e2-ad5b-e6236194b028",
   "metadata": {},
   "source": [
    "**Example 2**"
   ]
  },
  {
   "cell_type": "code",
   "execution_count": 31,
   "id": "a62d392e-48e0-45ad-9282-29c9a7ccac7a",
   "metadata": {},
   "outputs": [
    {
     "data": {
      "text/plain": [
       "4"
      ]
     },
     "execution_count": 31,
     "metadata": {},
     "output_type": "execute_result"
    }
   ],
   "source": [
    "py_list_2d[3][0] #what is the first element in index 3  "
   ]
  },
  {
   "cell_type": "code",
   "execution_count": 30,
   "id": "b91bb49b-bdf9-4c68-b407-90a12375e245",
   "metadata": {},
   "outputs": [
    {
     "data": {
      "text/plain": [
       "'4'"
      ]
     },
     "execution_count": 30,
     "metadata": {},
     "output_type": "execute_result"
    }
   ],
   "source": [
    "np_array_2d[3,0]   "
   ]
  },
  {
   "cell_type": "code",
   "execution_count": 49,
   "id": "19512d73-386f-4e62-8343-150a6c8df218",
   "metadata": {},
   "outputs": [
    {
     "data": {
      "text/plain": [
       "array(['1', '2', '3', '4', '5', '6', '7', '8', '9', '10'], dtype='<U11')"
      ]
     },
     "execution_count": 49,
     "metadata": {},
     "output_type": "execute_result"
    }
   ],
   "source": [
    "np_array_2d[::,0]"
   ]
  },
  {
   "cell_type": "markdown",
   "id": "5ceb55ef-0644-4b74-8b2b-3b3d2f205d32",
   "metadata": {},
   "source": [
    "**Example 3**"
   ]
  },
  {
   "cell_type": "code",
   "execution_count": 33,
   "id": "3963ac88-aee9-466c-829c-044642b10c4e",
   "metadata": {},
   "outputs": [
    {
     "data": {
      "text/plain": [
       "[[1, 'A'], [2, 'B'], [3, 'C']]"
      ]
     },
     "execution_count": 33,
     "metadata": {},
     "output_type": "execute_result"
    }
   ],
   "source": [
    "py_list_2d[:3] #first 3 elements, from index 0 to 2"
   ]
  },
  {
   "cell_type": "code",
   "execution_count": 32,
   "id": "e4109392-29f6-4057-bcb9-b895ebd10481",
   "metadata": {},
   "outputs": [
    {
     "data": {
      "text/plain": [
       "array([['1', 'A'],\n",
       "       ['2', 'B'],\n",
       "       ['3', 'C']], dtype='<U11')"
      ]
     },
     "execution_count": 32,
     "metadata": {},
     "output_type": "execute_result"
    }
   ],
   "source": [
    "np_array_2d[:3] "
   ]
  },
  {
   "cell_type": "markdown",
   "id": "e246260e-0d5d-4e50-b407-1b9aa2ffc5d9",
   "metadata": {},
   "source": [
    "**Example 4**"
   ]
  },
  {
   "cell_type": "code",
   "execution_count": 35,
   "id": "fee275be-e15b-4538-9955-2de8c12509e5",
   "metadata": {},
   "outputs": [
    {
     "data": {
      "text/plain": [
       "[1, 'A']"
      ]
     },
     "execution_count": 35,
     "metadata": {},
     "output_type": "execute_result"
    }
   ],
   "source": [
    "py_list_2d[:3][0] #first element of the list from py_list_2d[:3]"
   ]
  },
  {
   "cell_type": "code",
   "execution_count": 36,
   "id": "b47a8fb5-66d2-4775-9dbd-c4b2da76bb70",
   "metadata": {},
   "outputs": [
    {
     "data": {
      "text/plain": [
       "array(['1', '2', '3'], dtype='<U11')"
      ]
     },
     "execution_count": 36,
     "metadata": {},
     "output_type": "execute_result"
    }
   ],
   "source": [
    "np_array_2d[:3,0] #first element in each of the three elements"
   ]
  },
  {
   "cell_type": "markdown",
   "id": "e085acb5-926b-4dc8-96c8-9a0511b77b37",
   "metadata": {},
   "source": [
    "**Example 5**"
   ]
  },
  {
   "cell_type": "code",
   "execution_count": 35,
   "id": "0aaa8307-5471-4bd9-9e80-98828f397a34",
   "metadata": {},
   "outputs": [
    {
     "data": {
      "text/plain": [
       "[4, 'D']"
      ]
     },
     "execution_count": 35,
     "metadata": {},
     "output_type": "execute_result"
    }
   ],
   "source": [
    "py_list_2d[3:6][0]    #first element in index 4"
   ]
  },
  {
   "cell_type": "code",
   "execution_count": 38,
   "id": "37ebcfa4-ca7c-4f81-88ad-248cb7c3591b",
   "metadata": {},
   "outputs": [
    {
     "data": {
      "text/plain": [
       "array(['4', '5', '6'], dtype='<U11')"
      ]
     },
     "execution_count": 38,
     "metadata": {},
     "output_type": "execute_result"
    }
   ],
   "source": [
    "np_array_2d[3:6, 0] #first elements in index 3,4,5"
   ]
  },
  {
   "cell_type": "code",
   "execution_count": 34,
   "id": "b257ee76-319d-4d60-9aca-5cd6a266a65d",
   "metadata": {},
   "outputs": [
    {
     "data": {
      "text/plain": [
       "array(['1', '2', '3', '4', '5', '6', '7', '8', '9', '10'], dtype='<U11')"
      ]
     },
     "execution_count": 34,
     "metadata": {},
     "output_type": "execute_result"
    }
   ],
   "source": [
    "np_array_2d[:, 0]"
   ]
  },
  {
   "attachments": {},
   "cell_type": "markdown",
   "id": "bb870880",
   "metadata": {},
   "source": [
    "## Growing lists"
   ]
  },
  {
   "cell_type": "code",
   "execution_count": 36,
   "id": "23cba1dc-b669-4649-bf1a-3aaad3ecc389",
   "metadata": {},
   "outputs": [
    {
     "data": {
      "text/plain": [
       "[1, 2, 1, 2, 1, 2, 1, 2, 1, 2]"
      ]
     },
     "execution_count": 36,
     "metadata": {},
     "output_type": "execute_result"
    }
   ],
   "source": [
    "x= [1, 2]*5 \n",
    "x"
   ]
  },
  {
   "cell_type": "markdown",
   "id": "0bad94e2-306b-44d2-ae1b-fc387fcd0930",
   "metadata": {},
   "source": [
    "**Example 1**"
   ]
  },
  {
   "cell_type": "code",
   "execution_count": 37,
   "id": "528ba235-b834-446b-87ba-9b333d1fa512",
   "metadata": {},
   "outputs": [
    {
     "data": {
      "text/plain": [
       "[1, 2, 3, 4]"
      ]
     },
     "execution_count": 37,
     "metadata": {},
     "output_type": "execute_result"
    }
   ],
   "source": [
    "#growing a list by appending one element at a time\n",
    "#append: adding or attaching something to the end of an existing object\n",
    "x=[1]\n",
    "x= x + [2] #appends the number 2 to the list \n",
    "x= x + [3]\n",
    "x= x + [4]\n",
    "x"
   ]
  },
  {
   "cell_type": "code",
   "execution_count": 41,
   "id": "21f50e04-ec7c-49ef-95d2-8f89dfb18633",
   "metadata": {},
   "outputs": [
    {
     "data": {
      "text/plain": [
       "[1, 2, 3, 4]"
      ]
     },
     "execution_count": 41,
     "metadata": {},
     "output_type": "execute_result"
    }
   ],
   "source": [
    "x=[1]\n",
    "x+= [2]\n",
    "x+= [3]\n",
    "x+= [4]\n",
    "x"
   ]
  },
  {
   "cell_type": "code",
   "execution_count": 42,
   "id": "232995f9-5407-4935-8a5b-c2c180583a25",
   "metadata": {},
   "outputs": [
    {
     "data": {
      "text/plain": [
       "[1, 2, 3, 4]"
      ]
     },
     "execution_count": 42,
     "metadata": {},
     "output_type": "execute_result"
    }
   ],
   "source": [
    "x=[1]\n",
    "x.append(2)\n",
    "x.append(3)\n",
    "x.append(4)\n",
    "x"
   ]
  },
  {
   "cell_type": "code",
   "execution_count": 43,
   "id": "4f4d8c4b-fa82-460d-9d80-055907c29365",
   "metadata": {},
   "outputs": [
    {
     "data": {
      "text/plain": [
       "[1, 2, 3, 4, 5, 6]"
      ]
     },
     "execution_count": 43,
     "metadata": {},
     "output_type": "execute_result"
    }
   ],
   "source": [
    "x = [1, 2, 3]\n",
    "x += [4, 5, 6]\n",
    "x"
   ]
  },
  {
   "cell_type": "code",
   "execution_count": 45,
   "id": "4b2985c0-015f-4f56-8162-3de0d5aa0af1",
   "metadata": {},
   "outputs": [
    {
     "data": {
      "text/plain": [
       "[1, 2, 3, 4, 5, 6]"
      ]
     },
     "execution_count": 45,
     "metadata": {},
     "output_type": "execute_result"
    }
   ],
   "source": [
    "x=[1, 2, 3]\n",
    "x.extend([4, 5, 6])\n",
    "x"
   ]
  },
  {
   "cell_type": "code",
   "execution_count": 38,
   "id": "953a757d-e154-463d-91d3-4d38f8dbecf6",
   "metadata": {},
   "outputs": [
    {
     "data": {
      "text/plain": [
       "[1, 2, 3, [4, 5, 6]]"
      ]
     },
     "execution_count": 38,
     "metadata": {},
     "output_type": "execute_result"
    }
   ],
   "source": [
    "x=[1, 2, 3]\n",
    "x.append([4, 5, 6]) #adds the entire list [4,5,6] as a single element to the end of the list\n",
    "x"
   ]
  },
  {
   "cell_type": "code",
   "execution_count": 39,
   "id": "854906d3-15d1-4a93-88d1-4a0f738806a0",
   "metadata": {},
   "outputs": [
    {
     "data": {
      "text/plain": [
       "[1, 4, 5, 1, 2, 3, [4, 5, 6]]"
      ]
     },
     "execution_count": 39,
     "metadata": {},
     "output_type": "execute_result"
    }
   ],
   "source": [
    "[1,4,5,] + x"
   ]
  },
  {
   "attachments": {},
   "cell_type": "markdown",
   "id": "9038c5b3",
   "metadata": {},
   "source": [
    "## Some loose ends"
   ]
  },
  {
   "attachments": {},
   "cell_type": "markdown",
   "id": "7d521c09",
   "metadata": {},
   "source": [
    "## Tuples"
   ]
  },
  {
   "cell_type": "code",
   "execution_count": 43,
   "id": "112f28ec-5f0b-4728-8b57-f2d709e50c88",
   "metadata": {},
   "outputs": [],
   "source": [
    "a=[1,2,3,4,5]"
   ]
  },
  {
   "cell_type": "code",
   "execution_count": 44,
   "id": "3ba0f135-a4e9-4ea8-bb57-a3fb7ccc2c7d",
   "metadata": {},
   "outputs": [],
   "source": [
    "a[0]=-161541449 #can assign value because this is a list"
   ]
  },
  {
   "cell_type": "code",
   "execution_count": 45,
   "id": "ec061ad3-5000-471d-a535-f8607f5f0a52",
   "metadata": {},
   "outputs": [
    {
     "data": {
      "text/plain": [
       "[-161541449, 2, 3, 4, 5]"
      ]
     },
     "execution_count": 45,
     "metadata": {},
     "output_type": "execute_result"
    }
   ],
   "source": [
    "a"
   ]
  },
  {
   "cell_type": "code",
   "execution_count": 46,
   "id": "2d73b769-c38b-4df3-a5e2-1313adba087b",
   "metadata": {},
   "outputs": [],
   "source": [
    "a_tuple=(1,2,3,4,5)"
   ]
  },
  {
   "cell_type": "code",
   "execution_count": null,
   "id": "3d6d0024-3754-4c17-b24f-e65ba0079257",
   "metadata": {},
   "outputs": [],
   "source": [
    "a_tuple[0] = 6198161 #cannot assign the value ot index 0 because this is a tuple"
   ]
  },
  {
   "cell_type": "code",
   "execution_count": 40,
   "id": "e6038f87-eb26-4f76-a110-bdc6267dfcff",
   "metadata": {},
   "outputs": [],
   "source": [
    "a=(1, 2, 3)     # Define tuple"
   ]
  },
  {
   "cell_type": "code",
   "execution_count": 41,
   "id": "643c0d67-300e-44fb-9a1b-dd30f648491c",
   "metadata": {},
   "outputs": [
    {
     "name": "stdout",
     "output_type": "stream",
     "text": [
      "1\n"
     ]
    }
   ],
   "source": [
    "print(a[0])    # Access data"
   ]
  },
  {
   "cell_type": "code",
   "execution_count": null,
   "id": "8afe7dc1-d77e-4cb8-8883-56ad6a53af8f",
   "metadata": {},
   "outputs": [],
   "source": [
    "# The following will NOT work, we cannot change the data\n",
    "a[0]=-1\n",
    "a[0]+= [10] #trying to modify the element at index 0 of the list 'a' by adding another list '[10]' to it. \n",
    "# however a[0] is not a list, so it cannot be modified"
   ]
  },
  {
   "attachments": {},
   "cell_type": "markdown",
   "id": "ef8b370f",
   "metadata": {},
   "source": [
    "## Be VERY careful when copying"
   ]
  },
  {
   "cell_type": "code",
   "execution_count": 67,
   "id": "c970cfae-4bce-4283-8a88-b3e84b1b9b62",
   "metadata": {},
   "outputs": [],
   "source": [
    "x=[1, 2, 3]\n",
    "y=x           # DON'T do this!\n",
    "z=x           # DON'T do this!\n",
    "#y and z now refer to the same list as 'x'\n",
    "#any changes made to the list through one variable will be reflected in others eg y.append(4)"
   ]
  },
  {
   "cell_type": "code",
   "execution_count": 68,
   "id": "dadd4a28-cbbf-448f-bf27-180dc96c8931",
   "metadata": {},
   "outputs": [
    {
     "name": "stdout",
     "output_type": "stream",
     "text": [
      "id(x)=2643735960320, id(y)=2643735960320, id(z)=2643735960320\n"
     ]
    }
   ],
   "source": [
    "print(f'{id(x)=}, {id(y)=}, {id(z)=}')"
   ]
  },
  {
   "cell_type": "code",
   "execution_count": 69,
   "id": "aaec5547-d777-4ed7-95dc-c295b9daeb68",
   "metadata": {},
   "outputs": [
    {
     "name": "stdout",
     "output_type": "stream",
     "text": [
      "id(x)=2643755387712, id(y)=2643755325696, id(z)=2643755352896\n"
     ]
    }
   ],
   "source": [
    "x=[1, 2, 3]\n",
    "y=x.copy()\n",
    "z=x.copy() #creating two separate copies of the list 'x' using the copy() method\n",
    "print(f'{id(x)=}, {id(y)=}, {id(z)=}')\n",
    "\n",
    "#the id() function in python returns the identity of an object, which is a unique identifier for that particular object\n",
    "#the values for x, y, z are different - they are distinct objects in memory --> modification to one list won't affect the others"
   ]
  },
  {
   "cell_type": "code",
   "execution_count": null,
   "id": "b3741dc5-65b2-4e04-ace0-4e6195673a1b",
   "metadata": {},
   "outputs": [],
   "source": []
  }
 ],
 "metadata": {
  "kernelspec": {
   "display_name": "Python 3 (ipykernel)",
   "language": "python",
   "name": "python3"
  },
  "language_info": {
   "codemirror_mode": {
    "name": "ipython",
    "version": 3
   },
   "file_extension": ".py",
   "mimetype": "text/x-python",
   "name": "python",
   "nbconvert_exporter": "python",
   "pygments_lexer": "ipython3",
   "version": "3.11.5"
  },
  "toc": {
   "base_numbering": 1,
   "nav_menu": {},
   "number_sections": true,
   "sideBar": true,
   "skip_h1_title": false,
   "title_cell": "Table of Contents",
   "title_sidebar": "Contents",
   "toc_cell": false,
   "toc_position": {},
   "toc_section_display": true,
   "toc_window_display": false
  },
  "vscode": {
   "interpreter": {
    "hash": "31f2aee4e71d21fbe5cf8b01ff0e069b9275f58929596ceb00d14d90e3e16cd6"
   }
  }
 },
 "nbformat": 4,
 "nbformat_minor": 5
}
