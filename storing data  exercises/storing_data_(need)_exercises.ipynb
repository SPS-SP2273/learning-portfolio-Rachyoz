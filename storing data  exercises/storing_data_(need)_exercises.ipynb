{
 "cells": [
  {
   "attachments": {},
   "cell_type": "markdown",
   "id": "123456",
   "metadata": {},
   "source": [
    "<div style=\"text-align:left;font-size:2em\"><span style=\"font-weight:bolder;font-size:1.25em\">SP2273 | Learning Portfolio</span><br><br><span style=\"font-weight:bold;color:darkred\">Storing Data (Need) Exercises</span></div>"
   ]
  },
  {
   "cell_type": "markdown",
   "id": "fd66066e-1bea-44a7-b9c3-8f8986981b91",
   "metadata": {},
   "source": [
    "Exercise 1\n",
    "1. two similarities between lists and arrays\n",
    "Both store elements in a sequential manner, and we can add elements to them, or modify individual elements after the list or array has been created\n",
    "3. two differences bewteen lists and arrays\n",
    "Lists can store different data types eg integers,strings. Arrays can only store elements of the same data type, homogenous. eg converts every element to a string ''.\n",
    "lists are resizable, adding in new elements. Arrays have a fixed size once created. \n",
    "5. what is a dictionary?\n",
    "a collection of key-value pair\n",
    "eg Natasha Romanoff: Black Widow"
   ]
  },
  {
   "cell_type": "markdown",
   "id": "6ea71cfa-df32-47da-ad98-0d1e56199c33",
   "metadata": {},
   "source": [
    "Exercise 2 Indexing"
   ]
  },
  {
   "cell_type": "code",
   "execution_count": 7,
   "id": "57764acc-400d-4b3c-86a5-8e24971a55d1",
   "metadata": {},
   "outputs": [
    {
     "name": "stdout",
     "output_type": "stream",
     "text": [
      "i9\n",
      "g7\n",
      "e5\n",
      "c3\n",
      "a1\n"
     ]
    }
   ],
   "source": [
    "py_list = [\"a1\", \"b2\", \"c3\", \"d4\", \"e5\", \"f6\", \"g7\", \"h8\", \"i9\", \"j10\"]\n",
    "                    # Prints 'a1'\n",
    "                    # Prints 'c3'\n",
    "                    # Prints 'e5'\n",
    "                    # Prints 'g7'\n",
    "print(py_list[8])   # Prints 'i9'\n",
    "print (py_list[6])\n",
    "print (py_list[4])\n",
    "print (py_list[2])\n",
    "print (py_list[0])"
   ]
  },
  {
   "cell_type": "code",
   "execution_count": 9,
   "id": "7e6fcae0-34dc-4ab6-967b-332499f5e8c0",
   "metadata": {},
   "outputs": [
    {
     "name": "stdout",
     "output_type": "stream",
     "text": [
      "a1\n",
      "c3\n",
      "e5\n",
      "g7\n",
      "i9\n"
     ]
    }
   ],
   "source": [
    "py_list = [\"a1\", \"b2\", \"c3\", \"d4\", \"e5\", \"f6\", \"g7\", \"h8\", \"i9\", \"j10\"]\n",
    "                    # Prints 'a1'\n",
    "                    # Prints 'c3'\n",
    "                    # Prints 'e5'\n",
    "                    # Prints 'g7'\n",
    "                    # Prints 'i9'\n",
    "\n",
    "\n",
    "\n",
    "for elements in py_list[::2]:\n",
    "   print(elements)"
   ]
  },
  {
   "cell_type": "markdown",
   "id": "5edfaf5f-e24a-475a-9fc7-ff57777d6e5e",
   "metadata": {},
   "source": [
    "Exercise 3 Index again"
   ]
  },
  {
   "cell_type": "code",
   "execution_count": 5,
   "id": "7c05bcc2-459a-401b-a22a-bdfdcc252916",
   "metadata": {},
   "outputs": [],
   "source": [
    "elements = ['Hydrogen',\n",
    "            'Helium', 'Lithium',\n",
    "            'Beryllium', 'Boron', 'Carbon',\n",
    "            'Nitrogen', 'Oxygen',\n",
    "            'Fluorine',\n",
    "            'Neon']"
   ]
  },
  {
   "cell_type": "code",
   "execution_count": 6,
   "id": "01297e67-518b-494c-99d7-832c1d7a08c8",
   "metadata": {},
   "outputs": [
    {
     "name": "stdout",
     "output_type": "stream",
     "text": [
      "Boron\n"
     ]
    }
   ],
   "source": [
    "print(elements[4]) "
   ]
  },
  {
   "cell_type": "code",
   "execution_count": 9,
   "id": "6d8447ea-1385-4b10-b074-bfed5042fb0e",
   "metadata": {},
   "outputs": [
    {
     "name": "stdout",
     "output_type": "stream",
     "text": [
      "Carbon\n"
     ]
    }
   ],
   "source": [
    "print(elements[-5]) #'-1' corresponds to the last element, hence '-5' corresponds to the element at index 4 from the end of the list"
   ]
  },
  {
   "cell_type": "markdown",
   "id": "ce15a754-a3e0-41b9-9a23-3d0d0eb3d6b3",
   "metadata": {},
   "source": [
    "Exercise 4 #number of 1's in the list"
   ]
  },
  {
   "cell_type": "code",
   "execution_count": 11,
   "id": "dd3613f6-fe22-41c3-86e9-6d5b18a0b9d0",
   "metadata": {},
   "outputs": [],
   "source": [
    "import numpy as np"
   ]
  },
  {
   "cell_type": "code",
   "execution_count": 12,
   "id": "628f096c-2038-41c4-bfe0-e3aef9ab387a",
   "metadata": {},
   "outputs": [],
   "source": [
    "numbers=[45, 60, 1, 30, 96, 1, 96, 57, 16, 1,\n",
    "        99, 62, 86, 43, 42, 60, 59, 1, 1, 35,\n",
    "        83, 47, 34, 28, 68, 23, 22, 92, 1, 79,\n",
    "        1, 29, 94, 72, 46, 47, 1, 74, 32, 20,\n",
    "        8, 37, 35, 1, 89, 29, 86, 19, 43, 61]                  "
   ]
  },
  {
   "cell_type": "code",
   "execution_count": 13,
   "id": "c265fbc7-b54f-4872-b064-abafb717cf2b",
   "metadata": {},
   "outputs": [],
   "source": [
    "np_array=np.array(numbers)"
   ]
  },
  {
   "cell_type": "code",
   "execution_count": 14,
   "id": "9609cc52-cb24-41e3-8196-12a8c9d284bf",
   "metadata": {},
   "outputs": [
    {
     "data": {
      "text/plain": [
       "array([45, 60,  1, 30, 96,  1, 96, 57, 16,  1, 99, 62, 86, 43, 42, 60, 59,\n",
       "        1,  1, 35, 83, 47, 34, 28, 68, 23, 22, 92,  1, 79,  1, 29, 94, 72,\n",
       "       46, 47,  1, 74, 32, 20,  8, 37, 35,  1, 89, 29, 86, 19, 43, 61])"
      ]
     },
     "execution_count": 14,
     "metadata": {},
     "output_type": "execute_result"
    }
   ],
   "source": [
    "np_array"
   ]
  },
  {
   "cell_type": "code",
   "execution_count": 15,
   "id": "0e66c6d0-c96f-4777-98c1-feef534c88a1",
   "metadata": {},
   "outputs": [
    {
     "data": {
      "text/plain": [
       "array([False, False,  True, False, False,  True, False, False, False,\n",
       "        True, False, False, False, False, False, False, False,  True,\n",
       "        True, False, False, False, False, False, False, False, False,\n",
       "       False,  True, False,  True, False, False, False, False, False,\n",
       "        True, False, False, False, False, False, False,  True, False,\n",
       "       False, False, False, False, False])"
      ]
     },
     "execution_count": 15,
     "metadata": {},
     "output_type": "execute_result"
    }
   ],
   "source": [
    "np_array==1"
   ]
  },
  {
   "cell_type": "code",
   "execution_count": 16,
   "id": "7b84ebc3-cb66-4d6d-a660-23f17d7f906f",
   "metadata": {},
   "outputs": [
    {
     "data": {
      "text/plain": [
       "9"
      ]
     },
     "execution_count": 16,
     "metadata": {},
     "output_type": "execute_result"
    }
   ],
   "source": [
    "sum(np_array==1)"
   ]
  }
 ],
 "metadata": {
  "kernelspec": {
   "display_name": "Python 3 (ipykernel)",
   "language": "python",
   "name": "python3"
  },
  "language_info": {
   "codemirror_mode": {
    "name": "ipython",
    "version": 3
   },
   "file_extension": ".py",
   "mimetype": "text/x-python",
   "name": "python",
   "nbconvert_exporter": "python",
   "pygments_lexer": "ipython3",
   "version": "3.11.5"
  },
  "toc": {
   "base_numbering": 1,
   "nav_menu": {},
   "number_sections": true,
   "sideBar": true,
   "skip_h1_title": false,
   "title_cell": "Table of Contents",
   "title_sidebar": "Contents",
   "toc_cell": false,
   "toc_position": {},
   "toc_section_display": true,
   "toc_window_display": false
  },
  "vscode": {
   "interpreter": {
    "hash": "31f2aee4e71d21fbe5cf8b01ff0e069b9275f58929596ceb00d14d90e3e16cd6"
   }
  }
 },
 "nbformat": 4,
 "nbformat_minor": 5
}
