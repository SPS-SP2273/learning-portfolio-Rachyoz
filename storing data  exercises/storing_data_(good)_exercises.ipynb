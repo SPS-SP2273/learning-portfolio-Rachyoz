{
 "cells": [
  {
   "attachments": {},
   "cell_type": "markdown",
   "id": "123456",
   "metadata": {},
   "source": [
    "<div style=\"text-align:left;font-size:2em\"><span style=\"font-weight:bolder;font-size:1.25em\">SP2273 | Learning Portfolio</span><br><br><span style=\"font-weight:bold;color:darkred\">Storing Data (Good) Exercises</span></div>"
   ]
  },
  {
   "cell_type": "raw",
   "id": "2eb90150-0859-4610-9147-273f6a708244",
   "metadata": {},
   "source": [
    "Exercise 1"
   ]
  },
  {
   "cell_type": "markdown",
   "id": "e2c7c9fb-95d4-4c1e-b499-a702b77d9536",
   "metadata": {},
   "source": [
    "|Term|Brief Description|\n",
    "|----|-----------------|\n",
    "|Subsetting|Extracting specific subsets or portions from a larger set. Used to access specific elements or sections of data structures eg arrays, lists of data frames. #my_list[1:4]|\n",
    "|Indexing|accessing individual elements of a data structure using their position or index. zero-based, hence starts with index 0. #my_list[0] position 1, index 0|\n",
    "|Slicing|extract a portion of a data structure based on specified start, stop and step indices eg list, array or string #my_list[2:6:2]|\n",
    "|Masking|using a booleen mask to select or filter elements based on certain conditions. Each element is either 'True' or 'False'|  |"
   ]
  },
  {
   "cell_type": "markdown",
   "id": "3d079d88-caf0-4a2e-b4d1-52152fe23460",
   "metadata": {},
   "source": [
    "\n"
   ]
  },
  {
   "cell_type": "markdown",
   "id": "d40869eb-9f9b-4cac-9c1f-314e58874b8c",
   "metadata": {},
   "source": [
    "Exercise 2\n",
    "\n"
   ]
  },
  {
   "cell_type": "code",
   "execution_count": 2,
   "id": "e1be7d35-04ba-4e06-866c-d27daa3dc2cf",
   "metadata": {},
   "outputs": [],
   "source": [
    "import numpy as np"
   ]
  },
  {
   "cell_type": "code",
   "execution_count": 3,
   "id": "61ad718d-5f2f-4ab7-802a-802dc34c6211",
   "metadata": {},
   "outputs": [],
   "source": [
    "np_array_2d = np.array([[1, \"A\"], [3, \"C\"], [2, \"B\"], [4, \"D\"],\n",
    "                        [5, \"E\"], [7, \"G\"], [6, \"F\"], [8, \"H\"],\n",
    "                        [10, \"J\"], [9, \"I\"]])"
   ]
  },
  {
   "cell_type": "code",
   "execution_count": 4,
   "id": "f937dcee-9b6f-4274-bc2c-4d5d9c8ce133",
   "metadata": {},
   "outputs": [
    {
     "data": {
      "text/plain": [
       "array(['1', '3', '2', '4', '5', '7', '6', '8', '10', '9'], dtype='<U11')"
      ]
     },
     "execution_count": 4,
     "metadata": {},
     "output_type": "execute_result"
    }
   ],
   "source": [
    "np_array_2d[::,0]"
   ]
  },
  {
   "cell_type": "code",
   "execution_count": 5,
   "id": "90364fd5-ba20-495a-9252-c46d4b5d9b5b",
   "metadata": {},
   "outputs": [
    {
     "name": "stdout",
     "output_type": "stream",
     "text": [
      "[ 1  3  2  4  5  7  6  8 10  9]\n"
     ]
    }
   ],
   "source": [
    "x=np_array_2d[::,0]\n",
    "y=x.astype(int)\n",
    "print(y)\n",
    "\n",
    "# astype(int) to convert elements of an array to the integer data type"
   ]
  },
  {
   "cell_type": "code",
   "execution_count": 6,
   "id": "7518c5fa-0f10-4be8-8c73-b7b20d75aa68",
   "metadata": {},
   "outputs": [
    {
     "data": {
      "text/plain": [
       "array([1, 1, 0, 0, 1, 1, 0, 0, 0, 1], dtype=int32)"
      ]
     },
     "execution_count": 6,
     "metadata": {},
     "output_type": "execute_result"
    }
   ],
   "source": [
    "y%2\n",
    "#use % to get the remainder for division by 2, remainder 1 means that the element is odd"
   ]
  },
  {
   "cell_type": "code",
   "execution_count": 7,
   "id": "c1f941b8-4596-4057-a0e5-ad0dcd1b1735",
   "metadata": {},
   "outputs": [
    {
     "data": {
      "text/plain": [
       "array([ True,  True, False, False,  True,  True, False, False, False,\n",
       "        True])"
      ]
     },
     "execution_count": 7,
     "metadata": {},
     "output_type": "execute_result"
    }
   ],
   "source": [
    "my_mask=y%2==1\n",
    "my_mask\n",
    "#check if the remainder is zero or not\n",
    "#1 is the location of the odd numbers"
   ]
  },
  {
   "cell_type": "code",
   "execution_count": 8,
   "id": "1440f380-a588-46c0-bcdc-b08d7a534838",
   "metadata": {},
   "outputs": [
    {
     "data": {
      "text/plain": [
       "array([['1', 'A'],\n",
       "       ['3', 'C'],\n",
       "       ['5', 'E'],\n",
       "       ['7', 'G'],\n",
       "       ['9', 'I']], dtype='<U11')"
      ]
     },
     "execution_count": 8,
     "metadata": {},
     "output_type": "execute_result"
    }
   ],
   "source": [
    "np_array_2d[my_mask]"
   ]
  },
  {
   "cell_type": "code",
   "execution_count": 9,
   "id": "86b92482-5535-4b25-81f2-34fbb506e38b",
   "metadata": {},
   "outputs": [
    {
     "data": {
      "text/plain": [
       "array(['A', 'C', 'E', 'G', 'I'], dtype='<U11')"
      ]
     },
     "execution_count": 9,
     "metadata": {},
     "output_type": "execute_result"
    }
   ],
   "source": [
    "np_array_2d[my_mask,1] #use the mask and extract the corresponding second element"
   ]
  },
  {
   "cell_type": "code",
   "execution_count": null,
   "id": "7680466b-013c-4fcd-b1eb-246ff09b08f8",
   "metadata": {},
   "outputs": [],
   "source": []
  },
  {
   "cell_type": "code",
   "execution_count": null,
   "id": "372fb827-7ff6-4658-9173-b558265d9ab1",
   "metadata": {},
   "outputs": [],
   "source": []
  }
 ],
 "metadata": {
  "kernelspec": {
   "display_name": "Python 3 (ipykernel)",
   "language": "python",
   "name": "python3"
  },
  "language_info": {
   "codemirror_mode": {
    "name": "ipython",
    "version": 3
   },
   "file_extension": ".py",
   "mimetype": "text/x-python",
   "name": "python",
   "nbconvert_exporter": "python",
   "pygments_lexer": "ipython3",
   "version": "3.11.5"
  },
  "toc": {
   "base_numbering": 1,
   "nav_menu": {},
   "number_sections": true,
   "sideBar": true,
   "skip_h1_title": false,
   "title_cell": "Table of Contents",
   "title_sidebar": "Contents",
   "toc_cell": false,
   "toc_position": {},
   "toc_section_display": true,
   "toc_window_display": false
  },
  "vscode": {
   "interpreter": {
    "hash": "31f2aee4e71d21fbe5cf8b01ff0e069b9275f58929596ceb00d14d90e3e16cd6"
   }
  }
 },
 "nbformat": 4,
 "nbformat_minor": 5
}
