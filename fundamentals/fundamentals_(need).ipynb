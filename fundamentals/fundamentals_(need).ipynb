{
 "cells": [
  {
   "cell_type": "markdown",
   "id": "123456",
   "metadata": {},
   "source": [
    "<div style=\"text-align:left;font-size:2em\"><span style=\"font-weight:bolder;font-size:1.25em\">SP2273 | Learning Portfolio</span><br><br><span style=\"font-weight:bold;color:darkred\">Fundamentals (Need)</span></div>"
   ]
  },
  {
   "cell_type": "markdown",
   "id": "e9da1c8d",
   "metadata": {},
   "source": [
    "# Functions"
   ]
  },
  {
   "cell_type": "code",
   "execution_count": 2,
   "id": "e1591dab",
   "metadata": {},
   "outputs": [
    {
     "name": "stdout",
     "output_type": "stream",
     "text": [
      "Hello World!\n"
     ]
    }
   ],
   "source": [
    "print('Hello World!')"
   ]
  },
  {
   "cell_type": "markdown",
   "id": "7cfd096a",
   "metadata": {},
   "source": [
    "# Python is interpreted"
   ]
  },
  {
   "cell_type": "code",
   "execution_count": 2,
   "id": "5609c51c",
   "metadata": {},
   "outputs": [
    {
     "name": "stdout",
     "output_type": "stream",
     "text": [
      "Hello World 1\n",
      "Hello World again 2\n",
      "Hello World Hahaha\n",
      "Hello World again 3\n",
      "Hello World 4\n",
      "Hello World again 5\n"
     ]
    }
   ],
   "source": [
    "print('Hello World 1')\n",
    "print('Hello World again 2')\n",
    "print('Hello World Hahaha')\n",
    "print('Hello World again 3')\n",
    "print('Hello World 4')\n",
    "print('Hello World again 5')"
   ]
  },
  {
   "cell_type": "markdown",
   "id": "39e021a8",
   "metadata": {},
   "source": [
    "# Python is sensitive."
   ]
  },
  {
   "cell_type": "code",
   "execution_count": 3,
   "id": "79df3948",
   "metadata": {},
   "outputs": [
    {
     "name": "stdout",
     "output_type": "stream",
     "text": [
      "Hello World!\n"
     ]
    }
   ],
   "source": [
    "print('Hello World!') #This will work 'Print ('Hello World!') will not work with capital P"
   ]
  },
  {
   "cell_type": "markdown",
   "id": "3683fee0",
   "metadata": {},
   "source": [
    "# Comments"
   ]
  },
  {
   "cell_type": "code",
   "execution_count": null,
   "id": "0096c2fa",
   "metadata": {},
   "outputs": [],
   "source": [
    "print('Hello World!')\n",
    "print('Hello World!')   # This is comment\n",
    "\n",
    "#-----------------------------------#\n",
    "print('Hello World!')\n",
    "print('Hello World!')\n",
    "print('Hello World!')\n",
    "\n",
    "#-----------------------------------#\n",
    "print('Hello World!')"
   ]
  },
  {
   "cell_type": "code",
   "execution_count": null,
   "id": "e7f8fca9",
   "metadata": {},
   "outputs": [],
   "source": [
    "print(\"Hello world\" )     # Printing \"Hello World.\"\n",
    "                          # Line 1\n",
    "                          # Line 2  "
   ]
  },
  {
   "cell_type": "code",
   "execution_count": null,
   "id": "4e2480ec",
   "metadata": {},
   "outputs": [],
   "source": [
    "\"\"\"\n",
    "This is\n",
    "a multiline\n",
    "thingy\n",
    "\"\"\"\n"
   ]
  },
  {
   "cell_type": "code",
   "execution_count": 16,
   "id": "dc089820",
   "metadata": {},
   "outputs": [],
   "source": [
    "name='Hahahah'"
   ]
  },
  {
   "cell_type": "markdown",
   "id": "a5c3cacc",
   "metadata": {},
   "source": [
    "# = is not the same as =="
   ]
  },
  {
   "cell_type": "code",
   "execution_count": 2,
   "id": "893d2936",
   "metadata": {},
   "outputs": [],
   "source": [
    "name = 'Batman' #make name carry 'Batman'"
   ]
  },
  {
   "cell_type": "code",
   "execution_count": 5,
   "id": "7977e6b7",
   "metadata": {},
   "outputs": [
    {
     "data": {
      "text/plain": [
       "'Batman'"
      ]
     },
     "execution_count": 5,
     "metadata": {},
     "output_type": "execute_result"
    }
   ],
   "source": [
    "name"
   ]
  },
  {
   "cell_type": "code",
   "execution_count": 5,
   "id": "f49f69d7",
   "metadata": {},
   "outputs": [
    {
     "data": {
      "text/plain": [
       "True"
      ]
     },
     "execution_count": 5,
     "metadata": {},
     "output_type": "execute_result"
    }
   ],
   "source": [
    "name == 'Batman' #tell me if the name is equal to 'Batman'? True or False answer\n",
    "#= assigns a value\n",
    "#== asks a question "
   ]
  },
  {
   "cell_type": "markdown",
   "id": "4e680d91",
   "metadata": {},
   "source": [
    "# Use if to make decisions"
   ]
  },
  {
   "cell_type": "code",
   "execution_count": 3,
   "id": "339a3111",
   "metadata": {},
   "outputs": [
    {
     "name": "stdout",
     "output_type": "stream",
     "text": [
      "Hello Batman!\n"
     ]
    }
   ],
   "source": [
    "# name = 'Batman'\n",
    "\n",
    "if name == 'Batman':\n",
    "    print('Hello Batman!')  # THINGS YOU DO WHEN IT IS TRUE\n",
    "    \n",
    "else:\n",
    "    print('Hello World!')   # WHEN IT IS FALSE\n",
    "    print('Hello World!')\n",
    "    print('Hello World!')\n",
    "    print('Hello World!')\n",
    "\n",
    "#use command word \"if\" to make decisions"
   ]
  },
  {
   "cell_type": "markdown",
   "id": "fcf23e92",
   "metadata": {},
   "source": [
    "# Indentations (spaces) are sooo IMPORTANT!"
   ]
  },
  {
   "cell_type": "code",
   "execution_count": 23,
   "id": "8a2b7f37",
   "metadata": {},
   "outputs": [
    {
     "name": "stdout",
     "output_type": "stream",
     "text": [
      "10\n"
     ]
    }
   ],
   "source": [
    "x = 10\n",
    "print(x) #if there is a space before print, it won't work "
   ]
  },
  {
   "cell_type": "markdown",
   "id": "d3114929",
   "metadata": {},
   "source": [
    "# ‘age’ is English, age is a variable."
   ]
  },
  {
   "cell_type": "code",
   "execution_count": 28,
   "id": "1e6c7dcb",
   "metadata": {},
   "outputs": [],
   "source": [
    "student_age=10000\n",
    "x = 10000"
   ]
  },
  {
   "cell_type": "code",
   "execution_count": 27,
   "id": "2f1369c6",
   "metadata": {},
   "outputs": [
    {
     "name": "stdout",
     "output_type": "stream",
     "text": [
      "age 10000\n",
      "age\n"
     ]
    }
   ],
   "source": [
    "print('age',age)       # Print the value of the variable age\n",
    "print(\"age\")     # Print the English word 'age'"
   ]
  },
  {
   "cell_type": "code",
   "execution_count": null,
   "id": "3489ea5c",
   "metadata": {},
   "outputs": [],
   "source": [
    "# print= 'PRINT'"
   ]
  },
  {
   "cell_type": "code",
   "execution_count": 6,
   "id": "e520c4dc-d1e9-4ca9-905e-f14033ac347e",
   "metadata": {},
   "outputs": [
    {
     "name": "stdout",
     "output_type": "stream",
     "text": [
      "10\n"
     ]
    }
   ],
   "source": [
    "age=10\n",
    "print(age)"
   ]
  },
  {
   "cell_type": "code",
   "execution_count": 7,
   "id": "89594638-7b2f-4f16-9392-13c1489d458e",
   "metadata": {},
   "outputs": [
    {
     "name": "stdout",
     "output_type": "stream",
     "text": [
      "You're twenty years old.\n"
     ]
    }
   ],
   "source": [
    "print(\"You're twenty years old.\")"
   ]
  },
  {
   "cell_type": "markdown",
   "id": "d9bf315f",
   "metadata": {},
   "source": [
    "# Brackets (), [], {}"
   ]
  },
  {
   "cell_type": "code",
   "execution_count": 8,
   "id": "6b2c8e96",
   "metadata": {},
   "outputs": [
    {
     "name": "stdout",
     "output_type": "stream",
     "text": [
      "Hello!\n"
     ]
    }
   ],
   "source": [
    "print('Hello!')             # In functions"
   ]
  },
  {
   "cell_type": "code",
   "execution_count": 9,
   "id": "0c6c0415",
   "metadata": {},
   "outputs": [
    {
     "data": {
      "text/plain": [
       "15"
      ]
     },
     "execution_count": 9,
     "metadata": {},
     "output_type": "execute_result"
    }
   ],
   "source": [
    "(1 + 2) * 5                 # For math"
   ]
  },
  {
   "cell_type": "code",
   "execution_count": 10,
   "id": "6ebaff8e",
   "metadata": {},
   "outputs": [],
   "source": [
    "#(1 + [3*5]) * 5             # doesnt' work, [] represents a list "
   ]
  },
  {
   "cell_type": "code",
   "execution_count": 11,
   "id": "fe17e62f",
   "metadata": {},
   "outputs": [],
   "source": [
    "py_list = [1, 2, 3, 4, 5]   # A 1D list\n",
    "\n",
    "py_list_2 = [               # A 2D list\n",
    "                [1, \"A\"],      \n",
    "                [2, \"B\"],\n",
    "                [3, \"C\"],\n",
    "                [4, \"D\"],\n",
    "                [5, \"E\"]\n",
    "            ]"
   ]
  },
  {
   "cell_type": "markdown",
   "id": "860183c4",
   "metadata": {},
   "source": [
    "Dictionary"
   ]
  },
  {
   "cell_type": "code",
   "execution_count": 15,
   "id": "e58de7a0",
   "metadata": {},
   "outputs": [],
   "source": [
    "personal_info = {\n",
    "    'Names': 'Batman',\n",
    "    'Real Name': 'Bruce Wayne',\n",
    "    'Age': 55,\n",
    "    'Affiliation': 'Justice League',\n",
    "    'Universe': 'DC'\n",
    "}\n",
    "\n",
    "#python uses {} curly brackets to store data in a thing called 'dictionary'"
   ]
  },
  {
   "cell_type": "code",
   "execution_count": 16,
   "id": "71877fbf",
   "metadata": {},
   "outputs": [
    {
     "data": {
      "text/plain": [
       "'Batman'"
      ]
     },
     "execution_count": 16,
     "metadata": {},
     "output_type": "execute_result"
    }
   ],
   "source": [
    "personal_info['Names']"
   ]
  },
  {
   "cell_type": "code",
   "execution_count": 17,
   "id": "336c278a-99e1-4cfd-bdbb-085f9d3334bb",
   "metadata": {},
   "outputs": [
    {
     "name": "stdout",
     "output_type": "stream",
     "text": [
      "Batman\n"
     ]
    }
   ],
   "source": [
    "print(personal_info['Names'])"
   ]
  },
  {
   "cell_type": "code",
   "execution_count": 22,
   "id": "1a4f54e5",
   "metadata": {},
   "outputs": [
    {
     "data": {
      "text/plain": [
       "{'Names': 'Hahahah',\n",
       " 'Real Name': 'Bruce Wayne',\n",
       " 'Age': 55,\n",
       " 'Affiliation': 'Justice League',\n",
       " 'Universe': 'DC'}"
      ]
     },
     "execution_count": 22,
     "metadata": {},
     "output_type": "execute_result"
    }
   ],
   "source": [
    "personal_info"
   ]
  },
  {
   "cell_type": "code",
   "execution_count": 18,
   "id": "738d8eac-80ff-4809-af6a-c13f945a8f05",
   "metadata": {},
   "outputs": [
    {
     "name": "stdout",
     "output_type": "stream",
     "text": [
      "{'Names': 'Batman', 'Real Name': 'Bruce Wayne', 'Age': 55, 'Affiliation': 'Justice League', 'Universe': 'DC'}\n"
     ]
    }
   ],
   "source": [
    "print(personal_info)"
   ]
  },
  {
   "cell_type": "markdown",
   "id": "65e23054",
   "metadata": {},
   "source": [
    "# 10 Giving Python superpowers with Packages"
   ]
  },
  {
   "cell_type": "code",
   "execution_count": null,
   "id": "d89be71b-7029-4571-9016-a4a9a2ab352f",
   "metadata": {},
   "outputs": [],
   "source": [
    "sqrt(4) #python cannot calculate square roots, unless we import packages eg math"
   ]
  },
  {
   "cell_type": "code",
   "execution_count": 40,
   "id": "755fe221",
   "metadata": {},
   "outputs": [],
   "source": [
    "import math"
   ]
  },
  {
   "cell_type": "code",
   "execution_count": 46,
   "id": "9490e51a",
   "metadata": {},
   "outputs": [
    {
     "data": {
      "text/plain": [
       "2.0"
      ]
     },
     "execution_count": 46,
     "metadata": {},
     "output_type": "execute_result"
    }
   ],
   "source": [
    "math.sqrt(4)"
   ]
  },
  {
   "cell_type": "code",
   "execution_count": 42,
   "id": "4452fdc1",
   "metadata": {},
   "outputs": [],
   "source": [
    "import numpy"
   ]
  },
  {
   "cell_type": "code",
   "execution_count": 44,
   "id": "e2564825",
   "metadata": {},
   "outputs": [
    {
     "data": {
      "text/plain": [
       "array([2., 3., 4.])"
      ]
     },
     "execution_count": 44,
     "metadata": {},
     "output_type": "execute_result"
    }
   ],
   "source": [
    "numpy.sqrt([4,9,16])"
   ]
  },
  {
   "cell_type": "code",
   "execution_count": 21,
   "id": "071d55e6",
   "metadata": {},
   "outputs": [],
   "source": [
    "import numpy as np"
   ]
  },
  {
   "cell_type": "code",
   "execution_count": 22,
   "id": "62ba243d",
   "metadata": {},
   "outputs": [
    {
     "data": {
      "text/plain": [
       "10.0"
      ]
     },
     "execution_count": 22,
     "metadata": {},
     "output_type": "execute_result"
    }
   ],
   "source": [
    "np.sqrt(100)"
   ]
  },
  {
   "cell_type": "code",
   "execution_count": 23,
   "id": "61a96ce1-0d33-4bd3-958c-dc16969ff4a1",
   "metadata": {},
   "outputs": [
    {
     "data": {
      "text/plain": [
       "array([2., 3., 4.])"
      ]
     },
     "execution_count": 23,
     "metadata": {},
     "output_type": "execute_result"
    }
   ],
   "source": [
    "np.sqrt([4, 9, 16])"
   ]
  },
  {
   "cell_type": "markdown",
   "id": "88b4a604",
   "metadata": {},
   "source": [
    "# The dot (.)"
   ]
  },
  {
   "cell_type": "code",
   "execution_count": null,
   "id": "4da23f65",
   "metadata": {},
   "outputs": [],
   "source": [
    "math.sqrt(4)\n",
    "np.sqrt(4)\n",
    "\n",
    "#the dot is used to indicate ownership - the squareroot belongs to math, belongs to np"
   ]
  },
  {
   "cell_type": "code",
   "execution_count": 4,
   "id": "10396d0b",
   "metadata": {},
   "outputs": [
    {
     "data": {
      "text/plain": [
       "'APPLE'"
      ]
     },
     "execution_count": 4,
     "metadata": {},
     "output_type": "execute_result"
    }
   ],
   "source": [
    "'apple'.upper()"
   ]
  },
  {
   "cell_type": "code",
   "execution_count": 18,
   "id": "089f0304",
   "metadata": {},
   "outputs": [
    {
     "data": {
      "text/plain": [
       "'HAHAH'"
      ]
     },
     "execution_count": 18,
     "metadata": {},
     "output_type": "execute_result"
    }
   ],
   "source": [
    "'hahah'.upper()"
   ]
  },
  {
   "cell_type": "code",
   "execution_count": 25,
   "id": "8123cb8f-e3f1-435e-be22-c7409e37b48b",
   "metadata": {},
   "outputs": [
    {
     "data": {
      "text/plain": [
       "'apple'"
      ]
     },
     "execution_count": 25,
     "metadata": {},
     "output_type": "execute_result"
    }
   ],
   "source": [
    "'apple'.lower()"
   ]
  },
  {
   "cell_type": "code",
   "execution_count": 26,
   "id": "2b512997",
   "metadata": {},
   "outputs": [
    {
     "data": {
      "text/plain": [
       "'Apple'"
      ]
     },
     "execution_count": 26,
     "metadata": {},
     "output_type": "execute_result"
    }
   ],
   "source": [
    "'apple'.title()"
   ]
  },
  {
   "cell_type": "code",
   "execution_count": 27,
   "id": "2fba0650",
   "metadata": {},
   "outputs": [
    {
     "data": {
      "text/plain": [
       "'1'"
      ]
     },
     "execution_count": 27,
     "metadata": {},
     "output_type": "execute_result"
    }
   ],
   "source": [
    "'1'.upper()"
   ]
  },
  {
   "cell_type": "code",
   "execution_count": 28,
   "id": "1303b127-b884-4bbe-9399-90d5ad125e04",
   "metadata": {},
   "outputs": [
    {
     "data": {
      "text/plain": [
       "'1'"
      ]
     },
     "execution_count": 28,
     "metadata": {},
     "output_type": "execute_result"
    }
   ],
   "source": [
    "\"1\".upper()"
   ]
  },
  {
   "cell_type": "code",
   "execution_count": 8,
   "id": "b7a5acd6",
   "metadata": {},
   "outputs": [],
   "source": [
    "x=1j+10 #x is a complex number with an imaginary part of 1"
   ]
  },
  {
   "cell_type": "code",
   "execution_count": 9,
   "id": "a6d46ecf",
   "metadata": {},
   "outputs": [
    {
     "data": {
      "text/plain": [
       "10.0"
      ]
     },
     "execution_count": 9,
     "metadata": {},
     "output_type": "execute_result"
    }
   ],
   "source": [
    "x.real #the 'real' attribute of a complex number - can access the real part of 'x' using x.real"
   ]
  },
  {
   "cell_type": "code",
   "execution_count": 10,
   "id": "bd50be24",
   "metadata": {},
   "outputs": [
    {
     "data": {
      "text/plain": [
       "1.0"
      ]
     },
     "execution_count": 10,
     "metadata": {},
     "output_type": "execute_result"
    }
   ],
   "source": [
    "x.imag #imagine part of 'x'"
   ]
  },
  {
   "cell_type": "code",
   "execution_count": 19,
   "id": "e7a19288",
   "metadata": {},
   "outputs": [],
   "source": [
    "def my_print(text):\n",
    "    print(text.upper())"
   ]
  },
  {
   "cell_type": "code",
   "execution_count": 20,
   "id": "50003d36",
   "metadata": {},
   "outputs": [
    {
     "name": "stdout",
     "output_type": "stream",
     "text": [
      "APPLE\n"
     ]
    }
   ],
   "source": [
    "my_print('apple')"
   ]
  },
  {
   "cell_type": "code",
   "execution_count": 21,
   "id": "384e3758",
   "metadata": {},
   "outputs": [],
   "source": [
    "print = my_print"
   ]
  },
  {
   "cell_type": "code",
   "execution_count": 30,
   "id": "b6889e1c",
   "metadata": {},
   "outputs": [
    {
     "data": {
      "text/plain": [
       "['I', 'am', 'Batman']"
      ]
     },
     "execution_count": 30,
     "metadata": {},
     "output_type": "execute_result"
    }
   ],
   "source": [
    "\"I am Batman\".split() #splitting a sentence into words, cannot split a function of numbers eg 1234.split()"
   ]
  },
  {
   "cell_type": "code",
   "execution_count": null,
   "id": "f0344524-da1b-4eeb-a0fd-77cc3fe643f7",
   "metadata": {},
   "outputs": [],
   "source": []
  }
 ],
 "metadata": {
  "kernelspec": {
   "display_name": "Python 3 (ipykernel)",
   "language": "python",
   "name": "python3"
  },
  "language_info": {
   "codemirror_mode": {
    "name": "ipython",
    "version": 3
   },
   "file_extension": ".py",
   "mimetype": "text/x-python",
   "name": "python",
   "nbconvert_exporter": "python",
   "pygments_lexer": "ipython3",
   "version": "3.11.5"
  },
  "toc": {
   "base_numbering": 1,
   "nav_menu": {},
   "number_sections": true,
   "sideBar": true,
   "skip_h1_title": false,
   "title_cell": "Table of Contents",
   "title_sidebar": "Contents",
   "toc_cell": false,
   "toc_position": {},
   "toc_section_display": true,
   "toc_window_display": false
  },
  "vscode": {
   "interpreter": {
    "hash": "31f2aee4e71d21fbe5cf8b01ff0e069b9275f58929596ceb00d14d90e3e16cd6"
   }
  }
 },
 "nbformat": 4,
 "nbformat_minor": 5
}
