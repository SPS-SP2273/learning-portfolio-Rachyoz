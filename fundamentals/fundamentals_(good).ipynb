{
 "cells": [
  {
   "cell_type": "markdown",
   "id": "123456",
   "metadata": {},
   "source": [
    "<div style=\"text-align:left;font-size:2em\"><span style=\"font-weight:bolder;font-size:1.25em\">SP2273 | Learning Portfolio</span><br><br><span style=\"font-weight:bold;color:darkred\">Fundamentals (Good)</span></div>"
   ]
  },
  {
   "cell_type": "code",
   "execution_count": 15,
   "id": "35c3c7d7-cd66-4d43-a273-bc2147d47c0b",
   "metadata": {},
   "outputs": [],
   "source": [
    "import numpy as np"
   ]
  },
  {
   "cell_type": "markdown",
   "id": "ae901c7d",
   "metadata": {},
   "source": [
    "# There is more to if"
   ]
  },
  {
   "cell_type": "code",
   "execution_count": 21,
   "id": "898de8bd",
   "metadata": {},
   "outputs": [
    {
     "name": "stdout",
     "output_type": "stream",
     "text": [
      "Hello World!\n"
     ]
    }
   ],
   "source": [
    "name = 'LOL'\n",
    "\n",
    "if name == 'Batman':\n",
    "    print('Hello Batman!')\n",
    "elif name == 'Hahahhahaha':\n",
    "    \n",
    "    print('Hello Sidekick!')\n",
    "elif name == 'Hahahhahaha':\n",
    "    \n",
    "    print('Hello Marvin')\n",
    "elif name == 'Hahahhahaha':\n",
    "    \n",
    "    print('Hello Who')\n",
    "else:\n",
    "    print('Hello World!')"
   ]
  },
  {
   "cell_type": "code",
   "execution_count": 32,
   "id": "5c1f1f46-6db1-498d-8b6a-30a815daa0d0",
   "metadata": {},
   "outputs": [
    {
     "name": "stdout",
     "output_type": "stream",
     "text": [
      "Hello Batman!\n"
     ]
    }
   ],
   "source": [
    "name = 'Batman'\n",
    "\n",
    "if name == 'Batman':\n",
    "    print('Hello Batman!')\n",
    "elif name == 'Robin':\n",
    "    print('Hello Sidekick!')\n",
    "else:\n",
    "    print('Hello World!')"
   ]
  },
  {
   "cell_type": "code",
   "execution_count": 34,
   "id": "e96651a4-65b7-4521-9548-768887a81254",
   "metadata": {},
   "outputs": [
    {
     "name": "stdout",
     "output_type": "stream",
     "text": [
      "Hello Sidekick!\n"
     ]
    }
   ],
   "source": [
    "name = 'Robin'\n",
    "\n",
    "if name == 'Batman':\n",
    "    print('Hello Batman!')\n",
    "elif name == 'Robin':\n",
    "    print('Hello Sidekick!')\n",
    "else:\n",
    "    print('Hello World!')"
   ]
  },
  {
   "cell_type": "code",
   "execution_count": 36,
   "id": "492f3de3-52c2-43d3-9ec4-79e3839f50af",
   "metadata": {},
   "outputs": [
    {
     "name": "stdout",
     "output_type": "stream",
     "text": [
      "Hello World!\n"
     ]
    }
   ],
   "source": [
    "name = 'ahahaha'\n",
    "\n",
    "if name == 'Batman':\n",
    "    print('Hello Batman!')\n",
    "elif name == 'Robin':\n",
    "    print('Hello Sidekick!')\n",
    "else:\n",
    "    print('Hello World!')"
   ]
  },
  {
   "cell_type": "markdown",
   "id": "d331d0e2",
   "metadata": {},
   "source": [
    "# Asking questions"
   ]
  },
  {
   "cell_type": "code",
   "execution_count": 39,
   "id": "5609bf35",
   "metadata": {},
   "outputs": [],
   "source": [
    "fruits = ['apple', 'banana', 'pineapple', 'jackfruit']\n",
    "vegetables = ['celery', 'potato', 'broccoli', 'kale']"
   ]
  },
  {
   "cell_type": "code",
   "execution_count": 40,
   "id": "84e7e8bb",
   "metadata": {},
   "outputs": [
    {
     "data": {
      "text/plain": [
       "True"
      ]
     },
     "execution_count": 40,
     "metadata": {},
     "output_type": "execute_result"
    }
   ],
   "source": [
    "'apple' in fruits #is apple in the list fruits"
   ]
  },
  {
   "cell_type": "code",
   "execution_count": 41,
   "id": "07825e64",
   "metadata": {},
   "outputs": [
    {
     "data": {
      "text/plain": [
       "False"
      ]
     },
     "execution_count": 41,
     "metadata": {},
     "output_type": "execute_result"
    }
   ],
   "source": [
    "'peach' in fruits #is peach in the list fruits"
   ]
  },
  {
   "cell_type": "code",
   "execution_count": 6,
   "id": "92f67516",
   "metadata": {},
   "outputs": [
    {
     "data": {
      "text/plain": [
       "True"
      ]
     },
     "execution_count": 6,
     "metadata": {},
     "output_type": "execute_result"
    }
   ],
   "source": [
    "'peach' not in fruits #is peach not in the list fruits"
   ]
  },
  {
   "cell_type": "code",
   "execution_count": 7,
   "id": "f7446624",
   "metadata": {},
   "outputs": [
    {
     "data": {
      "text/plain": [
       "False"
      ]
     },
     "execution_count": 7,
     "metadata": {},
     "output_type": "execute_result"
    }
   ],
   "source": [
    "'PP' in 'apple' #are the letters pp in the word apple, however, python is case sensitive "
   ]
  },
  {
   "cell_type": "code",
   "execution_count": 42,
   "id": "ec6f1af2-40da-421f-bf1e-ed0cd859638a",
   "metadata": {},
   "outputs": [
    {
     "data": {
      "text/plain": [
       "True"
      ]
     },
     "execution_count": 42,
     "metadata": {},
     "output_type": "execute_result"
    }
   ],
   "source": [
    "'pp' in 'apple'"
   ]
  },
  {
   "cell_type": "code",
   "execution_count": 8,
   "id": "077f85f0",
   "metadata": {},
   "outputs": [
    {
     "data": {
      "text/plain": [
       "True"
      ]
     },
     "execution_count": 8,
     "metadata": {},
     "output_type": "execute_result"
    }
   ],
   "source": [
    "('apple' in fruits) and ('celery' in vegetables) "
   ]
  },
  {
   "cell_type": "code",
   "execution_count": 9,
   "id": "bbbac9f5",
   "metadata": {},
   "outputs": [
    {
     "data": {
      "text/plain": [
       "True"
      ]
     },
     "execution_count": 9,
     "metadata": {},
     "output_type": "execute_result"
    }
   ],
   "source": [
    "('apple' in fruits) or ('celery' in vegetables)"
   ]
  },
  {
   "cell_type": "code",
   "execution_count": null,
   "id": "31d663ea-7611-4dda-a49e-e9050e7105d7",
   "metadata": {},
   "outputs": [],
   "source": [
    "'a' > 10 #will not work"
   ]
  },
  {
   "cell_type": "code",
   "execution_count": 43,
   "id": "7b583ba7",
   "metadata": {},
   "outputs": [
    {
     "data": {
      "text/plain": [
       "False"
      ]
     },
     "execution_count": 43,
     "metadata": {},
     "output_type": "execute_result"
    }
   ],
   "source": [
    "'apple' > 'orange' #python can compare 'apples' and 'orange', because English letters are internally represented as numbers "
   ]
  },
  {
   "cell_type": "markdown",
   "id": "5554972f",
   "metadata": {},
   "source": [
    "## Asking Math questions"
   ]
  },
  {
   "cell_type": "code",
   "execution_count": null,
   "id": "e38e5525",
   "metadata": {},
   "outputs": [],
   "source": [
    "10 >= 3"
   ]
  },
  {
   "cell_type": "code",
   "execution_count": null,
   "id": "f545c778",
   "metadata": {},
   "outputs": [],
   "source": [
    "x=3"
   ]
  },
  {
   "cell_type": "code",
   "execution_count": null,
   "id": "8ce9881d",
   "metadata": {},
   "outputs": [],
   "source": [
    "x > 5 and x < 15"
   ]
  },
  {
   "cell_type": "code",
   "execution_count": null,
   "id": "7f6680b5",
   "metadata": {},
   "outputs": [],
   "source": [
    "(x > 5) and (x < 15)"
   ]
  },
  {
   "cell_type": "code",
   "execution_count": null,
   "id": "bedc2fb3",
   "metadata": {},
   "outputs": [],
   "source": [
    "5 <= x < 15 # Only in Python"
   ]
  },
  {
   "cell_type": "markdown",
   "id": "e2a52ead",
   "metadata": {},
   "source": [
    "# Python stores information in different formats or types"
   ]
  },
  {
   "cell_type": "code",
   "execution_count": 1,
   "id": "80121c37",
   "metadata": {},
   "outputs": [
    {
     "name": "stdout",
     "output_type": "stream",
     "text": [
      "1 <class 'int'>\n"
     ]
    }
   ],
   "source": [
    "x = int(1.234)\n",
    "print(x, type(x)) #as an integer - dropping the decimal points "
   ]
  },
  {
   "cell_type": "code",
   "execution_count": 2,
   "id": "98f64945",
   "metadata": {},
   "outputs": [
    {
     "name": "stdout",
     "output_type": "stream",
     "text": [
      "1.234 <class 'str'>\n"
     ]
    }
   ],
   "source": [
    "x = str(1.234)\n",
    "print(x, type(x)) #as an english word - as a string "
   ]
  },
  {
   "cell_type": "code",
   "execution_count": 3,
   "id": "0a101948",
   "metadata": {},
   "outputs": [
    {
     "name": "stdout",
     "output_type": "stream",
     "text": [
      "1.234 <class 'float'>\n"
     ]
    }
   ],
   "source": [
    "x = float(1.234)\n",
    "print(x, type(x)) #as a decimal number (float) "
   ]
  },
  {
   "cell_type": "code",
   "execution_count": 4,
   "id": "2ba50aab",
   "metadata": {},
   "outputs": [
    {
     "name": "stdout",
     "output_type": "stream",
     "text": [
      "(1.234+0j) <class 'complex'>\n"
     ]
    }
   ],
   "source": [
    "x = complex(1.234)\n",
    "print(x, type(x)) #as a complex number, includes the imaginary part of the number "
   ]
  },
  {
   "cell_type": "markdown",
   "id": "e7483d2a",
   "metadata": {},
   "source": [
    "# Never compare floats directly"
   ]
  },
  {
   "cell_type": "markdown",
   "id": "72c9c118",
   "metadata": {},
   "source": [
    "## The Problem"
   ]
  },
  {
   "cell_type": "code",
   "execution_count": 7,
   "id": "e94c9904",
   "metadata": {},
   "outputs": [
    {
     "data": {
      "text/plain": [
       "False"
      ]
     },
     "execution_count": 7,
     "metadata": {},
     "output_type": "execute_result"
    }
   ],
   "source": [
    "a = 0.1\n",
    "a3 = 0.3\n",
    "a * 3 == a3 #due to round off errors "
   ]
  },
  {
   "cell_type": "code",
   "execution_count": 9,
   "id": "eb7d363a-85e0-4bb7-a64f-4edd3e46f2a9",
   "metadata": {},
   "outputs": [
    {
     "data": {
      "text/plain": [
       "0.30000000000000004"
      ]
     },
     "execution_count": 9,
     "metadata": {},
     "output_type": "execute_result"
    }
   ],
   "source": [
    "a*3"
   ]
  },
  {
   "cell_type": "code",
   "execution_count": 10,
   "id": "ae20663e",
   "metadata": {},
   "outputs": [
    {
     "data": {
      "text/plain": [
       "'0.29999999999999999'"
      ]
     },
     "execution_count": 10,
     "metadata": {},
     "output_type": "execute_result"
    }
   ],
   "source": [
    "f'{0.3:.17f}' #printing 0.3 to 17 decimal places"
   ]
  },
  {
   "cell_type": "markdown",
   "id": "905c5f77",
   "metadata": {},
   "source": [
    "## A solution"
   ]
  },
  {
   "cell_type": "code",
   "execution_count": null,
   "id": "1254a28c-13e8-4407-9ccc-036829ef7b86",
   "metadata": {},
   "outputs": [],
   "source": [
    "#to get around these types of issues, should check if the variable is close to the expected values instead of checking for equality"
   ]
  },
  {
   "cell_type": "code",
   "execution_count": 12,
   "id": "eec6733d",
   "metadata": {},
   "outputs": [
    {
     "data": {
      "text/plain": [
       "True"
      ]
     },
     "execution_count": 12,
     "metadata": {},
     "output_type": "execute_result"
    }
   ],
   "source": [
    "eps = 1E-10 \n",
    "abs(a*3 -a3) < 1E-10"
   ]
  },
  {
   "cell_type": "code",
   "execution_count": 17,
   "id": "2932038b-3190-49a9-8215-8be086160a7a",
   "metadata": {},
   "outputs": [],
   "source": [
    "import numpy as np"
   ]
  },
  {
   "cell_type": "code",
   "execution_count": 18,
   "id": "d4196eac",
   "metadata": {},
   "outputs": [
    {
     "data": {
      "text/plain": [
       "True"
      ]
     },
     "execution_count": 18,
     "metadata": {},
     "output_type": "execute_result"
    }
   ],
   "source": [
    "np.isclose(a * 3, a3) #check if the results of a*3 is close to a3. "
   ]
  },
  {
   "cell_type": "markdown",
   "id": "7e220bf8",
   "metadata": {},
   "source": [
    "# Combining English and variables"
   ]
  },
  {
   "cell_type": "markdown",
   "id": "4c6bca80",
   "metadata": {},
   "source": [
    "## Structure of f-strings"
   ]
  },
  {
   "cell_type": "markdown",
   "id": "d83c0158-f737-4b4a-8949-6cea1d4a9a98",
   "metadata": {},
   "source": [
    "**Example 1**"
   ]
  },
  {
   "cell_type": "code",
   "execution_count": 3,
   "id": "202c9b4b-44f0-4aa1-92af-4404cc4d1ab6",
   "metadata": {},
   "outputs": [
    {
     "name": "stdout",
     "output_type": "stream",
     "text": [
      "Hello Batman!\n"
     ]
    }
   ],
   "source": [
    "name = \"Batman\"\n",
    "print(f\"Hello {name}!\") #the {name} within the f-string gets replaced with the value of the variable 'name'"
   ]
  },
  {
   "cell_type": "markdown",
   "id": "5cae7d3e-f5f5-4c5a-b960-72655d822c10",
   "metadata": {},
   "source": [
    "**Example 2**"
   ]
  },
  {
   "cell_type": "code",
   "execution_count": 4,
   "id": "8f85bbda-f318-4322-86cc-e7cf744a0952",
   "metadata": {},
   "outputs": [
    {
     "name": "stdout",
     "output_type": "stream",
     "text": [
      "Hello BATMAN!\n"
     ]
    }
   ],
   "source": [
    "name = \"Batman\"\n",
    "print(f\"Hello {name.upper()}!\")"
   ]
  },
  {
   "cell_type": "markdown",
   "id": "4e28a1ea-5cd2-41e8-9b1a-a38d7c1a5a33",
   "metadata": {},
   "source": [
    "**Example 3**"
   ]
  },
  {
   "cell_type": "code",
   "execution_count": 5,
   "id": "eca0825f-1e2c-42cc-9c3f-eb928f252487",
   "metadata": {},
   "outputs": [
    {
     "name": "stdout",
     "output_type": "stream",
     "text": [
      "The value of 10 squared is 100!\n"
     ]
    }
   ],
   "source": [
    "x = 10\n",
    "print(f\"The value of {x} squared is {x**2}!\")"
   ]
  },
  {
   "cell_type": "markdown",
   "id": "201ed4d2-d881-4643-b84f-074a301ef6e3",
   "metadata": {},
   "source": [
    "**Example 4**"
   ]
  },
  {
   "cell_type": "code",
   "execution_count": 6,
   "id": "7eebddf1-6377-4e67-afa4-30261b3a098c",
   "metadata": {},
   "outputs": [
    {
     "name": "stdout",
     "output_type": "stream",
     "text": [
      "Bruce Wayne is Batman.\n"
     ]
    }
   ],
   "source": [
    "text = 'Bruce Wayne is Batman.'\n",
    "print(f'{text}')"
   ]
  },
  {
   "cell_type": "code",
   "execution_count": 19,
   "id": "33fba72c-595d-47c6-93c1-e2e35b848c8d",
   "metadata": {},
   "outputs": [
    {
     "name": "stdout",
     "output_type": "stream",
     "text": [
      "Bruce Wayne is Batman.\n"
     ]
    }
   ],
   "source": [
    "text = 'Bruce Wayne is Batman.'\n",
    "print(f\"{text}\") #double and single quotation marks have no functional difference when it comes to strings "
   ]
  },
  {
   "cell_type": "code",
   "execution_count": null,
   "id": "b449e297-6050-49dd-b3e6-956747bedd62",
   "metadata": {},
   "outputs": [],
   "source": []
  },
  {
   "cell_type": "markdown",
   "id": "0e783a70-0167-41d4-b013-df1f6d9243aa",
   "metadata": {},
   "source": [
    "**Example 5**"
   ]
  },
  {
   "cell_type": "code",
   "execution_count": 21,
   "id": "5c872739-65d5-40a9-93ed-006e99268542",
   "metadata": {},
   "outputs": [
    {
     "name": "stdout",
     "output_type": "stream",
     "text": [
      "        Bruce Wayne is Batman.\n"
     ]
    }
   ],
   "source": [
    "print(f'{text:>30}')      # A block of 30 characters;\n",
    "                          # aligned right"
   ]
  },
  {
   "cell_type": "code",
   "execution_count": 22,
   "id": "23be50e5-c491-4975-81f9-0d34b984d105",
   "metadata": {},
   "outputs": [
    {
     "name": "stdout",
     "output_type": "stream",
     "text": [
      "    Bruce Wayne is Batman.    \n"
     ]
    }
   ],
   "source": [
    "print(f'{text:^30}')      # A block of 30 characters;\n",
    "                          # aligned centre"
   ]
  },
  {
   "cell_type": "code",
   "execution_count": 23,
   "id": "4bfde791-983c-49e1-979a-dd8b3da0651d",
   "metadata": {},
   "outputs": [
    {
     "name": "stdout",
     "output_type": "stream",
     "text": [
      "Bruce Wayne is Batman.        \n"
     ]
    }
   ],
   "source": [
    "print(f'{text:<30}')      # A block of 30 characters;\n",
    "                          # aligned left"
   ]
  },
  {
   "cell_type": "markdown",
   "id": "ad44f317-67a7-4002-8a83-65a1c4e85da1",
   "metadata": {},
   "source": [
    "**Example 6**"
   ]
  },
  {
   "cell_type": "code",
   "execution_count": null,
   "id": "e47d415b-831c-4bbc-b3df-593e7eb64ad2",
   "metadata": {},
   "outputs": [],
   "source": [
    "#using f-string to format numbers "
   ]
  },
  {
   "cell_type": "code",
   "execution_count": 27,
   "id": "a33dac90-dc4b-429e-918e-bc07b1ad241e",
   "metadata": {},
   "outputs": [
    {
     "name": "stdout",
     "output_type": "stream",
     "text": [
      "The cube of pi to 6 decimal places is 0.0641399\n"
     ]
    }
   ],
   "source": [
    "print(f'The cube of pi to 6 decimal places is {22/7**3:05.6g}') \n",
    "#22/7**3: calculates the cube of pi\n",
    "#05: minimum width of the field of 5 characters\n",
    "#.3: number of digits after the decimal point \n",
    "#g: general format - ask python to figure it out "
   ]
  },
  {
   "cell_type": "code",
   "execution_count": 29,
   "id": "498db1b2-a13a-4096-8212-1383679de00a",
   "metadata": {},
   "outputs": [
    {
     "name": "stdout",
     "output_type": "stream",
     "text": [
      "The cube of pi to 6 decimal places is 31.006277\n"
     ]
    }
   ],
   "source": [
    "print(f'The cube of pi to 6 decimal places is {np.pi**3:.6f}')\n",
    "#import numpy as np\n",
    "#calculates the cube of pi\n",
    "#f: tell the f-string to output the number in decimal notations\n",
    "#6f: precision of 6 decimal places"
   ]
  },
  {
   "cell_type": "code",
   "execution_count": 30,
   "id": "8a4906c0-aa5c-488a-9880-0afff034d57c",
   "metadata": {},
   "outputs": [
    {
     "name": "stdout",
     "output_type": "stream",
     "text": [
      "The cube of pi to 6 decimal places is 3.100628e+01\n"
     ]
    }
   ],
   "source": [
    "print(f'The cube of pi to 6 decimal places is {np.pi**3:.6e}')\n",
    "#import numpy as np\n",
    "#calculates the cube of pi\n",
    "#6e: precision of 6 decimal places in scientific notation"
   ]
  },
  {
   "cell_type": "code",
   "execution_count": null,
   "id": "7f09f0d3-90cc-4653-8fc0-57ce920a4f10",
   "metadata": {},
   "outputs": [],
   "source": [
    "{X:>0Y.ZW} #structure of strings - look at sp2273 website notes"
   ]
  },
  {
   "cell_type": "markdown",
   "id": "fa5a3ff5",
   "metadata": {},
   "source": [
    "# Escape sequences"
   ]
  },
  {
   "cell_type": "markdown",
   "id": "000566d3-d17f-4a26-ab6b-cc30335edf0c",
   "metadata": {},
   "source": [
    "**Example 1**"
   ]
  },
  {
   "cell_type": "code",
   "execution_count": null,
   "id": "94af4d3c-b84c-4da1-9ed4-de347bbb276e",
   "metadata": {},
   "outputs": [],
   "source": [
    "#\\n breakline, \\t tab"
   ]
  },
  {
   "cell_type": "code",
   "execution_count": 31,
   "id": "ea4c6686-392f-4d0f-83fd-7560483f6b47",
   "metadata": {},
   "outputs": [
    {
     "name": "stdout",
     "output_type": "stream",
     "text": [
      "Line 1\n",
      "\tLine 2\n",
      "\t\tLine 3\n"
     ]
    }
   ],
   "source": [
    "print('Line 1\\n\\tLine 2\\n\\t\\tLine 3') #line 1, break a line, break a tab --> line 2, break a line, break a tab x 2 --> line 3"
   ]
  },
  {
   "cell_type": "markdown",
   "id": "6dbd989d-4761-4cd5-a1dd-2d68352b5ece",
   "metadata": {},
   "source": [
    "**Example 2**"
   ]
  },
  {
   "cell_type": "code",
   "execution_count": 33,
   "id": "0fb37092-2a66-4807-bdc5-2a05e3b4a171",
   "metadata": {},
   "outputs": [
    {
     "name": "stdout",
     "output_type": "stream",
     "text": [
      "You're twenty years old.\n"
     ]
    }
   ],
   "source": [
    "print(\"You're twenty years old.\") #use both single and double quotation marks"
   ]
  },
  {
   "cell_type": "code",
   "execution_count": 34,
   "id": "47f021e4-a22d-45f5-ad50-426be5f99b01",
   "metadata": {},
   "outputs": [
    {
     "name": "stdout",
     "output_type": "stream",
     "text": [
      "You're twenty years old.\n"
     ]
    }
   ],
   "source": [
    "print('You\\'re twenty years old.') #can use only the single quotation mark"
   ]
  },
  {
   "cell_type": "markdown",
   "id": "d49e2ff0-00ff-45c9-be76-ffed246c5b22",
   "metadata": {},
   "source": [
    "**Example 3**"
   ]
  },
  {
   "cell_type": "code",
   "execution_count": 39,
   "id": "fd7ccb0f-4ef4-4d05-a864-a49ac2d8ce6a",
   "metadata": {},
   "outputs": [
    {
     "name": "stdout",
     "output_type": "stream",
     "text": [
      "A\\B\\C\n"
     ]
    }
   ],
   "source": [
    "print('A\\\\B\\\\C')"
   ]
  },
  {
   "cell_type": "markdown",
   "id": "021d2801-7393-4744-8de2-30c93759f548",
   "metadata": {},
   "source": [
    "**Example 4**"
   ]
  },
  {
   "cell_type": "code",
   "execution_count": 42,
   "id": "f3b7b49f-3d94-46df-815d-a328991d878f",
   "metadata": {},
   "outputs": [
    {
     "name": "stdout",
     "output_type": "stream",
     "text": [
      "A\n",
      "B\n",
      "C\n"
     ]
    }
   ],
   "source": [
    "print('A\\nB\\nC')"
   ]
  },
  {
   "cell_type": "markdown",
   "id": "b2d1c06a",
   "metadata": {},
   "source": [
    "# Computers read = from Right to Left!"
   ]
  },
  {
   "cell_type": "code",
   "execution_count": 43,
   "id": "aff94737-b99f-42ba-aea0-7f20987cfa4a",
   "metadata": {},
   "outputs": [],
   "source": [
    "x = 40\n",
    "y = x + 2"
   ]
  },
  {
   "cell_type": "code",
   "execution_count": 44,
   "id": "08dd48bf-4f1f-4fd1-867d-28c4cce97d21",
   "metadata": {},
   "outputs": [
    {
     "data": {
      "text/plain": [
       "42"
      ]
     },
     "execution_count": 44,
     "metadata": {},
     "output_type": "execute_result"
    }
   ],
   "source": [
    "y"
   ]
  },
  {
   "cell_type": "code",
   "execution_count": null,
   "id": "74a9da1f-58f7-445f-9347-19cf0b264e3d",
   "metadata": {},
   "outputs": [],
   "source": [
    "y = 40\n",
    "y = y + 2"
   ]
  },
  {
   "cell_type": "code",
   "execution_count": 45,
   "id": "ac0e6c0b-b61f-4f70-919d-236151048afd",
   "metadata": {},
   "outputs": [
    {
     "name": "stdout",
     "output_type": "stream",
     "text": [
      "42\n"
     ]
    }
   ],
   "source": [
    "y = 40\n",
    "y = y + 2\n",
    "print(y)"
   ]
  },
  {
   "cell_type": "code",
   "execution_count": 46,
   "id": "cf3112df-cfba-43a7-b6f2-23af0b920955",
   "metadata": {},
   "outputs": [],
   "source": [
    "x=y=10"
   ]
  },
  {
   "cell_type": "markdown",
   "id": "7a7a2cb4",
   "metadata": {},
   "source": [
    "# Shorter and Cleaner Code"
   ]
  },
  {
   "cell_type": "code",
   "execution_count": 47,
   "id": "223a1935-db8c-40c9-9472-9d69db33a118",
   "metadata": {},
   "outputs": [
    {
     "data": {
      "text/plain": [
       "42"
      ]
     },
     "execution_count": 47,
     "metadata": {},
     "output_type": "execute_result"
    }
   ],
   "source": [
    "y = 40\n",
    "y = y + 2\n",
    "y #incrementing the value a variable 'y' by 2\n"
   ]
  },
  {
   "cell_type": "code",
   "execution_count": null,
   "id": "77230988-ec30-4409-afc6-71099255df87",
   "metadata": {},
   "outputs": [],
   "source": [
    "y = 40\n",
    "y += 2    # Same as y = y + 2\n",
    "y"
   ]
  },
  {
   "cell_type": "code",
   "execution_count": 50,
   "id": "e72aac47-8b52-4451-9123-b5217fbb0c23",
   "metadata": {},
   "outputs": [
    {
     "data": {
      "text/plain": [
       "20.0"
      ]
     },
     "execution_count": 50,
     "metadata": {},
     "output_type": "execute_result"
    }
   ],
   "source": [
    "y = 40\n",
    "y /= 2    # Same as y = y / 2\n",
    "y"
   ]
  },
  {
   "cell_type": "markdown",
   "id": "9c8df106",
   "metadata": {},
   "source": [
    "# Python can be a prima-donna."
   ]
  },
  {
   "cell_type": "code",
   "execution_count": null,
   "id": "319308b7-cf0e-4c27-891b-71e55db1db9c",
   "metadata": {},
   "outputs": [],
   "source": []
  },
  {
   "cell_type": "markdown",
   "id": "495e6360",
   "metadata": {},
   "source": [
    "# Best Practices for Scientific Computing"
   ]
  },
  {
   "cell_type": "code",
   "execution_count": null,
   "id": "27f773c7-cc6c-4e20-b231-5f6d49803caa",
   "metadata": {},
   "outputs": [],
   "source": []
  },
  {
   "cell_type": "markdown",
   "id": "4209dabd",
   "metadata": {},
   "source": [
    "# Looking for help"
   ]
  },
  {
   "cell_type": "code",
   "execution_count": 1,
   "id": "d05d191d-96ab-47f0-9f11-4ddfc7d762db",
   "metadata": {},
   "outputs": [
    {
     "name": "stdout",
     "output_type": "stream",
     "text": [
      "Help on built-in function print in module builtins:\n",
      "\n",
      "print(*args, sep=' ', end='\\n', file=None, flush=False)\n",
      "    Prints the values to a stream, or to sys.stdout by default.\n",
      "    \n",
      "    sep\n",
      "      string inserted between values, default a space.\n",
      "    end\n",
      "      string appended after the last value, default a newline.\n",
      "    file\n",
      "      a file-like object (stream); defaults to the current sys.stdout.\n",
      "    flush\n",
      "      whether to forcibly flush the stream.\n",
      "\n"
     ]
    }
   ],
   "source": [
    "help(print)"
   ]
  },
  {
   "cell_type": "code",
   "execution_count": null,
   "id": "2cb661c6-d26a-4af3-b1b0-e35a0dd5bdf6",
   "metadata": {},
   "outputs": [],
   "source": []
  }
 ],
 "metadata": {
  "kernelspec": {
   "display_name": "Python 3 (ipykernel)",
   "language": "python",
   "name": "python3"
  },
  "language_info": {
   "codemirror_mode": {
    "name": "ipython",
    "version": 3
   },
   "file_extension": ".py",
   "mimetype": "text/x-python",
   "name": "python",
   "nbconvert_exporter": "python",
   "pygments_lexer": "ipython3",
   "version": "3.11.5"
  },
  "toc": {
   "base_numbering": 1,
   "nav_menu": {},
   "number_sections": true,
   "sideBar": true,
   "skip_h1_title": false,
   "title_cell": "Table of Contents",
   "title_sidebar": "Contents",
   "toc_cell": false,
   "toc_position": {},
   "toc_section_display": true,
   "toc_window_display": false
  },
  "vscode": {
   "interpreter": {
    "hash": "31f2aee4e71d21fbe5cf8b01ff0e069b9275f58929596ceb00d14d90e3e16cd6"
   }
  }
 },
 "nbformat": 4,
 "nbformat_minor": 5
}
