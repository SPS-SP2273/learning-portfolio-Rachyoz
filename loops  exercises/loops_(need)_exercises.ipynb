{
 "cells": [
  {
   "attachments": {},
   "cell_type": "markdown",
   "id": "123456",
   "metadata": {},
   "source": [
    "<div style=\"text-align:left;font-size:2em\"><span style=\"font-weight:bolder;font-size:1.25em\">SP2273 | Learning Portfolio</span><br><br><span style=\"font-weight:bold;color:darkred\">Loops (Need) Exercises</span></div>"
   ]
  },
  {
   "cell_type": "markdown",
   "id": "47932e80-24f3-4a83-918c-5f0521779ccd",
   "metadata": {},
   "source": [
    "Exercise 1"
   ]
  },
  {
   "cell_type": "code",
   "execution_count": 2,
   "id": "07ab1a3b-db39-4ddd-bd9b-d00d9c09a4a6",
   "metadata": {},
   "outputs": [],
   "source": [
    "temperatures_celsius = [\n",
    "    0, 5, 10, 15, 20, 25,\n",
    "    30, 35, 40, 45, 50\n",
    "]"
   ]
  },
  {
   "cell_type": "code",
   "execution_count": 6,
   "id": "47f3b20d-436c-44d0-94af-429f18ffeac0",
   "metadata": {},
   "outputs": [
    {
     "name": "stdout",
     "output_type": "stream",
     "text": [
      "temperatures in fahrenheit: [32.0, 41.0, 50.0, 59.0, 68.0, 77.0, 86.0, 95.0, 104.0, 113.0, 122.0]\n"
     ]
    }
   ],
   "source": [
    "temperatures_fahrenheit = [(9/5*temp+32)for temp in temperatures_celsius]\n",
    "print(\"temperatures in fahrenheit:\",temperatures_fahrenheit)"
   ]
  },
  {
   "cell_type": "markdown",
   "id": "9f7adffa-6a73-43dc-980f-59e0759a92d3",
   "metadata": {},
   "source": []
  },
  {
   "cell_type": "code",
   "execution_count": 7,
   "id": "8335b653-b1d5-4c6b-b53a-7763e7d394d5",
   "metadata": {},
   "outputs": [
    {
     "ename": "TypeError",
     "evalue": "can't multiply sequence by non-int of type 'float'",
     "output_type": "error",
     "traceback": [
      "\u001b[1;31m---------------------------------------------------------------------------\u001b[0m",
      "\u001b[1;31mTypeError\u001b[0m                                 Traceback (most recent call last)",
      "Cell \u001b[1;32mIn[7], line 1\u001b[0m\n\u001b[1;32m----> 1\u001b[0m temperatures_fahrenheit \u001b[38;5;241m=\u001b[39m [(\u001b[38;5;241;43m9\u001b[39;49m\u001b[38;5;241;43m/\u001b[39;49m\u001b[38;5;241;43m5\u001b[39;49m\u001b[38;5;241;43m*\u001b[39;49m\u001b[43mtemperatures_celsius\u001b[49m\u001b[38;5;241m+\u001b[39m\u001b[38;5;241m32\u001b[39m)]\n\u001b[0;32m      2\u001b[0m \u001b[38;5;28mprint\u001b[39m(\u001b[38;5;124m\"\u001b[39m\u001b[38;5;124mtemperatures in fahrenheit\u001b[39m\u001b[38;5;124m\"\u001b[39m)\n",
      "\u001b[1;31mTypeError\u001b[0m: can't multiply sequence by non-int of type 'float'"
     ]
    }
   ],
   "source": [
    "temperatures_fahrenheit = [(9/5*temperatures_celsius+32)]\n",
    "print(\"temperatures in fahrenheit\")"
   ]
  },
  {
   "cell_type": "markdown",
   "id": "9118ee4d-1af7-48b0-875a-fd2b9c30d389",
   "metadata": {},
   "source": [
    "Example 2"
   ]
  },
  {
   "cell_type": "code",
   "execution_count": 8,
   "id": "da65ffb6-4d76-4625-91c0-5d4dcafe035a",
   "metadata": {},
   "outputs": [
    {
     "name": "stdout",
     "output_type": "stream",
     "text": [
      "A1\tA2\tA3\t\n",
      "\n",
      "B1\tB2\tB3\t\n",
      "\n",
      "C1\tC2\tC3\t\n",
      "\n"
     ]
    }
   ],
   "source": [
    "for letter in ['A', 'B', 'C']: #outer loop, the variable letter takes on the value A B C in each iteration\n",
    "    for number in [1, 2, 3]: #inner loop, the variable number takes on the value 1 2 3 in each iteration\n",
    "        print(f'{letter}{number}', end='\\t')\n",
    "    print('\\n')"
   ]
  },
  {
   "cell_type": "code",
   "execution_count": 12,
   "id": "ce96b7af-9b90-4959-83b9-da506c7d1a90",
   "metadata": {},
   "outputs": [],
   "source": [
    "multiplication_of_1=[1,2,3,4,5]\n"
   ]
  },
  {
   "cell_type": "code",
   "execution_count": 15,
   "id": "7dd31eaa-24ba-4411-87e3-8fda5a78bdd2",
   "metadata": {},
   "outputs": [
    {
     "name": "stdout",
     "output_type": "stream",
     "text": [
      "1: 1\n",
      "2: 2\n",
      "3: 3\n",
      "4: 4\n",
      "5: 5\n"
     ]
    }
   ],
   "source": [
    "for count, m1 in enumerate(multiplication_of_1, start=1):\n",
    "    print(f'{count}: {m1}')"
   ]
  },
  {
   "cell_type": "code",
   "execution_count": 36,
   "id": "33b21c7c-ce4d-403c-93e3-cddc1da5c9f3",
   "metadata": {},
   "outputs": [
    {
     "name": "stdout",
     "output_type": "stream",
     "text": [
      "1:\t1\t\n",
      "2\t\n",
      "3\t\n",
      "4\t\n",
      "5\t\n",
      "\n",
      "2:\t2\t\n",
      "4\t\n",
      "6\t\n",
      "8\t\n",
      "10\t\n",
      "\n",
      "3:\t3\t\n",
      "6\t\n",
      "9\t\n",
      "12\t\n",
      "15\t\n",
      "\n",
      "4:\t4\t\n",
      "8\t\n",
      "12\t\n",
      "16\t\n",
      "20\t\n",
      "\n",
      "5:\t5\t\n",
      "10\t\n",
      "15\t\n",
      "20\t\n",
      "25\t\n",
      "\n"
     ]
    }
   ],
   "source": [
    "for i in range(1,6): #6 not inclusive, stops at 5\n",
    "    print(f\"{i}:\",end='\\t')\n",
    "    for j in range (1,6):\n",
    "        print(f\"{i*j}\\t\")\n",
    "    print()\n",
    "\n",
    "\n",
    "#\\t tab, \\n break line"
   ]
  },
  {
   "cell_type": "code",
   "execution_count": null,
   "id": "1c8aa526-c6a6-4b1f-a5f8-2ef37197d609",
   "metadata": {},
   "outputs": [],
   "source": []
  }
 ],
 "metadata": {
  "kernelspec": {
   "display_name": "Python 3 (ipykernel)",
   "language": "python",
   "name": "python3"
  },
  "language_info": {
   "codemirror_mode": {
    "name": "ipython",
    "version": 3
   },
   "file_extension": ".py",
   "mimetype": "text/x-python",
   "name": "python",
   "nbconvert_exporter": "python",
   "pygments_lexer": "ipython3",
   "version": "3.11.5"
  },
  "toc": {
   "base_numbering": 1,
   "nav_menu": {},
   "number_sections": true,
   "sideBar": true,
   "skip_h1_title": false,
   "title_cell": "Table of Contents",
   "title_sidebar": "Contents",
   "toc_cell": false,
   "toc_position": {},
   "toc_section_display": true,
   "toc_window_display": false
  },
  "vscode": {
   "interpreter": {
    "hash": "31f2aee4e71d21fbe5cf8b01ff0e069b9275f58929596ceb00d14d90e3e16cd6"
   }
  }
 },
 "nbformat": 4,
 "nbformat_minor": 5
}
