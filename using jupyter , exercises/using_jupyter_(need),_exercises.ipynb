{
 "cells": [
  {
   "attachments": {},
   "cell_type": "markdown",
   "id": "123456",
   "metadata": {},
   "source": [
    "<div style=\"text-align:left;font-size:2em\"><span style=\"font-weight:bolder;font-size:1.25em\">SP2273 | Learning Portfolio</span><br><br><span style=\"font-weight:bold;color:darkred\">Using Jupyter (Need), Exercises</span></div>"
   ]
  },
  {
   "attachments": {},
   "cell_type": "markdown",
   "id": "7ef24684",
   "metadata": {},
   "source": [
    "# Quadratic Equations"
   ]
  },
  {
   "attachments": {},
   "cell_type": "markdown",
   "id": "7a4788db",
   "metadata": {},
   "source": [
    "## Introduction"
   ]
  },
  {
   "cell_type": "markdown",
   "id": "52bb99eb-8017-4674-9c57-e45cf0f30eb1",
   "metadata": {},
   "source": [
    "The general form of a quadratic equation is: \n",
    "$$\n",
    "                                                        {ax^2+bx+c=0}\n",
    "$$"
   ]
  },
  {
   "attachments": {},
   "cell_type": "markdown",
   "id": "62f5dcf3",
   "metadata": {},
   "source": [
    "## Solutions"
   ]
  },
  {
   "cell_type": "markdown",
   "id": "4edd4e4c-e597-4985-a18b-98e62f811a58",
   "metadata": {},
   "source": [
    "Provided $a\\ne 0$, we can use an elementary algebraic method called completing the square to show that a quadratic equation has the following solution:\n",
    "\n",
    "\n",
    "$$\r\n",
    "x = \\dfrac{-b \\pm \\sqrt{b^2-4ac}}{2a}\r\n",
    "$$\n"
   ]
  },
  {
   "attachments": {},
   "cell_type": "markdown",
   "id": "12d3a3ac",
   "metadata": {},
   "source": [
    "## Discriminant"
   ]
  },
  {
   "cell_type": "markdown",
   "id": "da0d1dce-d14e-4d75-a6e5-3e93fc0a5123",
   "metadata": {},
   "source": [
    "The The quantity $\\Delta=\\sqrt{b^2-4ac}$ is called the discriminant of the equation and decides the nature of its solutions. The table below shows the various possibilities."
   ]
  },
  {
   "cell_type": "markdown",
   "id": "ec7509c7-594e-4b75-8013-e4e60254486e",
   "metadata": {},
   "source": [
    "| Discriminant     |    Roots |\n",
    "| :--- | ---: |\n",
    "| $\\Delta=\\sqrt{b^2-4ac}=0$   |   A single solution of ${-b/(2a)}$ |\n",
    "| $\\Delta=\\sqrt{b^2-4ac}\\gt0$  |   Two distinct solutions |\n",
    "| $\\Delta=\\sqrt{b^2-4ac}\\lt0$   |   No real solutions; both are complex. |"
   ]
  },
  {
   "cell_type": "markdown",
   "id": "035129f8-a2dd-4950-9d5e-7c3232dd1390",
   "metadata": {},
   "source": [
    "Exercise 2"
   ]
  },
  {
   "cell_type": "markdown",
   "id": "b3a0fe3c-3ba5-4d39-8cbf-a32d0b8627d0",
   "metadata": {},
   "source": [
    "What is a Git repository? data structure that stores metadata for a set of files and directories, as well as the changes made to them over time. \r\n",
    "Git keeps tracks ofchanges_ in the files in our repositoryktop?"
   ]
  },
  {
   "cell_type": "markdown",
   "id": "439a6f8a-3414-457a-bbd4-f81c79a1ca20",
   "metadata": {},
   "source": [
    "What is a commit? a snapshot of changes made to the files in a Git repository at a specific point in time. When you commit changes, you are saving the current state of your working directory along with a commit message that describes the changes you made."
   ]
  },
  {
   "cell_type": "markdown",
   "id": "3479277e-2ff9-4d07-a10f-94999066452b",
   "metadata": {},
   "source": [
    "What is a push? uploading or sending the local changes and commits made on your machine to a remote repository. "
   ]
  },
  {
   "cell_type": "markdown",
   "id": "764218ab-7763-44eb-b093-e41019ad6f3f",
   "metadata": {},
   "source": [
    "What is a pull? action of fetching and integrating changes from a remote repository into your local branch. "
   ]
  },
  {
   "cell_type": "markdown",
   "id": "28afda6c-a419-4394-b663-be624f932136",
   "metadata": {},
   "source": [
    "What is the difference between GitHub and GitHub Desktop? GitHub is a web platform for hosting Git repositories and collaborative software development, while GitHub Desktop is a desktop application that provides a user-friendly interface for interacting with Git repositories"
   ]
  },
  {
   "cell_type": "code",
   "execution_count": null,
   "id": "63bc95b8-63a8-4383-863c-e11fbc414788",
   "metadata": {},
   "outputs": [],
   "source": []
  },
  {
   "cell_type": "code",
   "execution_count": null,
   "id": "f65a95f0-327c-4919-be5e-4679e3cd0bd2",
   "metadata": {},
   "outputs": [],
   "source": []
  },
  {
   "cell_type": "code",
   "execution_count": null,
   "id": "8c15b2f7-a061-45af-8d55-0d311cc9cd1d",
   "metadata": {},
   "outputs": [],
   "source": []
  }
 ],
 "metadata": {
  "kernelspec": {
   "display_name": "Python 3 (ipykernel)",
   "language": "python",
   "name": "python3"
  },
  "language_info": {
   "codemirror_mode": {
    "name": "ipython",
    "version": 3
   },
   "file_extension": ".py",
   "mimetype": "text/x-python",
   "name": "python",
   "nbconvert_exporter": "python",
   "pygments_lexer": "ipython3",
   "version": "3.11.5"
  },
  "toc": {
   "base_numbering": 1,
   "nav_menu": {},
   "number_sections": true,
   "sideBar": true,
   "skip_h1_title": false,
   "title_cell": "Table of Contents",
   "title_sidebar": "Contents",
   "toc_cell": false,
   "toc_position": {},
   "toc_section_display": true,
   "toc_window_display": false
  },
  "vscode": {
   "interpreter": {
    "hash": "31f2aee4e71d21fbe5cf8b01ff0e069b9275f58929596ceb00d14d90e3e16cd6"
   }
  }
 },
 "nbformat": 4,
 "nbformat_minor": 5
}
