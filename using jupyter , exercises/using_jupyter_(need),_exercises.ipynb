{
 "cells": [
  {
   "attachments": {},
   "cell_type": "markdown",
   "id": "123456",
   "metadata": {},
   "source": [
    "<div style=\"text-align:left;font-size:2em\"><span style=\"font-weight:bolder;font-size:1.25em\">SP2273 | Learning Portfolio</span><br><br><span style=\"font-weight:bold;color:darkred\">Using Jupyter (Need), Exercises</span></div>"
   ]
  },
  {
   "attachments": {},
   "cell_type": "markdown",
   "id": "7ef24684",
   "metadata": {},
   "source": [
    "# Quadratic Equations"
   ]
  },
  {
   "attachments": {},
   "cell_type": "markdown",
   "id": "7a4788db",
   "metadata": {},
   "source": [
    "## Introduction"
   ]
  },
  {
   "cell_type": "markdown",
   "id": "52bb99eb-8017-4674-9c57-e45cf0f30eb1",
   "metadata": {},
   "source": [
    "The general form of a quadratic equation is: \n",
    "                                                        ${ax^2+bx+c=0}$"
   ]
  },
  {
   "attachments": {},
   "cell_type": "markdown",
   "id": "62f5dcf3",
   "metadata": {},
   "source": [
    "## Solutions"
   ]
  },
  {
   "cell_type": "markdown",
   "id": "4edd4e4c-e597-4985-a18b-98e62f811a58",
   "metadata": {},
   "source": [
    "Provided $a\\ne 0$, we can use an elementary algebraic method called completing the square to show that a quadratic equation has the following solution:\n",
    "\n",
    "\n",
    "$$\r\n",
    "x = \\dfrac{-b \\pm \\sqrt{b^2-4ac}}{2a}\r\n",
    "$$$$\n"
   ]
  },
  {
   "attachments": {},
   "cell_type": "markdown",
   "id": "12d3a3ac",
   "metadata": {},
   "source": [
    "## Discriminant"
   ]
  },
  {
   "cell_type": "markdown",
   "id": "da0d1dce-d14e-4d75-a6e5-3e93fc0a5123",
   "metadata": {},
   "source": [
    "The The quantity $\\sqrt{b^2-4ac}$ is called the discriminant of the equation and decides the nature of its solutions. The table below shows the various possibilities."
   ]
  },
  {
   "cell_type": "markdown",
   "id": "ec7509c7-594e-4b75-8013-e4e60254486e",
   "metadata": {},
   "source": [
    "| Discriminant     |    Roots |\n",
    "| :--- | ---: |\n",
    "| $\\sqrt{b^2-4ac}=0$   |   A single solution of ${-b/(2a)}$ |\n",
    "| $\\sqrt{b^2-4ac}\\gt0$  |   Two distinct solutions |\n",
    "| $\\sqrt{b^2-4ac}\\lt0$   |   No real solutions; both are complex. |"
   ]
  },
  {
   "cell_type": "markdown",
   "id": "035129f8-a2dd-4950-9d5e-7c3232dd1390",
   "metadata": {},
   "source": [
    "Exercise 2"
   ]
  },
  {
   "cell_type": "markdown",
   "id": "b3a0fe3c-3ba5-4d39-8cbf-a32d0b8627d0",
   "metadata": {},
   "source": [
    "What is a Git repository?\r\n",
    "Git keeps tracks of ____BLANK____ in the files in our repository.\r\n",
    "What is a commit?\r\n",
    "What is a push?\r\n",
    "What is a pull?\r\n",
    "What is the difference between GitHub and GitHub Desktop?"
   ]
  },
  {
   "cell_type": "code",
   "execution_count": null,
   "id": "59654efb-114c-4767-a359-0ea867b342e1",
   "metadata": {},
   "outputs": [],
   "source": []
  }
 ],
 "metadata": {
  "kernelspec": {
   "display_name": "Python 3 (ipykernel)",
   "language": "python",
   "name": "python3"
  },
  "language_info": {
   "codemirror_mode": {
    "name": "ipython",
    "version": 3
   },
   "file_extension": ".py",
   "mimetype": "text/x-python",
   "name": "python",
   "nbconvert_exporter": "python",
   "pygments_lexer": "ipython3",
   "version": "3.11.5"
  },
  "toc": {
   "base_numbering": 1,
   "nav_menu": {},
   "number_sections": true,
   "sideBar": true,
   "skip_h1_title": false,
   "title_cell": "Table of Contents",
   "title_sidebar": "Contents",
   "toc_cell": false,
   "toc_position": {},
   "toc_section_display": true,
   "toc_window_display": false
  },
  "vscode": {
   "interpreter": {
    "hash": "31f2aee4e71d21fbe5cf8b01ff0e069b9275f58929596ceb00d14d90e3e16cd6"
   }
  }
 },
 "nbformat": 4,
 "nbformat_minor": 5
}
